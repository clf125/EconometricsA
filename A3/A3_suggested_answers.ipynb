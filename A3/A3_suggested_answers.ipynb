{
 "cells": [
  {
   "cell_type": "code",
   "execution_count": 1,
   "metadata": {},
   "outputs": [],
   "source": [
    "import numpy as np\n",
    "import pandas as pd\n",
    "from linearmodels import IV2SLS, OLS\n",
    "import matplotlib.pyplot as plt\n",
    "import seaborn as sns\n",
    "\n",
    "# Set pandas to display 3 decimals\n",
    "pd.set_option('display.float_format', lambda x: '%.3f' % x)"
   ]
  },
  {
   "cell_type": "code",
   "execution_count": 2,
   "metadata": {},
   "outputs": [],
   "source": [
    "# Load data\n",
    "df = pd.read_stata('X2017S_MetricsI.dta').convert_dtypes()"
   ]
  },
  {
   "cell_type": "markdown",
   "metadata": {},
   "source": [
    "# Problem 1"
   ]
  },
  {
   "cell_type": "markdown",
   "metadata": {},
   "source": [
    "## 1.1"
   ]
  },
  {
   "cell_type": "code",
   "execution_count": 3,
   "metadata": {},
   "outputs": [
    {
     "data": {
      "text/html": [
       "<div>\n",
       "<style scoped>\n",
       "    .dataframe tbody tr th:only-of-type {\n",
       "        vertical-align: middle;\n",
       "    }\n",
       "\n",
       "    .dataframe tbody tr th {\n",
       "        vertical-align: top;\n",
       "    }\n",
       "\n",
       "    .dataframe thead th {\n",
       "        text-align: right;\n",
       "    }\n",
       "</style>\n",
       "<table border=\"1\" class=\"dataframe\">\n",
       "  <thead>\n",
       "    <tr style=\"text-align: right;\">\n",
       "      <th></th>\n",
       "      <th>count</th>\n",
       "      <th>mean</th>\n",
       "      <th>std</th>\n",
       "      <th>min</th>\n",
       "      <th>25%</th>\n",
       "      <th>50%</th>\n",
       "      <th>75%</th>\n",
       "      <th>max</th>\n",
       "    </tr>\n",
       "  </thead>\n",
       "  <tbody>\n",
       "    <tr>\n",
       "      <th>dsL</th>\n",
       "      <td>1324.000</td>\n",
       "      <td>-1.648</td>\n",
       "      <td>2.520</td>\n",
       "      <td>-19.167</td>\n",
       "      <td>-3.065</td>\n",
       "      <td>-1.377</td>\n",
       "      <td>0.010</td>\n",
       "      <td>5.664</td>\n",
       "    </tr>\n",
       "    <tr>\n",
       "      <th>dIPWusch</th>\n",
       "      <td>1324.000</td>\n",
       "      <td>1.933</td>\n",
       "      <td>2.657</td>\n",
       "      <td>-0.629</td>\n",
       "      <td>0.429</td>\n",
       "      <td>1.184</td>\n",
       "      <td>2.500</td>\n",
       "      <td>43.085</td>\n",
       "    </tr>\n",
       "    <tr>\n",
       "      <th>dIPWusmx</th>\n",
       "      <td>1324.000</td>\n",
       "      <td>0.911</td>\n",
       "      <td>1.538</td>\n",
       "      <td>-6.337</td>\n",
       "      <td>0.079</td>\n",
       "      <td>0.427</td>\n",
       "      <td>1.276</td>\n",
       "      <td>12.596</td>\n",
       "    </tr>\n",
       "    <tr>\n",
       "      <th>college</th>\n",
       "      <td>1324.000</td>\n",
       "      <td>45.163</td>\n",
       "      <td>9.071</td>\n",
       "      <td>19.944</td>\n",
       "      <td>38.830</td>\n",
       "      <td>45.301</td>\n",
       "      <td>51.765</td>\n",
       "      <td>69.338</td>\n",
       "    </tr>\n",
       "    <tr>\n",
       "      <th>foreignborn</th>\n",
       "      <td>1324.000</td>\n",
       "      <td>4.973</td>\n",
       "      <td>5.873</td>\n",
       "      <td>0.385</td>\n",
       "      <td>1.660</td>\n",
       "      <td>2.938</td>\n",
       "      <td>5.884</td>\n",
       "      <td>48.908</td>\n",
       "    </tr>\n",
       "    <tr>\n",
       "      <th>routine</th>\n",
       "      <td>1324.000</td>\n",
       "      <td>28.536</td>\n",
       "      <td>3.164</td>\n",
       "      <td>19.992</td>\n",
       "      <td>26.223</td>\n",
       "      <td>28.595</td>\n",
       "      <td>30.655</td>\n",
       "      <td>37.748</td>\n",
       "    </tr>\n",
       "  </tbody>\n",
       "</table>\n",
       "</div>"
      ],
      "text/plain": [
       "               count   mean   std     min    25%    50%    75%    max\n",
       "dsL         1324.000 -1.648 2.520 -19.167 -3.065 -1.377  0.010  5.664\n",
       "dIPWusch    1324.000  1.933 2.657  -0.629  0.429  1.184  2.500 43.085\n",
       "dIPWusmx    1324.000  0.911 1.538  -6.337  0.079  0.427  1.276 12.596\n",
       "college     1324.000 45.163 9.071  19.944 38.830 45.301 51.765 69.338\n",
       "foreignborn 1324.000  4.973 5.873   0.385  1.660  2.938  5.884 48.908\n",
       "routine     1324.000 28.536 3.164  19.992 26.223 28.595 30.655 37.748"
      ]
     },
     "execution_count": 3,
     "metadata": {},
     "output_type": "execute_result"
    }
   ],
   "source": [
    "# Default summary statistics\n",
    "vars = ['dsL', 'dIPWusch', 'dIPWusmx', 'college', 'foreignborn', 'routine']\n",
    "df[vars].describe().T"
   ]
  },
  {
   "cell_type": "code",
   "execution_count": 4,
   "metadata": {},
   "outputs": [
    {
     "data": {
      "text/html": [
       "<div>\n",
       "<style scoped>\n",
       "    .dataframe tbody tr th:only-of-type {\n",
       "        vertical-align: middle;\n",
       "    }\n",
       "\n",
       "    .dataframe tbody tr th {\n",
       "        vertical-align: top;\n",
       "    }\n",
       "\n",
       "    .dataframe thead th {\n",
       "        text-align: right;\n",
       "    }\n",
       "</style>\n",
       "<table border=\"1\" class=\"dataframe\">\n",
       "  <thead>\n",
       "    <tr style=\"text-align: right;\">\n",
       "      <th>t2</th>\n",
       "      <th>0</th>\n",
       "      <th>1</th>\n",
       "    </tr>\n",
       "  </thead>\n",
       "  <tbody>\n",
       "    <tr>\n",
       "      <th>dsL</th>\n",
       "      <td>-0.957</td>\n",
       "      <td>-2.339</td>\n",
       "    </tr>\n",
       "    <tr>\n",
       "      <th>dIPWusch</th>\n",
       "      <td>1.187</td>\n",
       "      <td>2.680</td>\n",
       "    </tr>\n",
       "    <tr>\n",
       "      <th>dIPWusmx</th>\n",
       "      <td>1.385</td>\n",
       "      <td>0.437</td>\n",
       "    </tr>\n",
       "    <tr>\n",
       "      <th>college</th>\n",
       "      <td>42.098</td>\n",
       "      <td>48.228</td>\n",
       "    </tr>\n",
       "    <tr>\n",
       "      <th>foreignborn</th>\n",
       "      <td>3.916</td>\n",
       "      <td>6.030</td>\n",
       "    </tr>\n",
       "    <tr>\n",
       "      <th>routine</th>\n",
       "      <td>28.288</td>\n",
       "      <td>28.784</td>\n",
       "    </tr>\n",
       "  </tbody>\n",
       "</table>\n",
       "</div>"
      ],
      "text/plain": [
       "t2               0      1\n",
       "dsL         -0.957 -2.339\n",
       "dIPWusch     1.187  2.680\n",
       "dIPWusmx     1.385  0.437\n",
       "college     42.098 48.228\n",
       "foreignborn  3.916  6.030\n",
       "routine     28.288 28.784"
      ]
     },
     "execution_count": 4,
     "metadata": {},
     "output_type": "execute_result"
    }
   ],
   "source": [
    "# Show the means separately for  1990-2000 (t1) and 2000-207 (t2)\n",
    "df.groupby('t2')[vars].mean().T"
   ]
  },
  {
   "cell_type": "markdown",
   "metadata": {},
   "source": [
    "## 1.2 Baseline OLS Regression"
   ]
  },
  {
   "cell_type": "code",
   "execution_count": 5,
   "metadata": {},
   "outputs": [
    {
     "name": "stdout",
     "output_type": "stream",
     "text": [
      "                            OLS Estimation Summary                            \n",
      "==============================================================================\n",
      "Dep. Variable:                    dsL   R-squared:                      0.3776\n",
      "Estimator:                        OLS   Adj. R-squared:                 0.3752\n",
      "No. Observations:                1324   F-statistic:                    588.38\n",
      "Date:                Tue, Oct 29 2024   P-value (F-stat)                0.0000\n",
      "Time:                        13:19:40   Distribution:                  chi2(5)\n",
      "Cov. Estimator:                robust                                         \n",
      "                                                                              \n",
      "                              Parameter Estimates                              \n",
      "===============================================================================\n",
      "             Parameter  Std. Err.     T-stat    P-value    Lower CI    Upper CI\n",
      "-------------------------------------------------------------------------------\n",
      "Intercept       5.0983     0.4900     10.404     0.0000      4.1378      6.0588\n",
      "t2             -1.5092     0.1277    -11.821     0.0000     -1.7594     -1.2590\n",
      "dIPWusch       -0.1539     0.0374    -4.1147     0.0000     -0.2272     -0.0806\n",
      "college         0.0836     0.0074     11.366     0.0000      0.0692      0.0980\n",
      "foreignborn     0.0046     0.0067     0.6869     0.4921     -0.0085      0.0177\n",
      "routine        -0.3326     0.0218    -15.248     0.0000     -0.3753     -0.2898\n",
      "===============================================================================\n"
     ]
    }
   ],
   "source": [
    "# I use linearmodels to perform the OLS estimation. Could also have used statsmodels.\n",
    "model12 = OLS.from_formula('dsL ~ 1 + t2 + dIPWusch + college + foreignborn + routine', data=df)\n",
    "results12 = model12.fit() # Linearmodels uses robust standard errors per default.\n",
    "\n",
    "print(results12.summary)\n"
   ]
  },
  {
   "cell_type": "markdown",
   "metadata": {},
   "source": [
    "# Problem 2"
   ]
  },
  {
   "cell_type": "markdown",
   "metadata": {},
   "source": [
    "## 2.1 Show relevance of instrument (First stage regression)"
   ]
  },
  {
   "cell_type": "code",
   "execution_count": 6,
   "metadata": {},
   "outputs": [
    {
     "name": "stdout",
     "output_type": "stream",
     "text": [
      "                            OLS Estimation Summary                            \n",
      "==============================================================================\n",
      "Dep. Variable:               dIPWusch   R-squared:                      0.5103\n",
      "Estimator:                        OLS   Adj. R-squared:                 0.5084\n",
      "No. Observations:                1324   F-statistic:                    627.35\n",
      "Date:                Tue, Oct 29 2024   P-value (F-stat)                0.0000\n",
      "Time:                        13:19:40   Distribution:                  chi2(5)\n",
      "Cov. Estimator:                robust                                         \n",
      "                                                                              \n",
      "                              Parameter Estimates                              \n",
      "===============================================================================\n",
      "             Parameter  Std. Err.     T-stat    P-value    Lower CI    Upper CI\n",
      "-------------------------------------------------------------------------------\n",
      "Intercept      -1.1106     0.4519    -2.4577     0.0140     -1.9962     -0.2249\n",
      "t2              0.3032     0.2772     1.0935     0.2742     -0.2402      0.8465\n",
      "dIPWotch        0.8266     0.1561     5.2971     0.0000      0.5208      1.1325\n",
      "college        -0.0079     0.0118    -0.6662     0.5053     -0.0310      0.0153\n",
      "foreignborn    -0.0191     0.0057    -3.3222     0.0009     -0.0303     -0.0078\n",
      "routine         0.0659     0.0335     1.9684     0.0490      0.0003      0.1314\n",
      "===============================================================================\n"
     ]
    }
   ],
   "source": [
    "model21 = OLS.from_formula('dIPWusch ~ 1 + t2 + dIPWotch + college + foreignborn + routine', data=df)\n",
    "results21 = model21.fit()\n",
    "\n",
    "print(results21)\n"
   ]
  },
  {
   "cell_type": "markdown",
   "metadata": {},
   "source": [
    "## 2.2 IV regression"
   ]
  },
  {
   "cell_type": "code",
   "execution_count": 7,
   "metadata": {},
   "outputs": [
    {
     "name": "stdout",
     "output_type": "stream",
     "text": [
      "                          IV-2SLS Estimation Summary                          \n",
      "==============================================================================\n",
      "Dep. Variable:                    dsL   R-squared:                      0.3324\n",
      "Estimator:                    IV-2SLS   Adj. R-squared:                 0.3299\n",
      "No. Observations:                1324   F-statistic:                    581.74\n",
      "Date:                Tue, Oct 29 2024   P-value (F-stat)                0.0000\n",
      "Time:                        13:19:40   Distribution:                  chi2(5)\n",
      "Cov. Estimator:                robust                                         \n",
      "                                                                              \n",
      "                              Parameter Estimates                              \n",
      "===============================================================================\n",
      "             Parameter  Std. Err.     T-stat    P-value    Lower CI    Upper CI\n",
      "-------------------------------------------------------------------------------\n",
      "Intercept       4.5426     0.5410     8.3961     0.0000      3.4822      5.6030\n",
      "t2             -1.0819     0.2018    -5.3602     0.0000     -1.4775     -0.6863\n",
      "college         0.0687     0.0095     7.2200     0.0000      0.0500      0.0873\n",
      "foreignborn    -0.0071     0.0077    -0.9301     0.3523     -0.0222      0.0079\n",
      "routine        -0.2797     0.0305    -9.1592     0.0000     -0.3395     -0.2198\n",
      "dIPWusch       -0.3799     0.1005    -3.7813     0.0002     -0.5768     -0.1830\n",
      "===============================================================================\n",
      "\n",
      "Endogenous: dIPWusch\n",
      "Instruments: dIPWotch\n",
      "Robust Covariance (Heteroskedastic)\n",
      "Debiased: False\n"
     ]
    }
   ],
   "source": [
    "# Instrumenting dIPWusch with dIPWotch\n",
    "model22 = IV2SLS.from_formula('dsL ~ 1 + [dIPWusch ~ dIPWotch] + t2 + college + foreignborn + routine', data=df) # Remember to include a 1 manually when using linearmodels\n",
    "results22 = model22.fit()\n",
    "\n",
    "print(results22)\n"
   ]
  },
  {
   "cell_type": "markdown",
   "metadata": {},
   "source": [
    "## 2.3 More instruments than endogenous variables"
   ]
  },
  {
   "cell_type": "code",
   "execution_count": 8,
   "metadata": {},
   "outputs": [
    {
     "name": "stdout",
     "output_type": "stream",
     "text": [
      "                          IV-2SLS Estimation Summary                          \n",
      "==============================================================================\n",
      "Dep. Variable:                    dsL   R-squared:                      0.3426\n",
      "Estimator:                    IV-2SLS   Adj. R-squared:                 0.3401\n",
      "No. Observations:                1324   F-statistic:                    584.90\n",
      "Date:                Tue, Oct 29 2024   P-value (F-stat)                0.0000\n",
      "Time:                        13:19:40   Distribution:                  chi2(5)\n",
      "Cov. Estimator:                robust                                         \n",
      "                                                                              \n",
      "                              Parameter Estimates                              \n",
      "===============================================================================\n",
      "             Parameter  Std. Err.     T-stat    P-value    Lower CI    Upper CI\n",
      "-------------------------------------------------------------------------------\n",
      "Intercept       4.6095     0.5120     9.0030     0.0000      3.6060      5.6129\n",
      "t2             -1.1333     0.1743    -6.5015     0.0000     -1.4750     -0.7917\n",
      "college         0.0704     0.0083     8.4875     0.0000      0.0542      0.0867\n",
      "foreignborn    -0.0057     0.0072    -0.7961     0.4260     -0.0198      0.0084\n",
      "routine        -0.2860     0.0258    -11.079     0.0000     -0.3366     -0.2354\n",
      "dIPWusch       -0.3527     0.0786    -4.4884     0.0000     -0.5067     -0.1987\n",
      "===============================================================================\n",
      "\n",
      "Endogenous: dIPWusch\n",
      "Instruments: dIPWotch, dIPWukch\n",
      "Robust Covariance (Heteroskedastic)\n",
      "Debiased: False\n"
     ]
    }
   ],
   "source": [
    "# Using both dIPWotch and dIPWukch as instruments for dIPWusch\n",
    "model23 = IV2SLS.from_formula('dsL ~ 1 + [dIPWusch ~ dIPWotch + dIPWukch] + t2 + college + foreignborn + routine', data=df)\n",
    "results23 = model23.fit() # Robust standard errors per default.\n",
    "\n",
    "print(results23)\n"
   ]
  },
  {
   "cell_type": "markdown",
   "metadata": {},
   "source": [
    "### Test for overidentification"
   ]
  },
  {
   "cell_type": "code",
   "execution_count": 9,
   "metadata": {},
   "outputs": [
    {
     "name": "stdout",
     "output_type": "stream",
     "text": [
      "test = 0.88, critical value = 3.84, overidentified = False\n"
     ]
    }
   ],
   "source": [
    "\n",
    "# Step 1. Get the residuals from the IV regression where we have more instrument than endogenous variables\n",
    "df['res23'] = results23.resids\n",
    "\n",
    "# Step 2. Regress the residuals on the instruments and exogenous variables\n",
    "model23_OI = IV2SLS.from_formula('res23 ~ 1 + dIPWotch + dIPWukch + t2 + college + foreignborn + routine', data=df)\n",
    "results23_OI = model23_OI.fit()\n",
    "\n",
    "# Step 3. Calculate the test statistic\n",
    "N = results23_OI.nobs\n",
    "R2 = results23_OI.rsquared\n",
    "test = N*R2\n",
    "crit = 3.841 # 5% critical value for chi2(1) test\n",
    "\n",
    "print(f'test = {test:.2f}, critical value = {crit:.2f}, overidentified = {test > crit}')"
   ]
  },
  {
   "cell_type": "markdown",
   "metadata": {},
   "source": [
    "## 2.4 Two endogenous variables\n"
   ]
  },
  {
   "cell_type": "code",
   "execution_count": 10,
   "metadata": {},
   "outputs": [
    {
     "name": "stdout",
     "output_type": "stream",
     "text": [
      "                          IV-2SLS Estimation Summary                          \n",
      "==============================================================================\n",
      "Dep. Variable:                    dsL   R-squared:                      0.3088\n",
      "Estimator:                    IV-2SLS   Adj. R-squared:                 0.3057\n",
      "No. Observations:                1324   F-statistic:                    538.01\n",
      "Date:                Tue, Oct 29 2024   P-value (F-stat)                0.0000\n",
      "Time:                        13:19:40   Distribution:                  chi2(6)\n",
      "Cov. Estimator:                robust                                         \n",
      "                                                                              \n",
      "                              Parameter Estimates                              \n",
      "===============================================================================\n",
      "             Parameter  Std. Err.     T-stat    P-value    Lower CI    Upper CI\n",
      "-------------------------------------------------------------------------------\n",
      "Intercept       4.4299     0.5490     8.0695     0.0000      3.3540      5.5059\n",
      "t2             -1.3575     0.3745    -3.6252     0.0003     -2.0914     -0.6236\n",
      "college         0.0606     0.0131     4.6404     0.0000      0.0350      0.0862\n",
      "foreignborn    -0.0122     0.0100    -1.2165     0.2238     -0.0318      0.0074\n",
      "routine        -0.2511     0.0437    -5.7523     0.0000     -0.3367     -0.1656\n",
      "dIPWusch       -0.3403     0.1010    -3.3677     0.0008     -0.5383     -0.1423\n",
      "dIPWusmx       -0.2767     0.3231    -0.8562     0.3919     -0.9100      0.3567\n",
      "===============================================================================\n",
      "\n",
      "Endogenous: dIPWusch, dIPWusmx\n",
      "Instruments: dIPWotch, dIPWotmx\n",
      "Robust Covariance (Heteroskedastic)\n",
      "Debiased: False\n"
     ]
    }
   ],
   "source": [
    "# Instrumenting dIPWusch and dIPWusmx with dIPWotch and dIPWotmx\n",
    "model24 = IV2SLS.from_formula('dsL ~ 1 + [dIPWusch + dIPWusmx ~ dIPWotch + dIPWotmx] + t2 + college + foreignborn + routine', data=df)\n",
    "results24 = model24.fit() \n",
    "\n",
    "print(results24)\n"
   ]
  },
  {
   "cell_type": "code",
   "execution_count": 11,
   "metadata": {},
   "outputs": [
    {
     "data": {
      "text/plain": [
       "Linear Equality Hypothesis Test\n",
       "H0: Linear equality constraint is valid\n",
       "Statistic: 0.0282\n",
       "P-value: 0.8666\n",
       "Distributed: chi2(1)\n",
       "WaldTestStatistic, id: 0x14bd53e50"
      ]
     },
     "execution_count": 11,
     "metadata": {},
     "output_type": "execute_result"
    }
   ],
   "source": [
    "# Test if dIPWusch = dIPWusmx\n",
    "results24.wald_test(formula='dIPWusch = dIPWusmx')"
   ]
  },
  {
   "cell_type": "markdown",
   "metadata": {},
   "source": [
    "### Optional: Create a comparison table\n",
    "\n",
    "This is a great way to save valuable space in the assignment, if you want to be able to include more text. We put the results of all the different models from Problem 2 in one comparison table using the `compare` feature from linearmodels."
   ]
  },
  {
   "cell_type": "code",
   "execution_count": 12,
   "metadata": {},
   "outputs": [
    {
     "name": "stdout",
     "output_type": "stream",
     "text": [
      "                                Model Comparison                                \n",
      "================================================================================\n",
      "                          Model 1.2      Model 2.2      Model 2.3      Model 2.4\n",
      "--------------------------------------------------------------------------------\n",
      "Dep. Variable                   dsL            dsL            dsL            dsL\n",
      "Estimator                       OLS        IV-2SLS        IV-2SLS        IV-2SLS\n",
      "No. Observations               1324           1324           1324           1324\n",
      "Cov. Est.                    robust         robust         robust         robust\n",
      "R-squared                    0.3776         0.3324         0.3426         0.3088\n",
      "Adj. R-squared               0.3752         0.3299         0.3401         0.3057\n",
      "F-statistic                  588.38         581.74         584.90         538.01\n",
      "P-value (F-stat)             0.0000         0.0000         0.0000         0.0000\n",
      "==================     ============   ============   ============   ============\n",
      "Intercept                 5.0983***      4.5426***      4.6095***      4.4299***\n",
      "                           (10.404)       (8.3961)       (9.0030)       (8.0695)\n",
      "t2                       -1.5092***     -1.0819***     -1.1333***     -1.3575***\n",
      "                          (-11.821)      (-5.3602)      (-6.5015)      (-3.6252)\n",
      "dIPWusch                 -0.1539***     -0.3799***     -0.3527***     -0.3403***\n",
      "                          (-4.1147)      (-3.7813)      (-4.4884)      (-3.3677)\n",
      "college                   0.0836***      0.0687***      0.0704***      0.0606***\n",
      "                           (11.366)       (7.2200)       (8.4875)       (4.6404)\n",
      "foreignborn                  0.0046        -0.0071        -0.0057        -0.0122\n",
      "                           (0.6869)      (-0.9301)      (-0.7961)      (-1.2165)\n",
      "routine                  -0.3326***     -0.2797***     -0.2860***     -0.2511***\n",
      "                          (-15.248)      (-9.1592)      (-11.079)      (-5.7523)\n",
      "dIPWusmx                                                                 -0.2767\n",
      "                                                                       (-0.8562)\n",
      "==================== ============== ============== ============== ==============\n",
      "Instruments                               dIPWotch       dIPWotch       dIPWotch\n",
      "                                                         dIPWukch       dIPWotmx\n",
      "--------------------------------------------------------------------------------\n",
      "\n",
      "T-stats reported in parentheses\n"
     ]
    }
   ],
   "source": [
    "from linearmodels.iv import compare\n",
    "results = {'Model 1.2': results12, \n",
    "           'Model 2.2': results22, \n",
    "           'Model 2.3': results23,\n",
    "           'Model 2.4': results24}\n",
    "\n",
    "table = compare(results, stars=True)\n",
    "\n",
    "print(table)"
   ]
  },
  {
   "cell_type": "markdown",
   "metadata": {},
   "source": [
    "# Problem 3"
   ]
  },
  {
   "cell_type": "markdown",
   "metadata": {},
   "source": [
    "## 3.1 Manually perform of 2SLS"
   ]
  },
  {
   "cell_type": "code",
   "execution_count": 13,
   "metadata": {},
   "outputs": [
    {
     "name": "stdout",
     "output_type": "stream",
     "text": [
      "                            OLS Estimation Summary                            \n",
      "==============================================================================\n",
      "Dep. Variable:                    dsL   R-squared:                      0.4062\n",
      "Estimator:                        OLS   Adj. R-squared:                 0.4035\n",
      "No. Observations:                1324   F-statistic:                    625.16\n",
      "Date:                Tue, Oct 29 2024   P-value (F-stat)                0.0000\n",
      "Time:                        13:19:40   Distribution:                  chi2(6)\n",
      "Cov. Estimator:                robust                                         \n",
      "                                                                              \n",
      "                               Parameter Estimates                                \n",
      "==================================================================================\n",
      "                Parameter  Std. Err.     T-stat    P-value    Lower CI    Upper CI\n",
      "----------------------------------------------------------------------------------\n",
      "Intercept          4.4865     0.5121     8.7607     0.0000      3.4827      5.4902\n",
      "dIPWusch_hat      -0.2702     0.1012    -2.6686     0.0076     -0.4686     -0.0717\n",
      "t2dIPWusch_hat    -0.1249     0.1115    -1.1203     0.2626     -0.3435      0.0936\n",
      "t2                -0.9222     0.2330    -3.9574     0.0001     -1.3789     -0.4654\n",
      "college            0.0706     0.0080     8.7800     0.0000      0.0548      0.0864\n",
      "foreignborn       -0.0061     0.0069    -0.8813     0.3782     -0.0197      0.0075\n",
      "routine           -0.2853     0.0254    -11.251     0.0000     -0.3350     -0.2356\n",
      "==================================================================================\n"
     ]
    }
   ],
   "source": [
    "# Generate variables\n",
    "df['t2dIPWusch'] = df['t2']*df['dIPWusch']\n",
    "df['t2dIPWotch'] = df['t2']*df['dIPWotch']\n",
    "\n",
    "# First stage 1 and 2\n",
    "model31_fs1 = OLS.from_formula('  dIPWusch ~ 1 + dIPWotch + t2dIPWotch + t2 + college + foreignborn + routine', data=df)\n",
    "model31_fs2 = OLS.from_formula('t2dIPWusch ~ 1 + dIPWotch + t2dIPWotch + t2 + college + foreignborn + routine', data=df)\n",
    "results31_fs1 = model31_fs1.fit()\n",
    "results31_fs2 = model31_fs2.fit()\n",
    "\n",
    "# Predicted values\n",
    "df['dIPWusch_hat']   = results31_fs1.predict()\n",
    "df['t2dIPWusch_hat'] = results31_fs2.predict()\n",
    "\n",
    "# Second stage, using the predicted values as regressors\n",
    "model32_ss = OLS.from_formula('dsL ~ 1 + dIPWusch_hat + t2dIPWusch_hat + t2 + college + foreignborn + routine', data=df)\n",
    "results32_ss = model32_ss.fit()\n",
    "print(results32_ss.summary)\n"
   ]
  },
  {
   "cell_type": "markdown",
   "metadata": {},
   "source": [
    "## 3.2 Using the built-in 2SLS facility"
   ]
  },
  {
   "cell_type": "code",
   "execution_count": 14,
   "metadata": {},
   "outputs": [
    {
     "name": "stdout",
     "output_type": "stream",
     "text": [
      "                          IV-2SLS Estimation Summary                          \n",
      "==============================================================================\n",
      "Dep. Variable:                    dsL   R-squared:                      0.3513\n",
      "Estimator:                    IV-2SLS   Adj. R-squared:                 0.3483\n",
      "No. Observations:                1324   F-statistic:                    608.04\n",
      "Date:                Tue, Oct 29 2024   P-value (F-stat)                0.0000\n",
      "Time:                        13:19:40   Distribution:                  chi2(6)\n",
      "Cov. Estimator:                robust                                         \n",
      "                                                                              \n",
      "                              Parameter Estimates                              \n",
      "===============================================================================\n",
      "             Parameter  Std. Err.     T-stat    P-value    Lower CI    Upper CI\n",
      "-------------------------------------------------------------------------------\n",
      "Intercept       4.4865     0.5489     8.1733     0.0000      3.4106      5.5623\n",
      "t2             -0.9222     0.2980    -3.0944     0.0020     -1.5063     -0.3381\n",
      "college         0.0706     0.0091     7.7897     0.0000      0.0528      0.0884\n",
      "foreignborn    -0.0061     0.0075    -0.8122     0.4167     -0.0208      0.0086\n",
      "routine        -0.2853     0.0294    -9.7031     0.0000     -0.3429     -0.2277\n",
      "dIPWusch       -0.2702     0.1204    -2.2430     0.0249     -0.5062     -0.0341\n",
      "t2dIPWusch     -0.1249     0.1351    -0.9249     0.3550     -0.3897      0.1398\n",
      "===============================================================================\n",
      "\n",
      "Endogenous: dIPWusch, t2dIPWusch\n",
      "Instruments: dIPWotch, t2dIPWotch\n",
      "Robust Covariance (Heteroskedastic)\n",
      "Debiased: False\n"
     ]
    }
   ],
   "source": [
    "# Note that the estimates are identical to those from 3.1, but standard errors differ.\n",
    "model32 = IV2SLS.from_formula('dsL ~ 1 + [dIPWusch + t2dIPWusch ~ dIPWotch + t2dIPWotch] + t2 + college + foreignborn + routine', data=df)\n",
    "results32 = model32.fit()\n",
    "print(results32)"
   ]
  },
  {
   "cell_type": "code",
   "execution_count": 15,
   "metadata": {},
   "outputs": [
    {
     "data": {
      "text/plain": [
       "Linear Equality Hypothesis Test\n",
       "H0: Linear equality constraint is valid\n",
       "Statistic: 0.3983\n",
       "P-value: 0.5280\n",
       "Distributed: chi2(1)\n",
       "WaldTestStatistic, id: 0x14bccb5d0"
      ]
     },
     "execution_count": 15,
     "metadata": {},
     "output_type": "execute_result"
    }
   ],
   "source": [
    "# Test whether the effect is different in the two periods.\n",
    "# Note that the suggested answers pdf mentions a t-test here, but it is easier to instead perform the built-in Wald test. This is also what is done in the .do-file.\n",
    "\n",
    "results32.wald_test(formula='dIPWusch = t2dIPWusch')"
   ]
  },
  {
   "cell_type": "markdown",
   "metadata": {},
   "source": [
    "## 3.3 Exogeneity test"
   ]
  },
  {
   "cell_type": "code",
   "execution_count": 16,
   "metadata": {},
   "outputs": [
    {
     "data": {
      "text/plain": [
       "Linear Equality Hypothesis Test\n",
       "H0: Linear equality constraint is valid\n",
       "Statistic: 16.5700\n",
       "P-value: 0.0003\n",
       "Distributed: chi2(2)\n",
       "WaldTestStatistic, id: 0x14be8e1d0"
      ]
     },
     "execution_count": 16,
     "metadata": {},
     "output_type": "execute_result"
    }
   ],
   "source": [
    "# Step 1: Get residuals from the first stage regressions\n",
    "df['res1'] = results31_fs1.resids\n",
    "df['res2'] = results31_fs2.resids\n",
    "\n",
    "# Step 2: Include the residuals in a regression along with the endogenous and exogenous variables.\n",
    "model33 = OLS.from_formula('dsL ~ 1 + dIPWusch + t2dIPWusch + t2 + college + foreignborn + routine + res1 + res2', data=df)\n",
    "results33 = model33.fit()\n",
    "\n",
    "# Step 3: Test that both residuals are zero in the regression (i.e. that dIPWusch and t2dIPWusch are exogenous)\n",
    "results33.wald_test(formula=['res1=0', 'res2=0'])"
   ]
  },
  {
   "cell_type": "code",
   "execution_count": 17,
   "metadata": {},
   "outputs": [],
   "source": [
    "# The conclusion from the test above is that we must reject the null hypothesis. Thus dIPWusch and t2dIPWusch are endogenous, and the IV estimator is the preferred estimator.\n",
    "\n",
    "# In the pdf version of the suggested answers, an F-test is conducted instead of the Wald-test used here. The conclusions are the same."
   ]
  },
  {
   "cell_type": "markdown",
   "metadata": {},
   "source": [
    "### Optional: Gather all regression results from problem 3 in a comparison table"
   ]
  },
  {
   "cell_type": "code",
   "execution_count": 18,
   "metadata": {},
   "outputs": [
    {
     "name": "stdout",
     "output_type": "stream",
     "text": [
      "                                    Model Comparison                                    \n",
      "========================================================================================\n",
      "                     3.1 First stage 1 3.1 First stage 2 3.1 Second stage     3.2 IV2SLS\n",
      "----------------------------------------------------------------------------------------\n",
      "Dep. Variable                 dIPWusch        t2dIPWusch              dsL            dsL\n",
      "Estimator                          OLS               OLS              OLS        IV-2SLS\n",
      "No. Observations                  1324              1324             1324           1324\n",
      "Cov. Est.                       robust            robust           robust         robust\n",
      "R-squared                       0.5109            0.6417           0.4062         0.3513\n",
      "Adj. R-squared                  0.5087            0.6401           0.4035         0.3483\n",
      "F-statistic                     690.49            1224.4           625.16         608.04\n",
      "P-value (F-stat)                0.0000            0.0000           0.0000         0.0000\n",
      "==================        ============      ============     ============   ============\n",
      "Intercept                    -1.1726**         -0.8567**        4.4865***      4.4865***\n",
      "                             (-2.4766)         (-2.0183)         (8.7607)       (8.1733)\n",
      "dIPWotch                     0.9138***           -0.0725                                \n",
      "                              (4.2903)         (-1.3234)                                \n",
      "t2dIPWotch                     -0.0978         0.8955***                                \n",
      "                             (-0.4274)          (7.6470)                                \n",
      "t2                              0.4086            0.5793       -0.9222***     -0.9222***\n",
      "                              (1.0276)          (1.5352)        (-3.9574)      (-3.0944)\n",
      "college                        -0.0060           -0.0082        0.0706***      0.0706***\n",
      "                             (-0.5457)         (-0.8632)         (8.7800)       (7.7897)\n",
      "foreignborn                 -0.0188***         -0.0110**          -0.0061        -0.0061\n",
      "                             (-3.3747)         (-2.0945)        (-0.8813)      (-0.8122)\n",
      "routine                        0.0621*           0.0466*       -0.2853***     -0.2853***\n",
      "                              (1.9352)          (1.6501)        (-11.251)      (-9.7031)\n",
      "dIPWusch_hat                                                   -0.2702***               \n",
      "                                                                (-2.6686)               \n",
      "t2dIPWusch_hat                                                    -0.1249               \n",
      "                                                                (-1.1203)               \n",
      "dIPWusch                                                                       -0.2702**\n",
      "                                                                               (-2.2430)\n",
      "t2dIPWusch                                                                       -0.1249\n",
      "                                                                               (-0.9249)\n",
      "====================    ==============    ==============   ============== ==============\n",
      "Instruments                                                                     dIPWotch\n",
      "                                                                              t2dIPWotch\n",
      "----------------------------------------------------------------------------------------\n",
      "\n",
      "T-stats reported in parentheses\n"
     ]
    }
   ],
   "source": [
    "results3 = {\n",
    "    '3.1 First stage 1': results31_fs1,\n",
    "    '3.1 First stage 2': results31_fs2,\n",
    "    '3.1 Second stage':  results32_ss,\n",
    "    '3.2 IV2SLS':        results32}\n",
    "\n",
    "table = compare(results3, stars=True)\n",
    "print(table)"
   ]
  },
  {
   "cell_type": "markdown",
   "metadata": {},
   "source": [
    "## Problem 5 "
   ]
  },
  {
   "cell_type": "code",
   "execution_count": 19,
   "metadata": {},
   "outputs": [],
   "source": [
    "def simulate(n, rho):\n",
    "\t## Step 1. Define parameter values\n",
    "\tbeta0 = 4\n",
    "\tbeta1 = 3\n",
    "\ttheta = 1\n",
    "\n",
    "\t# Step 2. Simulate data\n",
    "\txstar = np.random.normal(loc=1, scale=2, size=n) # scale = sqrt(4) = 2\n",
    "\tu     = np.random.normal(loc=0, scale=1, size=n)\n",
    "\teps   = np.random.normal(loc=0, scale=1, size=n) \n",
    "\tmu    = np.random.normal(loc=0, scale=1, size=n)\n",
    "\n",
    "\tx = xstar + eps\n",
    "\teta = rho*eps + mu\n",
    "\tz = theta*xstar + eta\n",
    "\ty = beta0 + beta1*xstar + u\n",
    "\t\n",
    "\t# Step 3. Put the simulated data in a DataFrame\n",
    "\tdf = pd.DataFrame({'y': y, 'x': x, 'z': z})\n",
    "\n",
    "\t# Step 4. Estimate the models\n",
    "\tresults_OLS = OLS.from_formula('y ~ 1 + x', data=df).fit()\n",
    "\tresults_2SLS = IV2SLS.from_formula('y ~ 1 + [x ~ z]', data=df).fit() # Remember to include a 1 manually when using linearmodels\n",
    "\n",
    "\t# Step 5. Extract the estimated coefficients\n",
    "\tbeta1_OLS = results_OLS.params['x']\n",
    "\tbeta1_2SLS = results_2SLS.params['x']\n",
    "\t\n",
    "\t# Return results\n",
    "\treturn beta1_OLS, beta1_2SLS"
   ]
  },
  {
   "cell_type": "code",
   "execution_count": 20,
   "metadata": {},
   "outputs": [],
   "source": [
    "def monte_carlo(R, n, rho):\n",
    "    # Set seed to some value so you can replicate the results\n",
    "    np.random.seed(0)\n",
    "\n",
    "    # Lists to store results\n",
    "    betas_OLS = []\n",
    "    betas_IV2SLS = []\n",
    "\n",
    "    # Loop over replications and unpack results\n",
    "    for i in range(R):\n",
    "        a,b = simulate(n, rho=rho)\n",
    "        betas_OLS.append(a)\n",
    "        betas_IV2SLS.append(b)\n",
    "\n",
    "    # Put results in a Pandas DataFrame\n",
    "    table = pd.DataFrame({'OLS': betas_OLS, 'IV2SLS': betas_IV2SLS})\n",
    "    \n",
    "    # Return a table of results\n",
    "    return table\n",
    "\n"
   ]
  },
  {
   "cell_type": "code",
   "execution_count": 21,
   "metadata": {},
   "outputs": [],
   "source": [
    "# Run Monte Carlo for different rho and store results\n",
    "res = []\n",
    "rhos = [-0.5, 0, 0.5, 1]\n",
    "\n",
    "for rho in rhos:\n",
    "    res.append(monte_carlo(n=500, R=1000, rho=rho))\n"
   ]
  },
  {
   "cell_type": "code",
   "execution_count": 23,
   "metadata": {},
   "outputs": [
    {
     "name": "stdout",
     "output_type": "stream",
     "text": [
      "\n",
      "rho = -0.5\n",
      "        mean   std\n",
      "OLS    2.402 0.057\n",
      "IV2SLS 3.436 0.108\n",
      "\n",
      "rho = 0\n",
      "        mean   std\n",
      "OLS    2.402 0.057\n",
      "IV2SLS 3.005 0.078\n",
      "\n",
      "rho = 0.5\n",
      "        mean   std\n",
      "OLS    2.402 0.057\n",
      "IV2SLS 2.671 0.066\n",
      "\n",
      "rho = 1\n",
      "        mean   std\n",
      "OLS    2.402 0.057\n",
      "IV2SLS 2.403 0.063\n"
     ]
    },
    {
     "data": {
      "image/png": "[encoded data removed]",
      "text/plain": [
       "<Figure size 800x500 with 4 Axes>"
      ]
     },
     "metadata": {},
     "output_type": "display_data"
    }
   ],
   "source": [
    "# Create a 4 subplot figure with histograms of the results\n",
    "plt.figure(figsize=(8, 5))\n",
    "\n",
    "for i, rho in enumerate(rhos):\n",
    "    plt.subplot(2, 2, i+1) # Create subplots for each histogram\n",
    "    sns.histplot(res[i], bins=30) # Plot the histograms\n",
    "    plt.title(f'rho = {rho}') # Set title\n",
    "\n",
    "    # Optional pretty stuff:\n",
    "    plt.axvline(x=3) # Mark the true value of beta1\n",
    "    plt.xlabel(r'$\\hat{\\beta}_1$ ') # Fancy LaTeX x-label\n",
    "    plt.xlim(2.2, 3.8) # Make sure all subplots use the same scale of the x-axis\n",
    "\n",
    "    # Print means and standard deviations of the estimates\n",
    "    stats =  res[i].describe().loc[['mean', 'std']].T # Get the mean and std of the estimates\n",
    "    print()\n",
    "    print(f'rho = {rho}')\n",
    "    print(stats)\n",
    "\n",
    "plt.tight_layout() # Include this line for a pretty layout"
   ]
  }
 ],
 "metadata": {
  "kernelspec": {
   "display_name": "base",
   "language": "python",
   "name": "python3"
  },
  "language_info": {
   "codemirror_mode": {
    "name": "ipython",
    "version": 3
   },
   "file_extension": ".py",
   "mimetype": "text/x-python",
   "name": "python",
   "nbconvert_exporter": "python",
   "pygments_lexer": "ipython3",
   "version": "3.11.7"
  }
 },
 "nbformat": 4,
 "nbformat_minor": 2
}
