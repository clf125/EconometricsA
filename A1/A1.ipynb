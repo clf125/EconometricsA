{
 "cells": [
  {
   "cell_type": "markdown",
   "metadata": {},
   "source": [
    "`A1`"
   ]
  },
  {
   "cell_type": "markdown",
   "metadata": {},
   "source": [
    "### Problem 1:"
   ]
  },
  {
   "cell_type": "code",
   "execution_count": 3,
   "metadata": {},
   "outputs": [
    {
     "data": {
      "text/html": [
       "<div>\n",
       "<style scoped>\n",
       "    .dataframe tbody tr th:only-of-type {\n",
       "        vertical-align: middle;\n",
       "    }\n",
       "\n",
       "    .dataframe tbody tr th {\n",
       "        vertical-align: top;\n",
       "    }\n",
       "\n",
       "    .dataframe thead th {\n",
       "        text-align: right;\n",
       "    }\n",
       "</style>\n",
       "<table border=\"1\" class=\"dataframe\">\n",
       "  <thead>\n",
       "    <tr style=\"text-align: right;\">\n",
       "      <th></th>\n",
       "      <th>nr</th>\n",
       "      <th>kommune</th>\n",
       "      <th>taxrev</th>\n",
       "      <th>taxrate</th>\n",
       "      <th>pop</th>\n",
       "    </tr>\n",
       "  </thead>\n",
       "  <tbody>\n",
       "    <tr>\n",
       "      <th>0</th>\n",
       "      <td>101</td>\n",
       "      <td>Københavns Kommune</td>\n",
       "      <td>44170.335938</td>\n",
       "      <td>23.799999</td>\n",
       "      <td>528208</td>\n",
       "    </tr>\n",
       "    <tr>\n",
       "      <th>1</th>\n",
       "      <td>147</td>\n",
       "      <td>Frederiksberg Kommune</td>\n",
       "      <td>6682.439941</td>\n",
       "      <td>23.100000</td>\n",
       "      <td>96718</td>\n",
       "    </tr>\n",
       "    <tr>\n",
       "      <th>2</th>\n",
       "      <td>151</td>\n",
       "      <td>Ballerup Kommune</td>\n",
       "      <td>4598.704102</td>\n",
       "      <td>25.500000</td>\n",
       "      <td>47652</td>\n",
       "    </tr>\n",
       "    <tr>\n",
       "      <th>3</th>\n",
       "      <td>153</td>\n",
       "      <td>Brøndby Kommune</td>\n",
       "      <td>3121.204834</td>\n",
       "      <td>24.500000</td>\n",
       "      <td>33795</td>\n",
       "    </tr>\n",
       "    <tr>\n",
       "      <th>4</th>\n",
       "      <td>155</td>\n",
       "      <td>Dragør Kommune</td>\n",
       "      <td>858.017944</td>\n",
       "      <td>24.799999</td>\n",
       "      <td>13564</td>\n",
       "    </tr>\n",
       "    <tr>\n",
       "      <th>...</th>\n",
       "      <td>...</td>\n",
       "      <td>...</td>\n",
       "      <td>...</td>\n",
       "      <td>...</td>\n",
       "      <td>...</td>\n",
       "    </tr>\n",
       "    <tr>\n",
       "      <th>93</th>\n",
       "      <td>840</td>\n",
       "      <td>Rebild Kommune</td>\n",
       "      <td>1957.348511</td>\n",
       "      <td>25.100000</td>\n",
       "      <td>28852</td>\n",
       "    </tr>\n",
       "    <tr>\n",
       "      <th>94</th>\n",
       "      <td>846</td>\n",
       "      <td>Mariagerfjord Kommune</td>\n",
       "      <td>3186.054932</td>\n",
       "      <td>25.700001</td>\n",
       "      <td>42604</td>\n",
       "    </tr>\n",
       "    <tr>\n",
       "      <th>95</th>\n",
       "      <td>849</td>\n",
       "      <td>Jammerbugt Kommune</td>\n",
       "      <td>3241.256592</td>\n",
       "      <td>25.299999</td>\n",
       "      <td>38927</td>\n",
       "    </tr>\n",
       "    <tr>\n",
       "      <th>96</th>\n",
       "      <td>851</td>\n",
       "      <td>Aalborg Kommune</td>\n",
       "      <td>16330.091797</td>\n",
       "      <td>25.400000</td>\n",
       "      <td>197426</td>\n",
       "    </tr>\n",
       "    <tr>\n",
       "      <th>97</th>\n",
       "      <td>860</td>\n",
       "      <td>Hjørring Kommune</td>\n",
       "      <td>5061.796875</td>\n",
       "      <td>25.400000</td>\n",
       "      <td>66803</td>\n",
       "    </tr>\n",
       "  </tbody>\n",
       "</table>\n",
       "<p>98 rows × 5 columns</p>\n",
       "</div>"
      ],
      "text/plain": [
       "     nr                kommune        taxrev    taxrate     pop\n",
       "0   101     Københavns Kommune  44170.335938  23.799999  528208\n",
       "1   147  Frederiksberg Kommune   6682.439941  23.100000   96718\n",
       "2   151       Ballerup Kommune   4598.704102  25.500000   47652\n",
       "3   153        Brøndby Kommune   3121.204834  24.500000   33795\n",
       "4   155         Dragør Kommune    858.017944  24.799999   13564\n",
       "..  ...                    ...           ...        ...     ...\n",
       "93  840         Rebild Kommune   1957.348511  25.100000   28852\n",
       "94  846  Mariagerfjord Kommune   3186.054932  25.700001   42604\n",
       "95  849     Jammerbugt Kommune   3241.256592  25.299999   38927\n",
       "96  851        Aalborg Kommune  16330.091797  25.400000  197426\n",
       "97  860       Hjørring Kommune   5061.796875  25.400000   66803\n",
       "\n",
       "[98 rows x 5 columns]"
      ]
     },
     "execution_count": 3,
     "metadata": {},
     "output_type": "execute_result"
    }
   ],
   "source": [
    "import pandas as pd\n",
    "df = pd.read_stata('A1_kommune.dta')\n",
    "df"
   ]
  },
  {
   "cell_type": "code",
   "execution_count": 31,
   "metadata": {},
   "outputs": [
    {
     "name": "stdout",
     "output_type": "stream",
     "text": [
      "             taxrev    taxrate            pop\n",
      "count     98.000000  98.000000      98.000000\n",
      "mean    4477.341309  25.208162   56475.887755\n",
      "std     5251.175293   0.908003   62925.301713\n",
      "min      211.228409  22.799999    1969.000000\n",
      "25%     2466.702271  24.799999   29997.750000\n",
      "50%     3317.848633  25.299999   43475.000000\n",
      "75%     4786.060913  25.700001   59733.000000\n",
      "max    44170.335938  27.799999  528208.000000\n"
     ]
    }
   ],
   "source": [
    "#Ser på de tre variable\n",
    "vars=['taxrev', 'taxrate', 'pop']\n",
    "print(df[vars].describe())"
   ]
  },
  {
   "cell_type": "markdown",
   "metadata": {},
   "source": [
    "### Problem 2: Empirical analysis of tax revenues and municipal tax rates\n",
    "Consider the following regression model and assume for now that it satisfies MLR.1–5:\n",
    "log(taxrevm) = δ0 + δ1 taxratem + ϵm m = 1, ..., 98. (1)\n",
    "\n",
    "1. What is the interpretation of δ1 in regression model (1)?\n",
    "\n",
    "    $\\delta_1$ er en coeffecient bestemt ud fra `taxrate`\n",
    "\n",
    "2. What is the expected sign of δ1?\n",
    "\n",
    "3. Estimate regression model (1) using Ordinary Least Squares (OLS). Report the OLS\n",
    "parameter estimates in a table with their standard errors. Comment on the results.\n",
    "Does the estimate bδ1 match your prediction from Problem 2.2?"
   ]
  },
  {
   "cell_type": "code",
   "execution_count": 23,
   "metadata": {},
   "outputs": [
    {
     "name": "stdout",
     "output_type": "stream",
     "text": [
      "                            OLS Regression Results                            \n",
      "==============================================================================\n",
      "Dep. Variable:                 taxrev   R-squared:                       0.029\n",
      "Model:                            OLS   Adj. R-squared:                  0.018\n",
      "Method:                 Least Squares   F-statistic:                     2.818\n",
      "Date:                Mon, 16 Sep 2024   Prob (F-statistic):             0.0965\n",
      "Time:                        09:35:53   Log-Likelihood:                -111.12\n",
      "No. Observations:                  98   AIC:                             226.2\n",
      "Df Residuals:                      96   BIC:                             231.4\n",
      "Df Model:                           1                                         \n",
      "Covariance Type:            nonrobust                                         \n",
      "==============================================================================\n",
      "                 coef    std err          t      P>|t|      [0.025      0.975]\n",
      "------------------------------------------------------------------------------\n",
      "taxrate       -0.1426      0.085     -1.679      0.096      -0.311       0.026\n",
      "const         11.6982      2.143      5.459      0.000       7.444      15.952\n",
      "==============================================================================\n",
      "Omnibus:                       17.794   Durbin-Watson:                   1.863\n",
      "Prob(Omnibus):                  0.000   Jarque-Bera (JB):               45.446\n",
      "Skew:                          -0.567   Prob(JB):                     1.35e-10\n",
      "Kurtosis:                       6.138   Cond. No.                         705.\n",
      "==============================================================================\n",
      "\n",
      "Notes:\n",
      "[1] Standard Errors assume that the covariance matrix of the errors is correctly specified.\n"
     ]
    }
   ],
   "source": [
    "import statsmodels.api as sm\n",
    "import numpy as np \n",
    "import math \n",
    "\n",
    "# Create the X DataFrame with a constant\n",
    "X = df[['taxrate']].copy()  # Predictor variable (xtot)\n",
    "X['const'] = 1  # Add a constant to the model\n",
    "y = np.log(df['taxrev'])  # Dependent variable\n",
    "\n",
    "model = sm.OLS(y, X)\n",
    "results = model.fit()\n",
    "print(results.summary())"
   ]
  },
  {
   "cell_type": "markdown",
   "metadata": {},
   "source": [
    "Now consider an alternative regression model which includes the local population size as an\n",
    "additional explanatory variable:\n",
    "log(taxrevm) = β0 + β1 taxratem + β2 log(popm) + um m = 1, ..., 98. (2)\n",
    "Assume that model (2) satisfies MLR.1–5.\n",
    "\n",
    "4. What is the interpretation of β1 in regression model (2)? In what way is the interpre-\n",
    "tation of β1 different than the interpretation of δ1 in model (1)?\n",
    "\n",
    "5. Estimate regression model (2) by OLS. Report the OLS parameter estimates in a table\n",
    "with their standard errors. Comment on the results. Does the estimate bβ1 match your\n",
    "prediction from Problem 2.2?\n",
    "\n",
    "6. The difference between the estimates bδ1 and bβ1 arises from omitting log local population\n",
    "size, log(popm), in regression model (1). Explain what omitted variable bias is and\n",
    "describe how the covariance between taxratem and log(popm) influences the sign and\n",
    "size of the bias in the OLS estimate bδ1."
   ]
  },
  {
   "cell_type": "code",
   "execution_count": 45,
   "metadata": {},
   "outputs": [
    {
     "name": "stdout",
     "output_type": "stream",
     "text": [
      "                            OLS Regression Results                            \n",
      "==============================================================================\n",
      "Dep. Variable:                 taxrev   R-squared:                       0.980\n",
      "Model:                            OLS   Adj. R-squared:                  0.980\n",
      "Method:                 Least Squares   F-statistic:                     2344.\n",
      "Date:                Mon, 16 Sep 2024   Prob (F-statistic):           1.42e-81\n",
      "Time:                        13:27:58   Log-Likelihood:                 79.497\n",
      "No. Observations:                  98   AIC:                            -153.0\n",
      "Df Residuals:                      95   BIC:                            -145.2\n",
      "Df Model:                           2                                         \n",
      "Covariance Type:            nonrobust                                         \n",
      "==============================================================================\n",
      "                 coef    std err          t      P>|t|      [0.025      0.975]\n",
      "------------------------------------------------------------------------------\n",
      "const         -2.8022      0.376     -7.461      0.000      -3.548      -2.057\n",
      "taxrate        0.0226      0.012      1.816      0.072      -0.002       0.047\n",
      "logpop         0.9711      0.014     67.471      0.000       0.943       1.000\n",
      "==============================================================================\n",
      "Omnibus:                       15.730   Durbin-Watson:                   2.007\n",
      "Prob(Omnibus):                  0.000   Jarque-Bera (JB):               20.068\n",
      "Skew:                           0.810   Prob(JB):                     4.39e-05\n",
      "Kurtosis:                       4.514   Cond. No.                         933.\n",
      "==============================================================================\n",
      "\n",
      "Notes:\n",
      "[1] Standard Errors assume that the covariance matrix of the errors is correctly specified.\n"
     ]
    }
   ],
   "source": [
    "z = np.log(df['pop'])  # Dependent variable\n",
    "df['const'] = 1\n",
    "df['logpop'] = np.log(df['pop'])\n",
    "model2_4 = sm.OLS(y, df[['const', 'taxrate','logpop']])\n",
    "results2_4 = model2_4.fit()\n",
    "print(results2_4.summary())"
   ]
  }
 ],
 "metadata": {
  "kernelspec": {
   "display_name": "base",
   "language": "python",
   "name": "python3"
  },
  "language_info": {
   "codemirror_mode": {
    "name": "ipython",
    "version": 3
   },
   "file_extension": ".py",
   "mimetype": "text/x-python",
   "name": "python",
   "nbconvert_exporter": "python",
   "pygments_lexer": "ipython3",
   "version": "3.12.2"
  }
 },
 "nbformat": 4,
 "nbformat_minor": 2
}
