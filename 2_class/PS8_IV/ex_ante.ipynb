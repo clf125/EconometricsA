{
 "cells": [
  {
   "cell_type": "code",
   "execution_count": 2,
   "metadata": {},
   "outputs": [],
   "source": [
    "import pandas as pd\n",
    "import numpy as np\n",
    "import matplotlib.pyplot as plt\n",
    "import seaborn as sns\n",
    "import statsmodels.formula.api as smf"
   ]
  },
  {
   "cell_type": "markdown",
   "metadata": {},
   "source": [
    "# Økonometri A\n"
   ]
  },
  {
   "cell_type": "markdown",
   "metadata": {},
   "source": [
    "\n",
    "## Problem Set 8\n"
   ]
  },
  {
   "cell_type": "markdown",
   "metadata": {},
   "source": [
    "\n",
    "### Økonometrisk analyse af børns betydning for kvinders arbejdsudbud\n",
    "\n",
    "I ugeseddel 8 får I en introduktion til instrument variabel (IV) estimation. I skal undersøge, hvilken betydning børn har på kvinders arbejdsudbud. Hvis lavere fertilitet eller færre børn giver kvinder et højere arbejdsudbud, kan det være med til forklare kvinders stigende deltagelse på arbejdsmarkedet efter 2. verdenskrig. Ligeledes har ændringer i kvinders arbejdsudbud, som kan forklares med ændringer i fertiltet, vigtige implikationer på andre fænomener såsom ægteskab, skilsmisse, børnepasning, fordeling af løn mellem mænd og kvinder i husholdningen og lønforskelle mellem mænd og kvinder.\n",
    "\n",
    "Grunden til, at I skal bruge IV estimation i denne ugeseddel er, at fertilitet er en endogen variabel, så hver gang der sker en ændring i fertilitet, sker der en ukendt ændring i fejlleddet, som påvirker kvinders arbejdsudbud. At fertilitet er endogen kan skyldes omvendt kausalitet, udeladte variable, eller at fertilitet og arbejdsudbud bliver bestemt simultant. Det implicerer, at OLS estimatoren ikke kan bruges, hvis I gerne vil undersøge den kausale effekt af fertilitet på arbejdsudbud.\n",
    "\n",
    "Ugesedlen tager udgangspunkt i forskningsartiklen *\"Children and their Parents' Labor Supply\"* af Angrist og Evans (1998). I deres forskningsartikel bruger Angrist og Evans, at forældre har en præference for at få børn af begge køn til at lave IV estimationen. I deres identifikationsstrategi bruger de, at forældre med to børn af samme køn har en signifikant større sandsynlighed for at få et 3. barn. Eftersom at et barns køn er tilfældigt givet, kan en variabel, som angiver, om de første to børns køn er ens, bruges som et instrument for, om en kvinde får flere end de to første børn.\n",
    "\n",
    "For at kunne undersøge sammenhængen mellem fertilitet og arbejdsudbud, skal I se på data for amerikanske kvinder i 1990. I har detaljeret information om deres arbejds- og familiekarakteristika. Data består af 337.500 observationer fra et repræsentativt udsnit af kvinder mellem 21 og 35 år med mindst to børn i USA i 1990.\n"
   ]
  },
  {
   "cell_type": "markdown",
   "metadata": {},
   "source": [
    "\n",
    "### Variabelliste\n",
    "\n",
    "| Variabelnavn  | Forklaring                                                 |\n",
    "| ------------- | ---------------------------------------------------------- |\n",
    "| **workm**     | Dummy for om moren arbejder eller ej                        |\n",
    "| **weekm**     | Antal uger arbejdet i løbet af et år                        |\n",
    "| **hourm**     | Antal timer arbejdet i løbet af en uge                      |\n",
    "| **lincm**     | Arbejdsindkomst i US dollars                                |\n",
    "| **faminc**    | Samlet familieindkomst i US dollars                         |\n",
    "| **agem**      | Morens alder                                                |\n",
    "| **agem1stkid**| Morens alder ved første barn                                |\n",
    "| **nkids**     | Samlet antal børn                                           |\n",
    "| **morekids**  | Dummy for om moren har mere end to børn                     |\n",
    "| **boy1stkid** | Dummy for om første barn er en dreng                        |\n",
    "| **boy2ndkid** | Dummy for om andet barn er en dreng                         |\n",
    "| **twoboys**   | Dummy for om de første to børn er drenge                    |\n",
    "| **twogirls**  | Dummy for om de første to børn er piger                     |\n",
    "| **samesex**   | Dummy for om de første to børn har samme køn                |\n",
    "| **black**     | Dummy for morens afstamning (referencegruppe: hvid)         |\n",
    "| **hisp**      | Dummy for morens afstamning (referencegruppe: hvid)         |\n",
    "| **other**     | Dummy for morens afstamning (referencegruppe: hvid)         |\n",
    "| **lowedu**    | Dummy for om morens uddannelse er kortere end gymnasiet     |\n",
    "| **hsedu**     | Dummy for om morens uddannelse er gymnasieniveau            |\n",
    "| **highedu**   | Dummy for om morens uddannelse længere end gymnasiet        |\n"
   ]
  },
  {
   "cell_type": "markdown",
   "metadata": {},
   "source": [
    "\n",
    "### Regressionsmodel (1)\n",
    "\n",
    "\\begin{align}\n",
    "workm_i = \\space &\\beta_0 + \\beta_1 \\, morekids_i + \\beta_2 \\, boy1stkid_i + \\beta_3 \\, boy2ndkid_i \\\\ &\n",
    "+ \\beta_4 \\, agem_i + \\beta_5 \\, agem1stkid_i + \\beta_6 \\, black_i + \\beta_7 \\, hisp_i + \\beta_8 \\, other_i + u_i \n",
    "\\end{align}\\tag{1}\n",
    "\n",
    "hvor $u_i$ er fejlleddet. Dummy-variablen $morekids_i$ er et mål for fertilitet.\n"
   ]
  },
  {
   "cell_type": "markdown",
   "metadata": {},
   "source": [
    "\n",
    "## **Gruppespørgsmål**\n"
   ]
  },
  {
   "cell_type": "markdown",
   "metadata": {},
   "source": [
    "\n",
    "### **Opgave 1.** \n",
    "Hvad er fortolkningen af $\\beta_1$? Hvad er det forventede fortegn for $\\beta_1$?\n",
    "\n"
   ]
  },
  {
   "cell_type": "markdown",
   "metadata": {},
   "source": [
    "**Dit svar:**\n"
   ]
  },
  {
   "cell_type": "markdown",
   "metadata": {},
   "source": [
    "$\\beta_1$ er paremeteren for workm givet om moren har to børn eller flere. Vi forventer at $\\beta_1$ er negativ, for hvis moren har flere børn, bruger hun måske mere tid hjemme med børnene."
   ]
  },
  {
   "cell_type": "markdown",
   "metadata": {},
   "source": [
    "\n",
    "### **Opgave 2.** \n",
    "Hvad er fortolkningen af $\\beta_4$ og $\\beta_5$?\n",
    "\n"
   ]
  },
  {
   "cell_type": "markdown",
   "metadata": {},
   "source": [
    "**Dit svar:**\n"
   ]
  },
  {
   "cell_type": "markdown",
   "metadata": {},
   "source": [
    "$\\beta_4$ bidrager til ssh for at moren arbejder givet hendes alder. Umiddelbart tænker vi at den er positiv. $\\beta_5$ er en parameter ud fra morens alder ved første barn. Umiddelbart tænker vi at den har negativt fortegn."
   ]
  },
  {
   "cell_type": "markdown",
   "metadata": {},
   "source": [
    "\n",
    "### **Opgave 3.** \n",
    "Kom med eksempler på, hvad der kan påvirke både arbejdsudbud og fertilitet, som ikke er medtaget i modellen, og som gør $morekids_i$ til en endogen variabel. Diskuter, hvilke implikationer det har for OLS estimatorens egenskaber.\n",
    "\n"
   ]
  },
  {
   "cell_type": "markdown",
   "metadata": {},
   "source": [
    "**Dit svar:**\n"
   ]
  },
  {
   "cell_type": "markdown",
   "metadata": {},
   "source": []
  },
  {
   "cell_type": "markdown",
   "metadata": {},
   "source": [
    "\n",
    "### **Opgave 4.** \n",
    "Hvilke to egenskaber skal en variabel $z$ have for at kunne være et godt instrument. Diskuter om en dummy-variabel, som viser, at de første to børns køn er ens, er et muligt instrument for $morekids_i$.\n",
    "\n"
   ]
  },
  {
   "cell_type": "markdown",
   "metadata": {},
   "source": [
    "**Dit svar:**\n"
   ]
  },
  {
   "cell_type": "markdown",
   "metadata": {},
   "source": [
    "Den skal være relevant ift $morekids$ men ikke korreleret med fejlleddet.\n",
    "\n",
    "Vi så at hvis et par havde to børn af ens køn, var de mere tilbøjelige til at få et tredje. Ergo har det indflydelse på morekids, og samtidig har det ikke direkte relevans til workm at have to børn af ens køn. Derfor er det et muligt instrument."
   ]
  },
  {
   "cell_type": "markdown",
   "metadata": {},
   "source": [
    "\n",
    "## **Python øvelser**\n",
    "\n",
    "I skal nu forsøge at estimere den kausale effekt af, at en kvinde får mere end to børn, hvor I bruger samme identifikationsstrategi som Angrist og Evans.\n"
   ]
  },
  {
   "cell_type": "markdown",
   "metadata": {},
   "source": [
    "\n",
    "### **Opgave 1.** \n",
    "Lav en tabel, hvor I sammenligner kvinder med $samesex = 1$ og $samesex = 0$ på relevante karakteristika. Kommenter kort på tabellen.\n",
    "\n"
   ]
  },
  {
   "cell_type": "markdown",
   "metadata": {},
   "source": [
    "\n",
    "**Din kode:**\n"
   ]
  },
  {
   "cell_type": "code",
   "execution_count": 10,
   "metadata": {},
   "outputs": [
    {
     "data": {
      "text/html": [
       "<div>\n",
       "<style scoped>\n",
       "    .dataframe tbody tr th:only-of-type {\n",
       "        vertical-align: middle;\n",
       "    }\n",
       "\n",
       "    .dataframe tbody tr th {\n",
       "        vertical-align: top;\n",
       "    }\n",
       "\n",
       "    .dataframe thead tr th {\n",
       "        text-align: left;\n",
       "    }\n",
       "\n",
       "    .dataframe thead tr:last-of-type th {\n",
       "        text-align: right;\n",
       "    }\n",
       "</style>\n",
       "<table border=\"1\" class=\"dataframe\">\n",
       "  <thead>\n",
       "    <tr>\n",
       "      <th></th>\n",
       "      <th colspan=\"8\" halign=\"left\">workm</th>\n",
       "      <th colspan=\"2\" halign=\"left\">weekm</th>\n",
       "      <th>...</th>\n",
       "      <th colspan=\"2\" halign=\"left\">highedu</th>\n",
       "      <th colspan=\"8\" halign=\"left\">group</th>\n",
       "    </tr>\n",
       "    <tr>\n",
       "      <th></th>\n",
       "      <th>count</th>\n",
       "      <th>mean</th>\n",
       "      <th>std</th>\n",
       "      <th>min</th>\n",
       "      <th>25%</th>\n",
       "      <th>50%</th>\n",
       "      <th>75%</th>\n",
       "      <th>max</th>\n",
       "      <th>count</th>\n",
       "      <th>mean</th>\n",
       "      <th>...</th>\n",
       "      <th>75%</th>\n",
       "      <th>max</th>\n",
       "      <th>count</th>\n",
       "      <th>mean</th>\n",
       "      <th>std</th>\n",
       "      <th>min</th>\n",
       "      <th>25%</th>\n",
       "      <th>50%</th>\n",
       "      <th>75%</th>\n",
       "      <th>max</th>\n",
       "    </tr>\n",
       "    <tr>\n",
       "      <th>samesex</th>\n",
       "      <th></th>\n",
       "      <th></th>\n",
       "      <th></th>\n",
       "      <th></th>\n",
       "      <th></th>\n",
       "      <th></th>\n",
       "      <th></th>\n",
       "      <th></th>\n",
       "      <th></th>\n",
       "      <th></th>\n",
       "      <th></th>\n",
       "      <th></th>\n",
       "      <th></th>\n",
       "      <th></th>\n",
       "      <th></th>\n",
       "      <th></th>\n",
       "      <th></th>\n",
       "      <th></th>\n",
       "      <th></th>\n",
       "      <th></th>\n",
       "      <th></th>\n",
       "    </tr>\n",
       "  </thead>\n",
       "  <tbody>\n",
       "    <tr>\n",
       "      <th>0</th>\n",
       "      <td>185938.0</td>\n",
       "      <td>0.669772</td>\n",
       "      <td>0.470296</td>\n",
       "      <td>0.0</td>\n",
       "      <td>0.0</td>\n",
       "      <td>1.0</td>\n",
       "      <td>1.0</td>\n",
       "      <td>1.0</td>\n",
       "      <td>185938.0</td>\n",
       "      <td>26.538196</td>\n",
       "      <td>...</td>\n",
       "      <td>1.0</td>\n",
       "      <td>1.0</td>\n",
       "      <td>185938.0</td>\n",
       "      <td>5.497381</td>\n",
       "      <td>2.872790</td>\n",
       "      <td>1.0</td>\n",
       "      <td>3.0</td>\n",
       "      <td>5.0</td>\n",
       "      <td>8.0</td>\n",
       "      <td>10.0</td>\n",
       "    </tr>\n",
       "    <tr>\n",
       "      <th>1</th>\n",
       "      <td>189062.0</td>\n",
       "      <td>0.664554</td>\n",
       "      <td>0.472147</td>\n",
       "      <td>0.0</td>\n",
       "      <td>0.0</td>\n",
       "      <td>1.0</td>\n",
       "      <td>1.0</td>\n",
       "      <td>1.0</td>\n",
       "      <td>189062.0</td>\n",
       "      <td>26.239482</td>\n",
       "      <td>...</td>\n",
       "      <td>1.0</td>\n",
       "      <td>1.0</td>\n",
       "      <td>189062.0</td>\n",
       "      <td>5.502576</td>\n",
       "      <td>2.871698</td>\n",
       "      <td>1.0</td>\n",
       "      <td>3.0</td>\n",
       "      <td>6.0</td>\n",
       "      <td>8.0</td>\n",
       "      <td>10.0</td>\n",
       "    </tr>\n",
       "  </tbody>\n",
       "</table>\n",
       "<p>2 rows × 160 columns</p>\n",
       "</div>"
      ],
      "text/plain": [
       "            workm                                                  weekm  \\\n",
       "            count      mean       std  min  25%  50%  75%  max     count   \n",
       "samesex                                                                    \n",
       "0        185938.0  0.669772  0.470296  0.0  0.0  1.0  1.0  1.0  185938.0   \n",
       "1        189062.0  0.664554  0.472147  0.0  0.0  1.0  1.0  1.0  189062.0   \n",
       "\n",
       "                    ... highedu          group                                \\\n",
       "              mean  ...     75%  max     count      mean       std  min  25%   \n",
       "samesex             ...                                                        \n",
       "0        26.538196  ...     1.0  1.0  185938.0  5.497381  2.872790  1.0  3.0   \n",
       "1        26.239482  ...     1.0  1.0  189062.0  5.502576  2.871698  1.0  3.0   \n",
       "\n",
       "                         \n",
       "         50%  75%   max  \n",
       "samesex                  \n",
       "0        5.0  8.0  10.0  \n",
       "1        6.0  8.0  10.0  \n",
       "\n",
       "[2 rows x 160 columns]"
      ]
     },
     "execution_count": 10,
     "metadata": {},
     "output_type": "execute_result"
    }
   ],
   "source": [
    "df = pd.read_stata('PS8.dta')\n",
    "df.groupby(\"samesex\").describe()"
   ]
  },
  {
   "cell_type": "code",
   "execution_count": 11,
   "metadata": {},
   "outputs": [
    {
     "data": {
      "text/html": [
       "<div>\n",
       "<style scoped>\n",
       "    .dataframe tbody tr th:only-of-type {\n",
       "        vertical-align: middle;\n",
       "    }\n",
       "\n",
       "    .dataframe tbody tr th {\n",
       "        vertical-align: top;\n",
       "    }\n",
       "\n",
       "    .dataframe thead th {\n",
       "        text-align: right;\n",
       "    }\n",
       "</style>\n",
       "<table border=\"1\" class=\"dataframe\">\n",
       "  <thead>\n",
       "    <tr style=\"text-align: right;\">\n",
       "      <th></th>\n",
       "      <th>agem</th>\n",
       "      <th>morekids</th>\n",
       "      <th>nkids</th>\n",
       "    </tr>\n",
       "    <tr>\n",
       "      <th>samesex</th>\n",
       "      <th></th>\n",
       "      <th></th>\n",
       "      <th></th>\n",
       "    </tr>\n",
       "  </thead>\n",
       "  <tbody>\n",
       "    <tr>\n",
       "      <th>0</th>\n",
       "      <td>30.425970</td>\n",
       "      <td>0.338473</td>\n",
       "      <td>2.452721</td>\n",
       "    </tr>\n",
       "    <tr>\n",
       "      <th>1</th>\n",
       "      <td>30.440094</td>\n",
       "      <td>0.401731</td>\n",
       "      <td>2.536946</td>\n",
       "    </tr>\n",
       "  </tbody>\n",
       "</table>\n",
       "</div>"
      ],
      "text/plain": [
       "              agem  morekids     nkids\n",
       "samesex                               \n",
       "0        30.425970  0.338473  2.452721\n",
       "1        30.440094  0.401731  2.536946"
      ]
     },
     "execution_count": 11,
     "metadata": {},
     "output_type": "execute_result"
    }
   ],
   "source": [
    "df.groupby('samesex').agg({\n",
    "    'agem': 'mean',\n",
    "    'morekids': 'mean',\n",
    "    'nkids': 'mean',\n",
    "    # Add other relevant variables as needed\n",
    "})"
   ]
  },
  {
   "cell_type": "markdown",
   "metadata": {},
   "source": [
    "**Dit svar:**\n"
   ]
  },
  {
   "cell_type": "markdown",
   "metadata": {},
   "source": []
  },
  {
   "cell_type": "markdown",
   "metadata": {},
   "source": [
    "\n",
    "### **Opgave 2.** \n",
    "Estimer model (1) med OLS. Vis resultaterne i en tabel, hvor I bruger de standardfejl, som I mener er relevante i denne sammenhæng. Kommenter på sammenhængen mellem at få flere børn og kvinders sandsynlighed for at arbejde.\n",
    "\n"
   ]
  },
  {
   "cell_type": "markdown",
   "metadata": {},
   "source": [
    "\n",
    "**Din kode:**\n"
   ]
  },
  {
   "cell_type": "code",
   "execution_count": 13,
   "metadata": {},
   "outputs": [
    {
     "name": "stdout",
     "output_type": "stream",
     "text": [
      "                            OLS Regression Results                            \n",
      "==============================================================================\n",
      "Dep. Variable:                  workm   R-squared:                       0.040\n",
      "Model:                            OLS   Adj. R-squared:                  0.040\n",
      "Method:                 Least Squares   F-statistic:                     2029.\n",
      "Date:                Mon, 21 Oct 2024   Prob (F-statistic):               0.00\n",
      "Time:                        11:37:11   Log-Likelihood:            -2.4221e+05\n",
      "No. Observations:              375000   AIC:                         4.844e+05\n",
      "Df Residuals:                  374991   BIC:                         4.845e+05\n",
      "Df Model:                           8                                         \n",
      "Covariance Type:                  HC1                                         \n",
      "==============================================================================\n",
      "                 coef    std err          z      P>|z|      [0.025      0.975]\n",
      "------------------------------------------------------------------------------\n",
      "Intercept      0.4282      0.007     57.440      0.000       0.414       0.443\n",
      "morekids      -0.1521      0.002    -92.325      0.000      -0.155      -0.149\n",
      "boy1stkid     -0.0024      0.002     -1.609      0.108      -0.005       0.001\n",
      "boy2ndkid     -0.0005      0.002     -0.326      0.744      -0.003       0.002\n",
      "agem           0.0201      0.000     82.465      0.000       0.020       0.021\n",
      "agem1stkid    -0.0139      0.000    -55.578      0.000      -0.014      -0.013\n",
      "black          0.0027      0.002      1.079      0.281      -0.002       0.007\n",
      "hisp          -0.0989      0.003    -37.390      0.000      -0.104      -0.094\n",
      "other         -0.0602      0.004    -14.199      0.000      -0.069      -0.052\n",
      "==============================================================================\n",
      "Omnibus:                  4664306.418   Durbin-Watson:                   2.004\n",
      "Prob(Omnibus):                  0.000   Jarque-Bera (JB):            57353.004\n",
      "Skew:                          -0.670   Prob(JB):                         0.00\n",
      "Kurtosis:                       1.630   Cond. No.                         365.\n",
      "==============================================================================\n",
      "\n",
      "Notes:\n",
      "[1] Standard Errors are heteroscedasticity robust (HC1)\n"
     ]
    }
   ],
   "source": [
    "model1 = smf.ols('workm ~ morekids + boy1stkid + boy2ndkid + agem + agem1stkid + black + hisp + other', data=df).fit(cov_type=\"HC1\")\n",
    "print(model1.summary()) "
   ]
  },
  {
   "cell_type": "markdown",
   "metadata": {},
   "source": [
    "\\begin{align}\n",
    "workm_i = \\space &\\beta_0 + \\beta_1 \\, morekids_i + \\beta_2 \\, boy1stkid_i + \\beta_3 \\, boy2ndkid_i \\\\ &\n",
    "+ \\beta_4 \\, agem_i + \\beta_5 \\, agem1stkid_i + \\beta_6 \\, black_i + \\beta_7 \\, hisp_i + \\beta_8 \\, other_i + u_i \n",
    "\\end{align}\\tag{1}"
   ]
  },
  {
   "cell_type": "markdown",
   "metadata": {},
   "source": [
    "**Dit svar:**\n"
   ]
  },
  {
   "cell_type": "markdown",
   "metadata": {},
   "source": [
    "Variablen `morekids` har en negativ effekt forklaret på variablen `workm`. Altså jo flere børn kvinder har, jo mindre arbejder de"
   ]
  },
  {
   "cell_type": "markdown",
   "metadata": {},
   "source": [
    "---"
   ]
  },
  {
   "cell_type": "markdown",
   "metadata": {},
   "source": [
    "## **- Intermission -**\n"
   ]
  },
  {
   "cell_type": "markdown",
   "metadata": {},
   "source": [
    "\n",
    "Om lidt skal vi til at køre IV-regressioner. Til det skal vi bruge et nyt værktøj, nemlig `IV2SLS` fra pakken `linearmodels`. Det minder meget om statsmodels, men giver os mulighed for at bruge instrumentale variable – og så er det på nogle områder faktisk lidt nemmere at arbejde med end statsmodels.\n",
    "\n",
    "Først importerer du pakken med følgende kode:\n",
    "\n",
    "```py\n",
    "from linearmodels import IV2SLS\n",
    "```\n",
    "\n",
    "Når vi vil instrumentere $morekids$ med variablen $samesex$ i model (1) kan vi nu bruge koden:\n",
    "\n",
    "```py\n",
    "model = IV2SLS.from_formula('workm ~ 1 + [morekids ~ samesex] + boy1stkid + boy2ndkid + agem + agem1stkid + black + hisp + other', data=df)\n",
    "results = model.fit()\n",
    "print(results)\n",
    "```\n",
    "Der er fire vigtige ting, du skal lægge mærke til her:\n",
    "1. Instrumenteringen sker ved \"indlejre\" en ny regression i vores formel. Det gør vi ved at sætte den i klammer. I eksemplet ovenfor har vi `[morekids ~ samesex]`. Det betyder, at vi instrumenterer $morekids$ med instrumentet $samesex$. Alt der står uden for vores klammerne indgår i modellen helt som vi plejer.\n",
    "\n",
    "2. Vi skal selv sørge for at tilføje et 1-tal i vores modelformel, hvis vi vil have et konstantled med (og det vil vi næsten altid!).\n",
    "\n",
    "3. `IV2SLS` bruger automatisk robuste standardfejl. Hvis vi vil have almindelige standardfejl skal vi eksplicit bede om dem ved at bruge `.fit(cov_type='unadjusted')`\n",
    "\n",
    "4. For at printe resultaterne bruger vi bare `print(results)`. Vi behøver altså ikke tilføje `.summary()`, som vi ellers plejer at skulle i statsmodels.\n",
    "\n",
    "\n",
    "\n",
    "Du kan læse mere om værktøjet IV2SLS fra linearmodels her: https://bashtage.github.io/linearmodels/iv/examples/basic-examples.html\n"
   ]
  },
  {
   "cell_type": "markdown",
   "metadata": {},
   "source": [
    "\n",
    "_Pro tip:_ Hvis du bliver glad for at bruge `IV2SLS` fra linearmodels, kan du faktisk også bruge det, når du vil køre almindelige OLS regressioner. Du får nemlig automatisk almindelige OLS estimater ud af `IV2SLS` værktøjet, hvis blot du undlader at specificere nogle instrumenter i din modelformel. Men du kan stadig nyde godt af den lidt simplere syntax og at der automatisk anvendes robuste standardfejl. Så hvis du vil, kan du helt undlade at bruge statsmodels fremadrettet."
   ]
  },
  {
   "cell_type": "markdown",
   "metadata": {},
   "source": [
    "---"
   ]
  },
  {
   "cell_type": "markdown",
   "metadata": {},
   "source": [
    "\n",
    "**Opgave 3.** Estimer model (1) med IV, hvor I bruger $samesex_i$ som et instrument for $morekids_i$. Vis resultaterne i en tabel, og sammenlign med OLS estimaterne fra spørgsmål 2. Sørg for at du har læst og forstået ovenstående hints, inden du løser opgaven.\n",
    "\n"
   ]
  },
  {
   "cell_type": "markdown",
   "metadata": {},
   "source": [
    "\n",
    "**Din kode:**\n"
   ]
  },
  {
   "cell_type": "code",
   "execution_count": null,
   "metadata": {},
   "outputs": [],
   "source": []
  },
  {
   "cell_type": "markdown",
   "metadata": {},
   "source": [
    "\n",
    "**Dit svar:**\n"
   ]
  },
  {
   "cell_type": "markdown",
   "metadata": {},
   "source": []
  },
  {
   "cell_type": "markdown",
   "metadata": {},
   "source": [
    "\n",
    "### **Opgave 4.** \n",
    "En fordel ved at bruge $samesex_i$ som et instrument er, at det kan dekomponeres til to separate instrumenter: $twoboys_i$ og $twogirls_i$. Estimer model (1) uden dummyvariablen $boy2ndkid_i$, og hvor I bruger $twoboys_i$ og $twogirls_i$ som instrument for $morekids_i$. Kommenter på resultaterne og sammenlign med estimaterne fra spørgsmål 3. Hvorfor kan I ikke medtage $boy2ndkid_i$, når I bruger to separate instrumenter?\n"
   ]
  },
  {
   "cell_type": "markdown",
   "metadata": {},
   "source": [
    "\n",
    "_Hint:_ Du kan let bruge flere instrumenter på en gang når du instrumenterer i linearmodels: `[morekids ~ twoboys + twogirls]`"
   ]
  },
  {
   "cell_type": "markdown",
   "metadata": {},
   "source": [
    "\n",
    "**Din kode:**\n"
   ]
  },
  {
   "cell_type": "code",
   "execution_count": null,
   "metadata": {},
   "outputs": [],
   "source": []
  },
  {
   "cell_type": "markdown",
   "metadata": {},
   "source": [
    "**Dit svar:**\n"
   ]
  },
  {
   "cell_type": "markdown",
   "metadata": {},
   "source": []
  },
  {
   "cell_type": "markdown",
   "metadata": {},
   "source": [
    "\n",
    "### **Opgave 5.** \n",
    "Forklar hvad overidentificerede restriktioner er. Herefter skal I udføre en test for dette i modellen fra spørgsmål 4.\n",
    "\n"
   ]
  },
  {
   "cell_type": "markdown",
   "metadata": {},
   "source": [
    "**Dit svar:**\n"
   ]
  },
  {
   "cell_type": "markdown",
   "metadata": {},
   "source": []
  },
  {
   "cell_type": "markdown",
   "metadata": {},
   "source": [
    "\n",
    "**Din kode:**\n"
   ]
  },
  {
   "cell_type": "code",
   "execution_count": null,
   "metadata": {},
   "outputs": [],
   "source": []
  },
  {
   "cell_type": "markdown",
   "metadata": {},
   "source": [
    "\n",
    "### **Bonus\"opgave\": Lær at opsætte tabeller til at sammenligne regressionsoutpu** \n",
    "Indtil videre har I udelukkende set på den **ekstensive margin**, som er, om kvinder arbejder eller ej som følge af flere børn. I skal nu se på den **intensive margin**, som er ændringen i, hvor meget kvinder arbejder som følge af flere børn. I skal løse spørgsmål 2 og 3 igen.\n",
    "\n",
    "   Model (1) kan omskrives til følgende, hvor $y_i = \\{weekm_i, hourm_i, lincm_i, log(faminc_i)\\}$:\n",
    "   \n",
    "   \\begin{align*}\n",
    "   y_i =& \\beta_0 + \\beta_1 \\, \\text{morekids}_i + \\beta_2 \\, \\text{boy1stkid}_i + \\beta_3 \\, \\text{boy2ndkid}_i + \\beta_4 \\, \\text{agem}_i \\\\\n",
    "   & + \\beta_5 \\, \\text{agem1stkid}_i + \\beta_6 \\, \\text{black}_i + \\beta_7 \\, \\text{hisp}_i + \\beta_8 \\, \\text{other}_i + u_i\n",
    "\\end{align*}\n",
    "\n",
    "Prøv at læse koden nedenfor linje for linje og vær sikker på, at du forstår, hvad der sker i hvert trin. Kør koden og fortolk på resultaterne."
   ]
  },
  {
   "cell_type": "markdown",
   "metadata": {},
   "source": [
    "\n",
    "**Din kode:**\n"
   ]
  },
  {
   "cell_type": "code",
   "execution_count": 3,
   "metadata": {},
   "outputs": [],
   "source": [
    "# Importer værktøjet `compare` fra linearmodels, som gør det let at sammenligne resultaterne af forskellige modeller\n",
    "from linearmodels.iv import compare"
   ]
  },
  {
   "cell_type": "code",
   "execution_count": 4,
   "metadata": {},
   "outputs": [
    {
     "ename": "NameError",
     "evalue": "name 'IV2SLS' is not defined",
     "output_type": "error",
     "traceback": [
      "\u001b[0;31m---------------------------------------------------------------------------\u001b[0m",
      "\u001b[0;31mNameError\u001b[0m                                 Traceback (most recent call last)",
      "Cell \u001b[0;32mIn[4], line 13\u001b[0m\n\u001b[1;32m     11\u001b[0m \u001b[38;5;66;03m# Estimer de fire modeller\u001b[39;00m\n\u001b[1;32m     12\u001b[0m \u001b[38;5;28;01mfor\u001b[39;00m y \u001b[38;5;129;01min\u001b[39;00m [\u001b[38;5;124m'\u001b[39m\u001b[38;5;124mweekm\u001b[39m\u001b[38;5;124m'\u001b[39m, \u001b[38;5;124m'\u001b[39m\u001b[38;5;124mhourm\u001b[39m\u001b[38;5;124m'\u001b[39m, \u001b[38;5;124m'\u001b[39m\u001b[38;5;124mlincm\u001b[39m\u001b[38;5;124m'\u001b[39m, \u001b[38;5;124m'\u001b[39m\u001b[38;5;124mlfaminc\u001b[39m\u001b[38;5;124m'\u001b[39m]:\n\u001b[0;32m---> 13\u001b[0m     model \u001b[38;5;241m=\u001b[39m IV2SLS\u001b[38;5;241m.\u001b[39mfrom_formula(y \u001b[38;5;241m+\u001b[39m \u001b[38;5;124m'\u001b[39m\u001b[38;5;124m~ [morekids ~ samesex] + boy1stkid + agem + agem1stkid + black + hisp + other\u001b[39m\u001b[38;5;124m'\u001b[39m, data\u001b[38;5;241m=\u001b[39mdf2)\n\u001b[1;32m     14\u001b[0m     results[y] \u001b[38;5;241m=\u001b[39m model\u001b[38;5;241m.\u001b[39mfit()\n\u001b[1;32m     16\u001b[0m \u001b[38;5;66;03m# Sammenlign resultaterne i en tabel. Stjernerne angiver signifikansniveuaet. Paranteserne viser t-værdierne.\u001b[39;00m\n",
      "\u001b[0;31mNameError\u001b[0m: name 'IV2SLS' is not defined"
     ]
    }
   ],
   "source": [
    "# Fjern de observationer, hvor familieindkomsten er lig nul eller mangler\n",
    "df2 = pd.read_stata('PS8.dta')\n",
    "df2 = df2[df2.faminc > 0]\n",
    "\n",
    "# Tag logaritmen af familiens indkomst\n",
    "df2['lfaminc'] = np.log(df2.faminc)\n",
    "\n",
    "# Opret en tom dictionary til at gemme vores regressionsresultater\n",
    "results = {}\n",
    "\n",
    "# Estimer de fire modeller\n",
    "for y in ['weekm', 'hourm', 'lincm', 'lfaminc']:\n",
    "    model = IV2SLS.from_formula(y + '~ [morekids ~ samesex] + boy1stkid + agem + agem1stkid + black + hisp + other', data=df2)\n",
    "    results[y] = model.fit()\n",
    "\n",
    "# Sammenlign resultaterne i en tabel. Stjernerne angiver signifikansniveuaet. Paranteserne viser t-værdierne.\n",
    "compare(results, stars=True)\n"
   ]
  },
  {
   "cell_type": "markdown",
   "metadata": {},
   "source": [
    "**Dit svar:**"
   ]
  },
  {
   "cell_type": "markdown",
   "metadata": {},
   "source": []
  },
  {
   "cell_type": "markdown",
   "metadata": {},
   "source": [
    "\n",
    "\n",
    "# Regneøvelser\n",
    "\n",
    "I denne øvelse skal I udlede IV-estimatoren i det simple og generelle tilfælde (2SLS).\n",
    "\n",
    "I kan hente hjælp bagerst i forelæsningsslidesne om IV-estimation (appendikset).\n"
   ]
  },
  {
   "cell_type": "markdown",
   "metadata": {},
   "source": [
    "\n",
    "### **Opgave 1**\n",
    "Vi starter i det simple tilfælde (én forklarende variabel, ét instrument). Tag udgangspunkt i ligningen:\n",
    " $$y_i = \\beta_0 + \\beta_1 x_i + u_i$$\n",
    " hvor $z$ er et relevant og validt instrument for $x$. \n",
    "\n",
    "Du skal nu udlede, at: \n",
    "\n",
    "$$ {\\beta_1} = \\frac{cov(z_i,y_i)}{cov(z_i,x_i)} $$\n",
    "\n",
    "og at IV estimatoren derfor er:\n",
    "\n",
    "$$\\hat{\\beta}_1 = \\frac{\\sum_{i=1}^n(z_i-\\bar{z})(y_i-\\bar{y})}{\\sum_{i=1}^n(z_i-\\bar{z})(x_i-\\bar{x})}$$\n"
   ]
  },
  {
   "cell_type": "markdown",
   "metadata": {},
   "source": [
    "_Hint:_ Brug at:\n",
    "$cov(z_i,y_i) = cov(z_i, \\beta_0 + \\beta_1x_i+u_i)$"
   ]
  },
  {
   "cell_type": "markdown",
   "metadata": {},
   "source": [
    "**Dit svar:**\n"
   ]
  },
  {
   "cell_type": "markdown",
   "metadata": {},
   "source": []
  },
  {
   "cell_type": "markdown",
   "metadata": {},
   "source": [
    "\n",
    "### **Opgave 2.**\n",
    "Vi betragter nu det generelle tilfælde (2SLS). Tag udgangspunkt i ligningen: \n",
    "$$y = X\\beta + u$$\n",
    "- hvor vi har $k$ forklarende variable\n",
    "- De første $p \\leq k$ variable er endogene. \n",
    "- De resterende $k-p$ variable er eksogene.\n",
    "- $Z$ er en matrix med mindst $p$ instrumenter, som er relevante og valide instrumenter for de $p$ endogene variable.\n",
    "\n",
    "Udled, at hvis antallet af instrumenter er det samme som antallet af endogene variable, da er 2SLS estimatoren:\n",
    "\n",
    "\\begin{align*}\n",
    "\\hat{\\beta} &= (Z'X)^{-1}Z'y\n",
    "\\end{align*}\n",
    "\n",
    "_Hint:_ Start med at bruge, at hvis $Z$ er valid, da gælder at $Z'\\hat{u} = 0 \\Leftrightarrow Z'(y-X\\hat{\\beta}) = 0$\n",
    "\n"
   ]
  },
  {
   "cell_type": "markdown",
   "metadata": {},
   "source": [
    "**Dit svar:**\n"
   ]
  },
  {
   "cell_type": "markdown",
   "metadata": {},
   "source": []
  },
  {
   "cell_type": "markdown",
   "metadata": {},
   "source": [
    "### **Opgave 3.**\n",
    "Opskriv instrumentmatricen, $Z$, hvis der er ét instrument og én endogen variabel\n"
   ]
  },
  {
   "cell_type": "markdown",
   "metadata": {},
   "source": [
    "**Dit svar:**\n"
   ]
  },
  {
   "cell_type": "markdown",
   "metadata": {},
   "source": []
  },
  {
   "cell_type": "markdown",
   "metadata": {},
   "source": [
    "\n",
    "### **Opgave 4.** \n",
    "\n",
    "Hvis antallet af instrumenter er lig eller større end antallet af endogene variable, kan vi skrive 2SLS-estimatoren $\\hat{\\beta}$ på formen:\n",
    "\\begin{align*}\n",
    " X &= Z\\Pi + E \\\\\n",
    " \\hat{\\Pi} &= (Z'Z)^{-1}Z'X  \\quad \\quad \\quad \\quad \\quad &\\text{(First stage-estimatet)}\\\\\n",
    " \\hat{X} &= Z\\hat{\\Pi} = Z(Z'Z)^{-1}Z'X \\quad \\quad &\\text{(De prædikterede X-værdier)} \\\\\n",
    " \\hat{\\beta} &= (\\hat{X}'\\hat{X})^{-1}\\hat{X}'y \\quad \\quad \\quad \\quad \\quad \\quad &\\text{(Second stage-estimatet)} \\\\\n",
    "             &= \\left((X'Z)(Z'Z)^{-1}(Z'X)\\right)^{-1}(X'Z)(Z'Z)^{-1}(Z'y)\n",
    "\\end{align*}\n",
    " \n",
    "\n",
    "Skriv din egen funktion til at beregne 2SLS-estimaterne fra Python-opgave 3. Hvilke variable skal indgå i instrumentmatricen $Z$? Kan du få de samme resultater, som når du bruger `linearmodels`?"
   ]
  },
  {
   "cell_type": "markdown",
   "metadata": {},
   "source": [
    "\n",
    "**Din kode:**\n"
   ]
  },
  {
   "cell_type": "markdown",
   "metadata": {},
   "source": [
    "I den første celle skal du udfylde Z-matricen:"
   ]
  },
  {
   "cell_type": "code",
   "execution_count": 96,
   "metadata": {},
   "outputs": [],
   "source": [
    "# Gør dataen klar til din estimation\n",
    "\n",
    "# Tilføj først en konstant til vores dataframe\n",
    "df = pd.read_stata('PS8.dta')\n",
    "df['const'] = 1\n",
    "\n",
    "# X er de k eksogene variable og de p endogene variable. Her er vores eneste endogene variabel `morekids`\n",
    "X = df[['const', 'boy1stkid', 'boy2ndkid', 'agem', 'agem1stkid', 'black', 'hisp', 'other', 'morekids']]\n",
    "\n",
    "# Z er de k eksogene variable og de >= p instrumenter. Her er vores eneste instrument `samesex`\n",
    "Z = ... # Din kode her\n",
    "\n",
    "# y er vores afhængige variabel\n",
    "y = df['workm']\n",
    "\n",
    "# Udtræk numpy arrays fra vores pandas dataframes\n",
    "Z = Z.values\n",
    "X = X.values\n",
    "y = y.values"
   ]
  },
  {
   "cell_type": "markdown",
   "metadata": {},
   "source": [
    "I den næste celle skal du udfylde implementere 2SLS estimatoren vha. formlerne ovenfor:"
   ]
  },
  {
   "cell_type": "code",
   "execution_count": null,
   "metadata": {},
   "outputs": [],
   "source": [
    "# Implementer din egen 2SLS estimator\n",
    "def my_2SLS(y, X, Z):\n",
    "    # Estimer dit first stage (regresser X på Z)\n",
    "    Pihat = ...\n",
    "    \n",
    "    # Brug first stage til at beregne Xhat (de prædikterede værdier af X)\n",
    "    Xhat = ...\n",
    "    \n",
    "    # Estimer andet trin (regresser y på Xhat)\n",
    "    betahat = ...\n",
    "\n",
    "    return betahat\n",
    "\n",
    "print(my_2SLS(y, X, Z).round(4))\n"
   ]
  }
 ],
 "metadata": {
  "kernelspec": {
   "display_name": "base",
   "language": "python",
   "name": "python3"
  },
  "language_info": {
   "codemirror_mode": {
    "name": "ipython",
    "version": 3
   },
   "file_extension": ".py",
   "mimetype": "text/x-python",
   "name": "python",
   "nbconvert_exporter": "python",
   "pygments_lexer": "ipython3",
   "version": "3.12.2"
  }
 },
 "nbformat": 4,
 "nbformat_minor": 2
}
