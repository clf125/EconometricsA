{
 "cells": [
  {
   "cell_type": "code",
   "execution_count": 1,
   "metadata": {},
   "outputs": [],
   "source": [
    "import pandas as pd\n",
    "import numpy as np\n",
    "import matplotlib.pyplot as plt\n",
    "import seaborn as sns\n",
    "import statsmodels.formula.api as smf"
   ]
  },
  {
   "cell_type": "markdown",
   "metadata": {},
   "source": [
    "# Økonometri A\n"
   ]
  },
  {
   "cell_type": "markdown",
   "metadata": {},
   "source": [
    "\n",
    "## Problem Set 8\n"
   ]
  },
  {
   "cell_type": "markdown",
   "metadata": {},
   "source": [
    "\n",
    "### Økonometrisk analyse af børns betydning for kvinders arbejdsudbud\n",
    "\n",
    "I ugeseddel 8 får I en introduktion til instrument variabel (IV) estimation. I skal undersøge, hvilken betydning børn har på kvinders arbejdsudbud. Hvis lavere fertilitet eller færre børn giver kvinder et højere arbejdsudbud, kan det være med til forklare kvinders stigende deltagelse på arbejdsmarkedet efter 2. verdenskrig. Ligeledes har ændringer i kvinders arbejdsudbud, som kan forklares med ændringer i fertiltet, vigtige implikationer på andre fænomener såsom ægteskab, skilsmisse, børnepasning, fordeling af løn mellem mænd og kvinder i husholdningen og lønforskelle mellem mænd og kvinder.\n",
    "\n",
    "Grunden til, at I skal bruge IV estimation i denne ugeseddel er, at fertilitet er en endogen variabel, så hver gang der sker en ændring i fertilitet, sker der en ukendt ændring i fejlleddet, som påvirker kvinders arbejdsudbud. At fertilitet er endogen kan skyldes omvendt kausalitet, udeladte variable, eller at fertilitet og arbejdsudbud bliver bestemt simultant. Det implicerer, at OLS estimatoren ikke kan bruges, hvis I gerne vil undersøge den kausale effekt af fertilitet på arbejdsudbud.\n",
    "\n",
    "Ugesedlen tager udgangspunkt i forskningsartiklen *\"Children and their Parents' Labor Supply\"* af Angrist og Evans (1998). I deres forskningsartikel bruger Angrist og Evans, at forældre har en præference for at få børn af begge køn til at lave IV estimationen. I deres identifikationsstrategi bruger de, at forældre med to børn af samme køn har en signifikant større sandsynlighed for at få et 3. barn. Eftersom at et barns køn er tilfældigt givet, kan en variabel, som angiver, om de første to børns køn er ens, bruges som et instrument for, om en kvinde får flere end de to første børn.\n",
    "\n",
    "For at kunne undersøge sammenhængen mellem fertilitet og arbejdsudbud, skal I se på data for amerikanske kvinder i 1990. I har detaljeret information om deres arbejds- og familiekarakteristika. Data består af 337.500 observationer fra et repræsentativt udsnit af kvinder mellem 21 og 35 år med mindst to børn i USA i 1990.\n"
   ]
  },
  {
   "cell_type": "markdown",
   "metadata": {},
   "source": [
    "\n",
    "### Variabelliste\n",
    "\n",
    "| Variabelnavn  | Forklaring                                                 |\n",
    "| ------------- | ---------------------------------------------------------- |\n",
    "| **workm**     | Dummy for om moren arbejder eller ej                        |\n",
    "| **weekm**     | Antal uger arbejdet i løbet af et år                        |\n",
    "| **hourm**     | Antal timer arbejdet i løbet af en uge                      |\n",
    "| **lincm**     | Arbejdsindkomst i US dollars                                |\n",
    "| **faminc**    | Samlet familieindkomst i US dollars                         |\n",
    "| **agem**      | Morens alder                                                |\n",
    "| **agem1stkid**| Morens alder ved første barn                                |\n",
    "| **nkids**     | Samlet antal børn                                           |\n",
    "| **morekids**  | Dummy for om moren har mere end to børn                     |\n",
    "| **boy1stkid** | Dummy for om første barn er en dreng                        |\n",
    "| **boy2ndkid** | Dummy for om andet barn er en dreng                         |\n",
    "| **twoboys**   | Dummy for om de første to børn er drenge                    |\n",
    "| **twogirls**  | Dummy for om de første to børn er piger                     |\n",
    "| **samesex**   | Dummy for om de første to børn har samme køn                |\n",
    "| **black**     | Dummy for morens afstamning (referencegruppe: hvid)         |\n",
    "| **hisp**      | Dummy for morens afstamning (referencegruppe: hvid)         |\n",
    "| **other**     | Dummy for morens afstamning (referencegruppe: hvid)         |\n",
    "| **lowedu**    | Dummy for om morens uddannelse er kortere end gymnasiet     |\n",
    "| **hsedu**     | Dummy for om morens uddannelse er gymnasieniveau            |\n",
    "| **highedu**   | Dummy for om morens uddannelse længere end gymnasiet        |\n"
   ]
  },
  {
   "cell_type": "markdown",
   "metadata": {},
   "source": [
    "\n",
    "### Regressionsmodel (1)\n",
    "\n",
    "\\begin{align}\n",
    "workm_i = \\space &\\beta_0 + \\beta_1 \\, morekids_i + \\beta_2 \\, boy1stkid_i + \\beta_3 \\, boy2ndkid_i \\\\ &\n",
    "+ \\beta_4 \\, agem_i + \\beta_5 \\, agem1stkid_i + \\beta_6 \\, black_i + \\beta_7 \\, hisp_i + \\beta_8 \\, other_i + u_i \n",
    "\\end{align}\\tag{1}\n",
    "\n",
    "hvor $u_i$ er fejlleddet. Dummy-variablen $morekids_i$ er et mål for fertilitet.\n"
   ]
  },
  {
   "cell_type": "markdown",
   "metadata": {},
   "source": [
    "\n",
    "## **Gruppespørgsmål**\n"
   ]
  },
  {
   "cell_type": "markdown",
   "metadata": {},
   "source": [
    "\n",
    "### **Opgave 1.** \n",
    "Hvad er fortolkningen af $\\beta_1$? Hvad er det forventede fortegn for $\\beta_1$?\n",
    "\n"
   ]
  },
  {
   "cell_type": "markdown",
   "metadata": {},
   "source": [
    "**Dit svar:**\n"
   ]
  },
  {
   "cell_type": "markdown",
   "metadata": {},
   "source": [
    "> Fortolkningen af $\\beta_1$ er den forventede effekt af fertilitet på mødres arbejdsudbud, alt andet lige. Vi sammenligner arbejdsudbud (om moren arbejder eller ej) for mødre med mere end to børn i forhold til mødre med to børn. Model (1) er en lineær sandsynlighedsmodel, så fortolkningen af $\\beta_1$ er, at mødre med mere end to børn har $100\\cdot \\beta_1$ pct. mere/mindre sandsynlighed for at arbejde. \n",
    "> \n",
    "> Vi forventer, at større fertilitet giver lavere arbejdsudbud, jf. opgavebeskrivelse, så $\\beta_1<0$. "
   ]
  },
  {
   "cell_type": "markdown",
   "metadata": {},
   "source": [
    "\n",
    "### **Opgave 2.** \n",
    "Hvad er fortolkningen af $\\beta_4$ og $\\beta_5$?\n",
    "\n"
   ]
  },
  {
   "cell_type": "markdown",
   "metadata": {},
   "source": [
    "**Dit svar:**\n"
   ]
  },
  {
   "cell_type": "markdown",
   "metadata": {},
   "source": [
    "> $\\beta_4$ er den forventede effekt af moderens alder på arbejdsudbud, alt andet lige. $\\beta_5$ er den forventede effekt af moderens alder, hvor hun får sit første barn, på arbejdsudbud, alt andet lige. \n"
   ]
  },
  {
   "cell_type": "markdown",
   "metadata": {},
   "source": [
    "\n",
    "### **Opgave 3.** \n",
    "Kom med eksempler på, hvad der kan påvirke både arbejdsudbud og fertilitet, som ikke er medtaget i modellen, og som gør $morekids_i$ til en endogen variabel. Diskuter, hvilke implikationer det har for OLS estimatorens egenskaber.\n",
    "\n"
   ]
  },
  {
   "cell_type": "markdown",
   "metadata": {},
   "source": [
    "**Dit svar:**\n"
   ]
  },
  {
   "cell_type": "markdown",
   "metadata": {},
   "source": [
    "> Uobserverede præferencer for fritid/arbejde påvirker både fertilitet og arbejdsudbud. Ønsket om en bestemt familiestørrelse. Eksempel med uobserveret familiestørrelse: Det er positivt korreleret med antallet af børn og negativt korreleret med arbejdsudbud. Det vil give en negativt bias i OLS estimatoren."
   ]
  },
  {
   "cell_type": "markdown",
   "metadata": {},
   "source": [
    "\n",
    "### **Opgave 4.** \n",
    "Hvilke to egenskaber skal en variabel $z$ have for at kunne være et godt instrument. Diskuter om en dummy-variabel, som viser, at de første to børns køn er ens, er et muligt instrument for $morekids_i$.\n",
    "\n"
   ]
  },
  {
   "cell_type": "markdown",
   "metadata": {},
   "source": [
    "**Dit svar:**\n"
   ]
  },
  {
   "cell_type": "markdown",
   "metadata": {},
   "source": [
    "> Et instrument skal være validt, $cov(z,u)=0$, og relevant $cov(z,x)\\neq 0$. Variablen $samesex_i$ er et godt instrument, hvis det opfylder disse to kriterier. Hvis køn er tilfældigt givet, er instrumentet validt. Hvis forældre foretrækker at have et barn af hvert køn, er de mere tilføjelige til at få flere børn, hvis de to første er af samme køn. På den måde er instrumentet relevant og kan forklare en del af variationen i fertilitet."
   ]
  },
  {
   "cell_type": "markdown",
   "metadata": {},
   "source": [
    "\n",
    "## **Python øvelser**\n",
    "\n",
    "I skal nu forsøge at estimere den kausale effekt af, at en kvinde får mere end to børn, hvor I bruger samme identifikationsstrategi som Angrist og Evans.\n"
   ]
  },
  {
   "cell_type": "markdown",
   "metadata": {},
   "source": [
    "\n",
    "### **Opgave 1.** \n",
    "Lav en tabel, hvor I sammenligner kvinder med $samesex = 1$ og $samesex = 0$ på relevante karakteristika. Kommenter kort på tabellen.\n",
    "\n"
   ]
  },
  {
   "cell_type": "markdown",
   "metadata": {},
   "source": [
    "\n",
    "**Din kode:**\n"
   ]
  },
  {
   "cell_type": "code",
   "execution_count": 2,
   "metadata": {},
   "outputs": [
    {
     "data": {
      "text/html": [
       "<div>\n",
       "<style scoped>\n",
       "    .dataframe tbody tr th:only-of-type {\n",
       "        vertical-align: middle;\n",
       "    }\n",
       "\n",
       "    .dataframe tbody tr th {\n",
       "        vertical-align: top;\n",
       "    }\n",
       "\n",
       "    .dataframe thead th {\n",
       "        text-align: right;\n",
       "    }\n",
       "</style>\n",
       "<table border=\"1\" class=\"dataframe\">\n",
       "  <thead>\n",
       "    <tr style=\"text-align: right;\">\n",
       "      <th>samesex</th>\n",
       "      <th>0</th>\n",
       "      <th>1</th>\n",
       "    </tr>\n",
       "  </thead>\n",
       "  <tbody>\n",
       "    <tr>\n",
       "      <th>workm</th>\n",
       "      <td>0.670</td>\n",
       "      <td>0.665</td>\n",
       "    </tr>\n",
       "    <tr>\n",
       "      <th>weekm</th>\n",
       "      <td>26.538</td>\n",
       "      <td>26.239</td>\n",
       "    </tr>\n",
       "    <tr>\n",
       "      <th>hourm</th>\n",
       "      <td>22.809</td>\n",
       "      <td>22.576</td>\n",
       "    </tr>\n",
       "    <tr>\n",
       "      <th>lincm</th>\n",
       "      <td>7365.050</td>\n",
       "      <td>7282.569</td>\n",
       "    </tr>\n",
       "    <tr>\n",
       "      <th>faminc</th>\n",
       "      <td>34437.250</td>\n",
       "      <td>34340.200</td>\n",
       "    </tr>\n",
       "    <tr>\n",
       "      <th>agem</th>\n",
       "      <td>30.426</td>\n",
       "      <td>30.440</td>\n",
       "    </tr>\n",
       "    <tr>\n",
       "      <th>agem1stkid</th>\n",
       "      <td>21.815</td>\n",
       "      <td>21.803</td>\n",
       "    </tr>\n",
       "    <tr>\n",
       "      <th>nkids</th>\n",
       "      <td>2.453</td>\n",
       "      <td>2.537</td>\n",
       "    </tr>\n",
       "    <tr>\n",
       "      <th>morekids</th>\n",
       "      <td>0.338</td>\n",
       "      <td>0.402</td>\n",
       "    </tr>\n",
       "    <tr>\n",
       "      <th>boy1stkid</th>\n",
       "      <td>0.502</td>\n",
       "      <td>0.523</td>\n",
       "    </tr>\n",
       "    <tr>\n",
       "      <th>boy2ndkid</th>\n",
       "      <td>0.498</td>\n",
       "      <td>0.523</td>\n",
       "    </tr>\n",
       "    <tr>\n",
       "      <th>twoboys</th>\n",
       "      <td>0.000</td>\n",
       "      <td>0.523</td>\n",
       "    </tr>\n",
       "    <tr>\n",
       "      <th>twogirls</th>\n",
       "      <td>0.000</td>\n",
       "      <td>0.477</td>\n",
       "    </tr>\n",
       "    <tr>\n",
       "      <th>black</th>\n",
       "      <td>0.108</td>\n",
       "      <td>0.110</td>\n",
       "    </tr>\n",
       "    <tr>\n",
       "      <th>hisp</th>\n",
       "      <td>0.104</td>\n",
       "      <td>0.103</td>\n",
       "    </tr>\n",
       "    <tr>\n",
       "      <th>other</th>\n",
       "      <td>0.036</td>\n",
       "      <td>0.035</td>\n",
       "    </tr>\n",
       "    <tr>\n",
       "      <th>lowedu</th>\n",
       "      <td>0.190</td>\n",
       "      <td>0.189</td>\n",
       "    </tr>\n",
       "    <tr>\n",
       "      <th>hsedu</th>\n",
       "      <td>0.385</td>\n",
       "      <td>0.384</td>\n",
       "    </tr>\n",
       "    <tr>\n",
       "      <th>highedu</th>\n",
       "      <td>0.426</td>\n",
       "      <td>0.427</td>\n",
       "    </tr>\n",
       "    <tr>\n",
       "      <th>group</th>\n",
       "      <td>5.497</td>\n",
       "      <td>5.503</td>\n",
       "    </tr>\n",
       "  </tbody>\n",
       "</table>\n",
       "</div>"
      ],
      "text/plain": [
       "samesex             0          1\n",
       "workm           0.670      0.665\n",
       "weekm          26.538     26.239\n",
       "hourm          22.809     22.576\n",
       "lincm        7365.050   7282.569\n",
       "faminc      34437.250  34340.200\n",
       "agem           30.426     30.440\n",
       "agem1stkid     21.815     21.803\n",
       "nkids           2.453      2.537\n",
       "morekids        0.338      0.402\n",
       "boy1stkid       0.502      0.523\n",
       "boy2ndkid       0.498      0.523\n",
       "twoboys         0.000      0.523\n",
       "twogirls        0.000      0.477\n",
       "black           0.108      0.110\n",
       "hisp            0.104      0.103\n",
       "other           0.036      0.035\n",
       "lowedu          0.190      0.189\n",
       "hsedu           0.385      0.384\n",
       "highedu         0.426      0.427\n",
       "group           5.497      5.503"
      ]
     },
     "execution_count": 2,
     "metadata": {},
     "output_type": "execute_result"
    }
   ],
   "source": [
    "df = pd.read_stata('PS8.dta')\n",
    "\n",
    "df.groupby('samesex').mean().T.round(3)"
   ]
  },
  {
   "cell_type": "markdown",
   "metadata": {},
   "source": [
    "**Dit svar:**\n"
   ]
  },
  {
   "cell_type": "markdown",
   "metadata": {},
   "source": [
    "> Her er det interessant at se, at mødrene er ens på tværs af de to grupper, undtagen for $morekids_i$-variablen, hvor 33,8 pct. af mødrene med de første to børn af forskelligt køn får flere børn. Derimod får 40,2 pct. af mødrene med de to første børn af samme køn flere børn. Dette er en indikation af, at $samesex_i$ kan være et godt instrument for fertilitet."
   ]
  },
  {
   "cell_type": "markdown",
   "metadata": {},
   "source": [
    "\n",
    "### **Opgave 2.** \n",
    "Estimer model (1) med OLS. Vis resultaterne i en tabel, hvor I bruger de standardfejl, som I mener er relevante i denne sammenhæng. Kommenter på sammenhængen mellem at få flere børn og kvinders sandsynlighed for at arbejde.\n",
    "\n"
   ]
  },
  {
   "cell_type": "markdown",
   "metadata": {},
   "source": [
    "\n",
    "**Din kode:**\n"
   ]
  },
  {
   "cell_type": "code",
   "execution_count": 3,
   "metadata": {},
   "outputs": [
    {
     "name": "stdout",
     "output_type": "stream",
     "text": [
      "                            OLS Regression Results                            \n",
      "==============================================================================\n",
      "Dep. Variable:                  workm   R-squared:                       0.040\n",
      "Model:                            OLS   Adj. R-squared:                  0.040\n",
      "Method:                 Least Squares   F-statistic:                     2029.\n",
      "Date:                Sat, 12 Oct 2024   Prob (F-statistic):               0.00\n",
      "Time:                        20:42:18   Log-Likelihood:            -2.4221e+05\n",
      "No. Observations:              375000   AIC:                         4.844e+05\n",
      "Df Residuals:                  374991   BIC:                         4.845e+05\n",
      "Df Model:                           8                                         \n",
      "Covariance Type:                  HC1                                         \n",
      "==============================================================================\n",
      "                 coef    std err          z      P>|z|      [0.025      0.975]\n",
      "------------------------------------------------------------------------------\n",
      "Intercept      0.4282      0.007     57.440      0.000       0.414       0.443\n",
      "morekids      -0.1521      0.002    -92.325      0.000      -0.155      -0.149\n",
      "boy1stkid     -0.0024      0.002     -1.609      0.108      -0.005       0.001\n",
      "boy2ndkid     -0.0005      0.002     -0.326      0.744      -0.003       0.002\n",
      "agem           0.0201      0.000     82.465      0.000       0.020       0.021\n",
      "agem1stkid    -0.0139      0.000    -55.578      0.000      -0.014      -0.013\n",
      "black          0.0027      0.002      1.079      0.281      -0.002       0.007\n",
      "hisp          -0.0989      0.003    -37.390      0.000      -0.104      -0.094\n",
      "other         -0.0602      0.004    -14.199      0.000      -0.069      -0.052\n",
      "==============================================================================\n",
      "Omnibus:                  4664306.418   Durbin-Watson:                   2.004\n",
      "Prob(Omnibus):                  0.000   Jarque-Bera (JB):            57353.004\n",
      "Skew:                          -0.670   Prob(JB):                         0.00\n",
      "Kurtosis:                       1.630   Cond. No.                         365.\n",
      "==============================================================================\n",
      "\n",
      "Notes:\n",
      "[1] Standard Errors are heteroscedasticity robust (HC1)\n"
     ]
    }
   ],
   "source": [
    "model2 = smf.ols('workm ~ morekids + boy1stkid + boy2ndkid + agem + agem1stkid + black + hisp + other', data=df)\n",
    "results2 = model2.fit(cov_type='HC1')\n",
    "print(results2.summary())"
   ]
  },
  {
   "cell_type": "markdown",
   "metadata": {},
   "source": [
    "**Dit svar:**\n"
   ]
  },
  {
   "cell_type": "markdown",
   "metadata": {},
   "source": [
    "> OLS estimatet af $\\beta_1$ er -0,1521. Fortolkningen af estimatet er, at hvis en mor får mere end to børn, så falder sandsynligheden for, at hun arbejder med 15,21 pct. Fortegnet er som forventet fra første gruppespørgsmål. Vær opmærksom på, at effekten af fertilitet måske er mere negativ, fordi der er en negativ bias i OLS estimatet. "
   ]
  },
  {
   "cell_type": "markdown",
   "metadata": {},
   "source": [
    "---"
   ]
  },
  {
   "cell_type": "markdown",
   "metadata": {},
   "source": [
    "## **- Intermission -**\n"
   ]
  },
  {
   "cell_type": "markdown",
   "metadata": {},
   "source": [
    "\n",
    "Om lidt skal vi til at køre IV-regressioner. Til det skal vi bruge et nyt værktøj, nemlig `IV2SLS` fra pakken `linearmodels`. Det minder meget om statsmodels, men giver os mulighed for at bruge instrumentale variable – og så er det på nogle områder faktisk lidt nemmere at arbejde med end statsmodels.\n",
    "\n",
    "Først importerer du pakken med følgende kode:\n",
    "\n",
    "```py\n",
    "from linearmodels import IV2SLS\n",
    "```\n",
    "\n",
    "Når vi vil instrumentere $morekids$ med variablen $samesex$ i model (1) kan vi nu bruge koden:\n",
    "\n",
    "```py\n",
    "model = IV2SLS.from_formula('workm ~ 1 + [morekids ~ samesex] + boy1stkid + boy2ndkid + agem + agem1stkid + black + hisp + other', data=df)\n",
    "results = model.fit()\n",
    "print(results)\n",
    "```\n",
    "Der er fire vigtige ting, du skal lægge mærke til her:\n",
    "1. Instrumenteringen sker ved \"indlejre\" en ny regression i vores formel. Det gør vi ved at sætte den i klammer. I eksemplet ovenfor har vi `[morekids ~ samesex]`. Det betyder, at vi instrumenterer $morekids$ med instrumentet $samesex$. Alt der står uden for vores klammerne indgår i modellen helt som vi plejer.\n",
    "\n",
    "2. Vi skal selv sørge for at tilføje et 1-tal i vores modelformel, hvis vi vil have et konstantled med (og det vil vi næsten altid!).\n",
    "\n",
    "3. `IV2SLS` bruger automatisk robuste standardfejl. Hvis vi vil have almindelige standardfejl skal vi eksplicit bede om dem ved at bruge `.fit(cov_type='unadjusted')`\n",
    "\n",
    "4. For at printe resultaterne bruger vi bare `print(results)`. Vi behøver altså ikke tilføje `.summary()`, som vi ellers plejer at skulle i statsmodels.\n",
    "\n",
    "\n",
    "\n",
    "Du kan læse mere om værktøjet IV2SLS fra linearmodels her: https://bashtage.github.io/linearmodels/iv/examples/basic-examples.html\n"
   ]
  },
  {
   "cell_type": "markdown",
   "metadata": {},
   "source": [
    "\n",
    "_Pro tip:_ Hvis du bliver glad for at bruge `IV2SLS` fra linearmodels, kan du faktisk også bruge det, når du vil køre almindelige OLS regressioner. Du får nemlig automatisk almindelige OLS estimater ud af `IV2SLS` værktøjet, hvis blot du undlader at specificere nogle instrumenter i din modelformel. Men du kan stadig nyde godt af den lidt simplere syntax og at der automatisk anvendes robuste standardfejl. Så hvis du vil, kan du helt undlade at bruge statsmodels fremadrettet."
   ]
  },
  {
   "cell_type": "markdown",
   "metadata": {},
   "source": [
    "---"
   ]
  },
  {
   "cell_type": "markdown",
   "metadata": {},
   "source": [
    "\n",
    "**Opgave 3.** Estimer model (1) med IV, hvor I bruger $samesex_i$ som et instrument for $morekids_i$. Vis resultaterne i en tabel, og sammenlign med OLS estimaterne fra spørgsmål 2. Sørg for at du har læst og forstået ovenstående hints, inden du løser opgaven.\n",
    "\n"
   ]
  },
  {
   "cell_type": "markdown",
   "metadata": {},
   "source": [
    "\n",
    "**Din kode:**\n"
   ]
  },
  {
   "cell_type": "code",
   "execution_count": 4,
   "metadata": {},
   "outputs": [],
   "source": [
    "from linearmodels import IV2SLS"
   ]
  },
  {
   "cell_type": "code",
   "execution_count": 5,
   "metadata": {},
   "outputs": [
    {
     "name": "stdout",
     "output_type": "stream",
     "text": [
      "                          IV-2SLS Estimation Summary                          \n",
      "==============================================================================\n",
      "Dep. Variable:                  workm   R-squared:                      0.0368\n",
      "Estimator:                    IV-2SLS   Adj. R-squared:                 0.0368\n",
      "No. Observations:              375000   F-statistic:                    6945.6\n",
      "Date:                Sat, Oct 12 2024   P-value (F-stat)                0.0000\n",
      "Time:                        20:42:18   Distribution:                  chi2(8)\n",
      "Cov. Estimator:                robust                                         \n",
      "                                                                              \n",
      "                             Parameter Estimates                              \n",
      "==============================================================================\n",
      "            Parameter  Std. Err.     T-stat    P-value    Lower CI    Upper CI\n",
      "------------------------------------------------------------------------------\n",
      "Intercept      0.4006     0.0131     30.552     0.0000      0.3749      0.4263\n",
      "boy1stkid     -0.0020     0.0015    -1.3449     0.1787     -0.0050      0.0009\n",
      "boy2ndkid     -0.0006     0.0015    -0.3740     0.7084     -0.0035      0.0024\n",
      "agem           0.0186     0.0006     28.907     0.0000      0.0174      0.0199\n",
      "agem1stkid    -0.0116     0.0010    -11.934     0.0000     -0.0134     -0.0097\n",
      "black         -0.0008     0.0028    -0.2927     0.7697     -0.0064      0.0047\n",
      "hisp          -0.1056     0.0037    -28.355     0.0000     -0.1129     -0.0983\n",
      "other         -0.0631     0.0044    -14.363     0.0000     -0.0717     -0.0545\n",
      "morekids      -0.0904     0.0241    -3.7463     0.0002     -0.1376     -0.0431\n",
      "==============================================================================\n",
      "\n",
      "Endogenous: morekids\n",
      "Instruments: samesex\n",
      "Robust Covariance (Heteroskedastic)\n",
      "Debiased: False\n"
     ]
    }
   ],
   "source": [
    "# Estimation af model (1), hvor morekids instrumenteres med samesex\n",
    "model3 = IV2SLS.from_formula('workm ~ 1 + [morekids ~ samesex] + boy1stkid + boy2ndkid + agem + agem1stkid + black + hisp + other', data=df)\n",
    "results3 = model3.fit()\n",
    "print(results3)"
   ]
  },
  {
   "cell_type": "code",
   "execution_count": 6,
   "metadata": {},
   "outputs": [
    {
     "name": "stdout",
     "output_type": "stream",
     "text": [
      "                            OLS Regression Results                            \n",
      "==============================================================================\n",
      "Dep. Variable:               morekids   R-squared:                       0.081\n",
      "Model:                            OLS   Adj. R-squared:                  0.081\n",
      "Method:                 Least Squares   F-statistic:                     4703.\n",
      "Date:                Sat, 12 Oct 2024   Prob (F-statistic):               0.00\n",
      "Time:                        20:42:19   Log-Likelihood:            -2.4319e+05\n",
      "No. Observations:              375000   AIC:                         4.864e+05\n",
      "Df Residuals:                  374991   BIC:                         4.865e+05\n",
      "Df Model:                           8                                         \n",
      "Covariance Type:                  HC1                                         \n",
      "==============================================================================\n",
      "                 coef    std err          z      P>|z|      [0.025      0.975]\n",
      "------------------------------------------------------------------------------\n",
      "Intercept      0.4182      0.007     58.530      0.000       0.404       0.432\n",
      "samesex        0.0627      0.002     41.434      0.000       0.060       0.066\n",
      "boy1stkid     -0.0076      0.002     -5.019      0.000      -0.011      -0.005\n",
      "boy2ndkid     -0.0004      0.002     -0.238      0.812      -0.003       0.003\n",
      "agem           0.0247      0.000    102.730      0.000       0.024       0.025\n",
      "agem1stkid    -0.0388      0.000   -166.942      0.000      -0.039      -0.038\n",
      "black          0.0561      0.003     21.722      0.000       0.051       0.061\n",
      "hisp           0.1089      0.003     42.334      0.000       0.104       0.114\n",
      "other          0.0470      0.004     11.631      0.000       0.039       0.055\n",
      "==============================================================================\n",
      "Omnibus:                  2746332.200   Durbin-Watson:                   2.001\n",
      "Prob(Omnibus):                  0.000   Jarque-Bera (JB):            45902.539\n",
      "Skew:                           0.463   Prob(JB):                         0.00\n",
      "Kurtosis:                       1.558   Cond. No.                         365.\n",
      "==============================================================================\n",
      "\n",
      "Notes:\n",
      "[1] Standard Errors are heteroscedasticity robust (HC1)\n"
     ]
    }
   ],
   "source": [
    "# Er samesex et relevant instrument? (First stage regression)\n",
    "firststage = smf.ols('morekids ~ samesex + boy1stkid + boy2ndkid + agem + agem1stkid + black + hisp + other', data=df)\n",
    "firststage_res = firststage.fit(cov_type='HC1')\n",
    "print(firststage_res.summary())"
   ]
  },
  {
   "cell_type": "markdown",
   "metadata": {},
   "source": [
    "\n",
    "**Dit svar:**\n"
   ]
  },
  {
   "cell_type": "markdown",
   "metadata": {},
   "source": [
    "> Du kan starte med at teste, om instrumentet $samesex_i$ er relevant med en regression af $samesex_i$ på $morekids_i$ (første trin i IV estimation). Der er en positiv korrelation mellem instrumentet og fertilitetsmålet, som er forskellig fra 0 på et 5 pct. signifikansniveau. \n",
    "> \n",
    "> Estimatet af $\\beta_1$ med IV estimatoren er -0,0904. Det er numerisk mindre end OLS estimatet, så der har været en negativ bias i OLS. Fortolkningen af estimatet er, at hvis en mor får mere end to børn, så falder sandsynligheden for, at hun arbejder med 9,04 pct."
   ]
  },
  {
   "cell_type": "markdown",
   "metadata": {},
   "source": [
    "\n",
    "### **Opgave 4.** \n",
    "En fordel ved at bruge $samesex_i$ som et instrument er, at det kan dekomponeres til to separate instrumenter: $twoboys_i$ og $twogirls_i$. Estimer model (1) uden dummyvariablen $boy2ndkid_i$, og hvor I bruger $twoboys_i$ og $twogirls_i$ som instrument for $morekids_i$. Kommenter på resultaterne og sammenlign med estimaterne fra spørgsmål 3. Hvorfor kan I ikke medtage $boy2ndkid_i$, når I bruger to separate instrumenter?\n"
   ]
  },
  {
   "cell_type": "markdown",
   "metadata": {},
   "source": [
    "\n",
    "_Hint:_ Du kan let bruge flere instrumenter på en gang når du instrumenterer i linearmodels: `[morekids ~ twoboys + twogirls]`"
   ]
  },
  {
   "cell_type": "markdown",
   "metadata": {},
   "source": [
    "\n",
    "**Din kode:**\n"
   ]
  },
  {
   "cell_type": "code",
   "execution_count": 7,
   "metadata": {},
   "outputs": [
    {
     "name": "stdout",
     "output_type": "stream",
     "text": [
      "                          IV-2SLS Estimation Summary                          \n",
      "==============================================================================\n",
      "Dep. Variable:                  workm   R-squared:                      0.0368\n",
      "Estimator:                    IV-2SLS   Adj. R-squared:                 0.0368\n",
      "No. Observations:              375000   F-statistic:                    6945.6\n",
      "Date:                Sat, Oct 12 2024   P-value (F-stat)                0.0000\n",
      "Time:                        20:42:19   Distribution:                  chi2(7)\n",
      "Cov. Estimator:                robust                                         \n",
      "                                                                              \n",
      "                             Parameter Estimates                              \n",
      "==============================================================================\n",
      "            Parameter  Std. Err.     T-stat    P-value    Lower CI    Upper CI\n",
      "------------------------------------------------------------------------------\n",
      "Intercept      0.4004     0.0131     30.567     0.0000      0.3747      0.4260\n",
      "boy1stkid     -0.0020     0.0015    -1.3485     0.1775     -0.0050      0.0009\n",
      "agem           0.0186     0.0006     28.917     0.0000      0.0174      0.0199\n",
      "agem1stkid    -0.0116     0.0010    -11.942     0.0000     -0.0135     -0.0097\n",
      "black         -0.0008     0.0028    -0.2879     0.7734     -0.0063      0.0047\n",
      "hisp          -0.1056     0.0037    -28.352     0.0000     -0.1129     -0.0983\n",
      "other         -0.0631     0.0044    -14.361     0.0000     -0.0717     -0.0545\n",
      "morekids      -0.0905     0.0241    -3.7540     0.0002     -0.1378     -0.0433\n",
      "==============================================================================\n",
      "\n",
      "Endogenous: morekids\n",
      "Instruments: twoboys, twogirls\n",
      "Robust Covariance (Heteroskedastic)\n",
      "Debiased: False\n"
     ]
    }
   ],
   "source": [
    "# Estimation af model (1), hvor morekids instrumenteres med twoboys og twogirls\n",
    "model4 = IV2SLS.from_formula('workm ~ 1 + [morekids ~ twoboys + twogirls] + boy1stkid + agem + agem1stkid + black + hisp + other', data=df)\n",
    "results4 = model4.fit()\n",
    "print(results4)"
   ]
  },
  {
   "cell_type": "markdown",
   "metadata": {},
   "source": [
    "**Dit svar:**\n"
   ]
  },
  {
   "cell_type": "markdown",
   "metadata": {},
   "source": [
    "> Vi opdeler instrumentet i to. Igen kan du teste, om de to instrumenter er relevante. Estimatet af $\\beta_1$ er -0.0905. Fortolkningen af estimatet er, at hvis en mor får mere end to børn, så falder sandsynligheden for, at hun arbejder med 9.05 pct. Vi tilføjer ikke yderligere forklaringskraft til modellen ved at opdele instrumentet i to.\n"
   ]
  },
  {
   "cell_type": "markdown",
   "metadata": {},
   "source": [
    "\n",
    "### **Opgave 5.** \n",
    "Forklar hvad overidentificerede restriktioner er. Herefter skal I udføre en test for dette i modellen fra spørgsmål 4.\n",
    "\n"
   ]
  },
  {
   "cell_type": "markdown",
   "metadata": {},
   "source": [
    "**Dit svar:**\n"
   ]
  },
  {
   "cell_type": "markdown",
   "metadata": {},
   "source": [
    "> Det er muligt at teste for overidentificerede restriktioner, når der er flere instrumenter end endogene variable. Bemærk, at et OI-test ikke kan afgøre, hvilke instrumenter der i sig selv er valide, og hvilke som ikke er. Det er stadig nødvendigt at have teoretiske/økonomiske argumenter for at sandsynliggøre validiteten af instrumenterne. Nulhypotesen er, at vi har valide instrumenter, så de eksogene variable er ukorreleret med fejlledet."
   ]
  },
  {
   "cell_type": "markdown",
   "metadata": {},
   "source": [
    "\n",
    "**Din kode:**\n"
   ]
  },
  {
   "cell_type": "code",
   "execution_count": 8,
   "metadata": {},
   "outputs": [
    {
     "name": "stdout",
     "output_type": "stream",
     "text": [
      "Testværdi: 0.1398\n",
      "Kritisk værdi: 3.8415\n"
     ]
    }
   ],
   "source": [
    "# Manuel test for overidentificerede restriktioner\n",
    "\n",
    "# 1. Regresser residualerne på instrumenterne og de eksogene variable\n",
    "worm_uhat = results4.resids\n",
    "model_OI = smf.ols('worm_uhat ~ twoboys + twogirls + boy1stkid + agem + agem1stkid + black + hisp + other', data=df)\n",
    "results_OI = model_OI.fit()\n",
    "\n",
    "# 2. Beregn testet N*R^2\n",
    "N = results_OI.nobs\n",
    "R2 = results_OI.rsquared\n",
    "test = N * R2\n",
    "\n",
    "# 3. Sammenlign med kritisk værdi fra chi2 fordeling med 1 frighedsgrad\n",
    "from scipy.stats import chi2\n",
    "crit = chi2.ppf(0.95, 1)  # 5% signifikansniveau\n",
    "\n",
    "print(f'Testværdi: {test:.4f}')\n",
    "print(f'Kritisk værdi: {crit:.4f}')"
   ]
  },
  {
   "cell_type": "code",
   "execution_count": 9,
   "metadata": {},
   "outputs": [
    {
     "name": "stdout",
     "output_type": "stream",
     "text": [
      "Wooldridge's score test of overidentification\n",
      "H0: Model is not overidentified.\n",
      "Statistic: 0.1399\n",
      "P-value: 0.7084\n",
      "Distributed: chi2(1)\n"
     ]
    }
   ],
   "source": [
    "# Alternativ metode til test for overidentificerede restriktioner: \n",
    "# Brug den indbyggede funktion i linearmodels til at udføre testen\n",
    "\n",
    "print(results4.wooldridge_overid)"
   ]
  },
  {
   "cell_type": "markdown",
   "metadata": {},
   "source": [
    "> I dette tilfælde tester vi mod en kritisk værdi på $\\chi^2(1)=3,84$. Teststørrelsen er givet ved $nR^2 = 0,14$, så vi kan ikke afvise nulhypotesen. Instrumenterne er valide."
   ]
  },
  {
   "cell_type": "markdown",
   "metadata": {},
   "source": [
    "\n",
    "### **Bonusopgave: Lær at opsætte sammenligningstabeller for regressionsoutput** \n",
    "Indtil videre har I udelukkende set på den **ekstensive margin**, som er, om kvinder arbejder eller ej som følge af flere børn. I skal nu se på den **intensive margin**, som er ændringen i, hvor meget kvinder arbejder som følge af flere børn. I skal løse spørgsmål 2 og 3 igen.\n",
    "\n",
    "   Model (1) kan omskrives til følgende, hvor $y_i = \\{weekm_i, hourm_i, lincm_i, log(faminc_i)\\}$:\n",
    "   \n",
    "   \\begin{align*}\n",
    "   y_i =& \\beta_0 + \\beta_1 \\, \\text{morekids}_i + \\beta_2 \\, \\text{boy1stkid}_i + \\beta_3 \\, \\text{boy2ndkid}_i + \\beta_4 \\, \\text{agem}_i \\\\\n",
    "   & + \\beta_5 \\, \\text{agem1stkid}_i + \\beta_6 \\, \\text{black}_i + \\beta_7 \\, \\text{hisp}_i + \\beta_8 \\, \\text{other}_i + u_i\n",
    "\\end{align*}\n",
    "\n",
    "Prøv at læse koden nedenfor linje for linje og vær sikker på, at du forstår, hvad der sker i hvert trin. Kør koden og fortolk på resultaterne."
   ]
  },
  {
   "cell_type": "markdown",
   "metadata": {},
   "source": [
    "\n",
    "**Din kode:**\n"
   ]
  },
  {
   "cell_type": "code",
   "execution_count": 10,
   "metadata": {},
   "outputs": [],
   "source": [
    "# Importer værktøjet `compare` fra linearmodels, som gør det let at sammenligne resultaterne af forskellige modeller\n",
    "from linearmodels.iv import compare"
   ]
  },
  {
   "cell_type": "code",
   "execution_count": 11,
   "metadata": {},
   "outputs": [
    {
     "name": "stderr",
     "output_type": "stream",
     "text": [
      "/Users/danielriegels/anaconda3/lib/python3.11/site-packages/pandas/core/arraylike.py:399: RuntimeWarning: divide by zero encountered in log\n",
      "  result = getattr(ufunc, method)(*inputs, **kwargs)\n",
      "/Users/danielriegels/anaconda3/lib/python3.11/site-packages/pandas/core/arraylike.py:399: RuntimeWarning: invalid value encountered in log\n",
      "  result = getattr(ufunc, method)(*inputs, **kwargs)\n",
      "/var/folders/b7/4xm8krt92kl8k3sd_lt_jmww0000gn/T/ipykernel_70330/1590861511.py:6: SettingWithCopyWarning: \n",
      "A value is trying to be set on a copy of a slice from a DataFrame.\n",
      "Try using .loc[row_indexer,col_indexer] = value instead\n",
      "\n",
      "See the caveats in the documentation: https://pandas.pydata.org/pandas-docs/stable/user_guide/indexing.html#returning-a-view-versus-a-copy\n",
      "  df2['lfaminc'] = np.log(df.faminc)\n"
     ]
    },
    {
     "data": {
      "text/html": [
       "<table class=\"simpletable\">\n",
       "<caption>Model Comparison</caption>\n",
       "<tr>\n",
       "            <td></td>                <th>weekm</th>          <th>hourm</th>          <th>lincm</th>         <th>lfaminc</th>   \n",
       "</tr>\n",
       "<tr>\n",
       "  <th>Dep. Variable</th>             <td>weekm</td>          <td>hourm</td>          <td>lincm</td>         <td>lfaminc</td>   \n",
       "</tr>\n",
       "<tr>\n",
       "  <th>Estimator</th>                <td>IV-2SLS</td>        <td>IV-2SLS</td>        <td>IV-2SLS</td>        <td>IV-2SLS</td>   \n",
       "</tr>\n",
       "<tr>\n",
       "  <th>No. Observations</th>         <td>370761</td>         <td>370761</td>         <td>370761</td>         <td>370761</td>    \n",
       "</tr>\n",
       "<tr>\n",
       "  <th>Cov. Est.</th>                <td>robust</td>         <td>robust</td>         <td>robust</td>         <td>robust</td>    \n",
       "</tr>\n",
       "<tr>\n",
       "  <th>R-squared</th>                <td>0.5990</td>         <td>0.5929</td>         <td>0.3755</td>         <td>0.9773</td>    \n",
       "</tr>\n",
       "<tr>\n",
       "  <th>Adj. R-squared</th>           <td>0.5990</td>         <td>0.5929</td>         <td>0.3754</td>         <td>0.9773</td>    \n",
       "</tr>\n",
       "<tr>\n",
       "  <th>F-statistic</th>             <td>5.429e+05</td>      <td>5.489e+05</td>      <td>2.055e+05</td>      <td>1.703e+07</td>  \n",
       "</tr>\n",
       "<tr>\n",
       "  <th>P-value (F-stat)</th>         <td>0.0000</td>         <td>0.0000</td>         <td>0.0000</td>         <td>0.0000</td>    \n",
       "</tr>\n",
       "<tr>\n",
       "  <th>==================</th>    <td>============</td>   <td>============</td>   <td>============</td>   <td>============</td> \n",
       "</tr>\n",
       "<tr>\n",
       "  <th>boy1stkid</th>                <td>-0.0108</td>       <td>0.2294***</td>     <td>-195.94***</td>      <td>0.1651***</td>  \n",
       "</tr>\n",
       "<tr>\n",
       "  <th> </th>                       <td>(-0.1484)</td>      <td>(3.6878)</td>       <td>(-6.0155)</td>      <td>(32.980)</td>   \n",
       "</tr>\n",
       "<tr>\n",
       "  <th>agem</th>                    <td>1.3214***</td>      <td>0.9756***</td>      <td>344.46***</td>      <td>0.1449***</td>  \n",
       "</tr>\n",
       "<tr>\n",
       "  <th> </th>                       <td>(35.911)</td>       <td>(30.951)</td>       <td>(20.948)</td>       <td>(57.002)</td>   \n",
       "</tr>\n",
       "<tr>\n",
       "  <th>agem1stkid</th>             <td>-0.5350***</td>     <td>-0.3528***</td>     <td>-70.926***</td>      <td>0.2204***</td>  \n",
       "</tr>\n",
       "<tr>\n",
       "  <th> </th>                       <td>(-14.820)</td>      <td>(-11.404)</td>      <td>(-4.3858)</td>      <td>(88.280)</td>   \n",
       "</tr>\n",
       "<tr>\n",
       "  <th>black</th>                   <td>1.0004***</td>      <td>3.4970***</td>      <td>1260.3***</td>     <td>-0.3476***</td>  \n",
       "</tr>\n",
       "<tr>\n",
       "  <th> </th>                       <td>(6.8577)</td>       <td>(27.657)</td>       <td>(19.346)</td>       <td>(-31.799)</td>  \n",
       "</tr>\n",
       "<tr>\n",
       "  <th>hisp</th>                   <td>-4.2535***</td>     <td>-1.1832***</td>     <td>-619.92***</td>     <td>-0.1813***</td>  \n",
       "</tr>\n",
       "<tr>\n",
       "  <th> </th>                       <td>(-23.680)</td>      <td>(-7.5016)</td>      <td>(-8.0566)</td>      <td>(-14.091)</td>  \n",
       "</tr>\n",
       "<tr>\n",
       "  <th>other</th>                  <td>-2.0102***</td>      <td>0.6373***</td>      <td>889.50***</td>     <td>-0.1538***</td>  \n",
       "</tr>\n",
       "<tr>\n",
       "  <th> </th>                       <td>(-9.6304)</td>      <td>(3.4208)</td>       <td>(8.3893)</td>       <td>(-10.658)</td>  \n",
       "</tr>\n",
       "<tr>\n",
       "  <th>morekids</th>               <td>-4.1072***</td>       <td>0.9993</td>       <td>-3941.1***</td>      <td>2.2230***</td>  \n",
       "</tr>\n",
       "<tr>\n",
       "  <th> </th>                       <td>(-4.0458)</td>      <td>(1.1503)</td>       <td>(-8.6712)</td>      <td>(31.778)</td>   \n",
       "</tr>\n",
       "<tr>\n",
       "  <th>====================</th> <td>==============</td> <td>==============</td> <td>==============</td> <td>==============</td>\n",
       "</tr>\n",
       "<tr>\n",
       "  <th>Instruments</th>              <td>samesex</td>        <td>samesex</td>        <td>samesex</td>        <td>samesex</td>   \n",
       "</tr>\n",
       "</table><br/><br/>T-stats reported in parentheses<br/>id: 0x17af32e90"
      ],
      "text/plain": [
       "                                Model Comparison                                \n",
       "================================================================================\n",
       "                              weekm          hourm          lincm        lfaminc\n",
       "--------------------------------------------------------------------------------\n",
       "Dep. Variable                 weekm          hourm          lincm        lfaminc\n",
       "Estimator                   IV-2SLS        IV-2SLS        IV-2SLS        IV-2SLS\n",
       "No. Observations             370761         370761         370761         370761\n",
       "Cov. Est.                    robust         robust         robust         robust\n",
       "R-squared                    0.5990         0.5929         0.3755         0.9773\n",
       "Adj. R-squared               0.5990         0.5929         0.3754         0.9773\n",
       "F-statistic               5.429e+05      5.489e+05      2.055e+05      1.703e+07\n",
       "P-value (F-stat)             0.0000         0.0000         0.0000         0.0000\n",
       "==================     ============   ============   ============   ============\n",
       "boy1stkid                   -0.0108      0.2294***     -195.94***      0.1651***\n",
       "                          (-0.1484)       (3.6878)      (-6.0155)       (32.980)\n",
       "agem                      1.3214***      0.9756***      344.46***      0.1449***\n",
       "                           (35.911)       (30.951)       (20.948)       (57.002)\n",
       "agem1stkid               -0.5350***     -0.3528***     -70.926***      0.2204***\n",
       "                          (-14.820)      (-11.404)      (-4.3858)       (88.280)\n",
       "black                     1.0004***      3.4970***      1260.3***     -0.3476***\n",
       "                           (6.8577)       (27.657)       (19.346)      (-31.799)\n",
       "hisp                     -4.2535***     -1.1832***     -619.92***     -0.1813***\n",
       "                          (-23.680)      (-7.5016)      (-8.0566)      (-14.091)\n",
       "other                    -2.0102***      0.6373***      889.50***     -0.1538***\n",
       "                          (-9.6304)       (3.4208)       (8.3893)      (-10.658)\n",
       "morekids                 -4.1072***         0.9993     -3941.1***      2.2230***\n",
       "                          (-4.0458)       (1.1503)      (-8.6712)       (31.778)\n",
       "==================== ============== ============== ============== ==============\n",
       "Instruments                 samesex        samesex        samesex        samesex\n",
       "--------------------------------------------------------------------------------\n",
       "\n",
       "T-stats reported in parentheses\n",
       "IVModelComparison, id: 0x17af32e90"
      ]
     },
     "execution_count": 11,
     "metadata": {},
     "output_type": "execute_result"
    }
   ],
   "source": [
    "# Fjern de observationer, hvor familieindkomsten er lig nul eller mangler\n",
    "df2 = pd.read_stata('PS8.dta')\n",
    "df2 = df[df.faminc > 0]\n",
    "\n",
    "# Tag logaritmen af familiens indkomst\n",
    "df2['lfaminc'] = np.log(df.faminc)\n",
    "\n",
    "# Opret en tom dictionary til at gemme vores regressionsresultater\n",
    "results = {}\n",
    "\n",
    "# Estimer de fire modeller\n",
    "for y in ['weekm', 'hourm', 'lincm', 'lfaminc']:\n",
    "    model = IV2SLS.from_formula(y + '~ [morekids ~ samesex] + boy1stkid + agem + agem1stkid + black + hisp + other', data=df2)\n",
    "    results[y] = model.fit()\n",
    "\n",
    "# Sammenlign resultaterne i en tabel. Stjernerne angiver signifikansniveuaet. Paranteserne viser t-værdierne.\n",
    "compare(results, stars=True)\n"
   ]
  },
  {
   "cell_type": "markdown",
   "metadata": {},
   "source": [
    "**Dit svar:**"
   ]
  },
  {
   "cell_type": "markdown",
   "metadata": {},
   "source": [
    "> Resultater og pointer er det samme som i de foregående opgaver."
   ]
  },
  {
   "cell_type": "markdown",
   "metadata": {},
   "source": [
    "\n",
    "\n",
    "# Regneøvelser\n",
    "\n",
    "I denne øvelse skal I udlede IV-estimatoren i det simple og generelle tilfælde (2SLS).\n",
    "\n",
    "I kan hente hjælp bagerst i forelæsningsslidesne om IV-estimation (appendikset).\n"
   ]
  },
  {
   "cell_type": "markdown",
   "metadata": {},
   "source": [
    "\n",
    "### **Opgave 1**\n",
    "Vi starter i det simple tilfælde (én forklarende variabel, ét instrument). Tag udgangspunkt i ligningen:\n",
    " $$y_i = \\beta_0 + \\beta_1 x_i + u_i$$\n",
    " hvor $z$ er et relevant og validt instrument for $x$. \n",
    "\n",
    "Du skal nu udlede, at: \n",
    "\n",
    "$$ {\\beta_1} = \\frac{cov(z_i,y_i)}{cov(z_i,x_i)} $$\n",
    "\n",
    "og at IV estimatoren derfor er:\n",
    "\n",
    "$$\\hat{\\beta}_1 = \\frac{\\sum_{i=1}^n(z_i-\\bar{z})(y_i-\\bar{y})}{\\sum_{i=1}^n(z_i-\\bar{z})(x_i-\\bar{x})}$$\n"
   ]
  },
  {
   "cell_type": "markdown",
   "metadata": {},
   "source": [
    "_Hint:_ Brug at:\n",
    "$cov(z_i,y_i) = cov(z_i, \\beta_0 + \\beta_1x_i+u_i)$"
   ]
  },
  {
   "cell_type": "markdown",
   "metadata": {},
   "source": [
    "**Dit svar:**\n"
   ]
  },
  {
   "cell_type": "markdown",
   "metadata": {},
   "source": [
    "> \\begin{align*}\n",
    "cov(z_i,y_i) &= cov(z_i, \\beta_0 + \\beta_1x_i+u_i) \\\\\n",
    "&= cov(z_i,\\beta_0)+\\beta_1cov(z_i,x_i) + cov(z_i,u_i) \\\\\n",
    "&= \\beta_1 cov(z_i,x_i) \\Leftrightarrow \\beta_1 = \\frac{cov(z_i,y_i)}{cov(z_i,x_i)}\n",
    "\\end{align*}\n",
    "> \n",
    "> IV estimatoren, som er en konsistent estimator for $\\beta_1$, så $plim(\\hat{\\beta}_1) = \\beta_1$:\n",
    ">\n",
    ">  $$\\hat{\\beta}_1 = \\frac{\\sum_{i=1}^n(z_i-\\bar{z})(y_i-\\bar{y})}{\\sum_{i=1}^n(z_i-\\bar{z})(x_i-\\bar{x})}$$"
   ]
  },
  {
   "cell_type": "markdown",
   "metadata": {},
   "source": [
    "\n",
    "### **Opgave 2.**\n",
    "Vi betragter nu det generelle tilfælde (2SLS). Tag udgangspunkt i ligningen: \n",
    "$$y = X\\beta + u$$\n",
    "- hvor vi har $k$ forklarende variable\n",
    "- De første $p \\leq k$ variable er endogene. \n",
    "- De resterende $k-p$ variable er eksogene.\n",
    "- $Z$ er en matrix med mindst $p$ instrumenter, som er relevante og valide instrumenter for de $p$ endogene variable.\n",
    "\n",
    "Udled, at hvis antallet af instrumenter er det samme som antallet af endogene variable, da er 2SLS estimatoren:\n",
    "\n",
    "\\begin{align*}\n",
    "\\hat{\\beta} &= (Z'X)^{-1}Z'y\n",
    "\\end{align*}\n",
    "\n",
    "_Hint:_ Start med at bruge, at hvis $Z$ er valid, da gælder at $Z'\\hat{u} = 0 \\Leftrightarrow Z'(y-X\\hat{\\beta}) = 0$\n",
    "\n"
   ]
  },
  {
   "cell_type": "markdown",
   "metadata": {},
   "source": [
    "**Dit svar:**\n"
   ]
  },
  {
   "cell_type": "markdown",
   "metadata": {},
   "source": [
    "\n",
    "> \\begin{align*}\n",
    "> Z'\\hat{u} = 0 \\Leftrightarrow Z'(y-X\\hat{\\beta}) = 0 \\Leftrightarrow Z'y = Z'X\\hat{\\beta} \\Leftrightarrow \\hat{\\beta} = (Z'X)^{-1}Z'y\n",
    "> \\end{align*}\n"
   ]
  },
  {
   "cell_type": "markdown",
   "metadata": {},
   "source": [
    "### **Opgave 3.**\n",
    "Opskriv instrumentmatricen, $Z$, hvis der er ét instrument og én endogen variabel\n"
   ]
  },
  {
   "cell_type": "markdown",
   "metadata": {},
   "source": [
    "> Instrumentmatricen, $Z$, hvis der er et instrument og en endogen variabel:\n",
    "> \\begin{align*}\n",
    "> Z = \n",
    "> \\begin{bmatrix}\n",
    "> 1 & x_{1,1} & \\cdots & x_{k-1,1} & z_n\\\\\n",
    "> \\vdots & \\vdots & \\ddots & \\vdots & \\vdots\\\\\n",
    "> 1 & x_{1,n} & \\cdots & x_{k-1,n} & z_n\n",
    "> \\end{bmatrix}\n",
    "> \\end{align*}"
   ]
  },
  {
   "cell_type": "markdown",
   "metadata": {},
   "source": [
    "\n",
    "### **Opgave 4.** \n",
    "\n",
    "Hvis antallet af instrumenter er lig eller større end antallet af endogene variable, kan vi skrive 2SLS-estimatoren $\\hat{\\beta}$ på formen:\n",
    "\\begin{align*}\n",
    " X &= Z\\Pi + E \\\\\n",
    " \\hat{\\Pi} &= (Z'Z)^{-1}Z'X  \\quad \\quad \\quad \\quad \\quad \\text{(First stage-estimatet)}\\\\\n",
    " \\hat{X} &= Z\\hat{\\Pi} = Z(Z'Z)^{-1}Z'X \\quad \\quad \\text{(De prædikterede X-værdier)} \\\\\n",
    " \\hat{\\beta} &= (\\hat{X}'\\hat{X})^{-1}\\hat{X}'y \\quad \\quad \\quad \\quad \\quad \\quad \\text{(Second stage-estimatet)} \\\\\n",
    "             &= \\left((X'Z)(Z'Z)^{-1}(Z'X)\\right)^{-1}(X'Z)(Z'Z)^{-1}(Z'y)\n",
    "\\end{align*}\n",
    " \n",
    "\n",
    "Skriv din egen funktion til at beregne 2SLS-estimaterne fra Python-opgave 3. Hvilke variable skal indgå i instrumentmatricen $Z$? Kan du få de samme resultater, som når du bruger `linearmodels`?"
   ]
  },
  {
   "cell_type": "markdown",
   "metadata": {},
   "source": [
    "\n",
    "**Din kode:**\n"
   ]
  },
  {
   "cell_type": "code",
   "execution_count": 12,
   "metadata": {},
   "outputs": [],
   "source": [
    "# Gør dataen klar til din estimation\n",
    "\n",
    "# Tilføj først en konstant til vores dataframe\n",
    "df = pd.read_stata('PS8.dta')\n",
    "df['const'] = 1\n",
    "\n",
    "# X er de k eksogene variable og de p endogene variable. Her er vores eneste endogene variabel `morekids`\n",
    "X = df[['const', 'boy1stkid', 'boy2ndkid', 'agem', 'agem1stkid', 'black', 'hisp', 'other', 'morekids']]\n",
    "\n",
    "# Z er de k eksogene variable og de >= p instrumenter. Her er vores eneste instrument `samesex`\n",
    "# Z = ... # Din kode her\n",
    "Z = df[['const', 'boy1stkid', 'boy2ndkid', 'agem', 'agem1stkid', 'black', 'hisp', 'other', 'samesex']]\n",
    "\n",
    "# y er vores afhængige variabel\n",
    "y = df['workm']\n",
    "\n",
    "# Udtræk numpy arrays fra vores pandas dataframes\n",
    "Z = Z.values\n",
    "X = X.values\n",
    "y = y.values"
   ]
  },
  {
   "cell_type": "code",
   "execution_count": 13,
   "metadata": {},
   "outputs": [
    {
     "name": "stdout",
     "output_type": "stream",
     "text": [
      "[ 0.4006 -0.002  -0.0006  0.0186 -0.0116 -0.0008 -0.1056 -0.0631 -0.0904]\n"
     ]
    }
   ],
   "source": [
    "# Implementer din egen 2SLS estimator\n",
    "def my_2SLS(y, X, Z):\n",
    "    # Estimer dit first stage (regresser X på Z)\n",
    "    Pihat = np.linalg.inv(Z.T @ Z) @ Z.T @ X\n",
    "    \n",
    "    # Brug first stage til at beregne Xhat (de prædikterede værdier af X)\n",
    "    Xhat = Z @ Pihat\n",
    "    \n",
    "    # Estimer andet trin (regresser y på Xhat)\n",
    "    betahat = np.linalg.inv(Xhat.T @ Xhat) @ Xhat.T @ y\n",
    "\n",
    "    return betahat\n",
    "\n",
    "print(my_2SLS(y, X, Z).round(4))\n"
   ]
  }
 ],
 "metadata": {
  "kernelspec": {
   "display_name": "Python 3 (ipykernel)",
   "language": "python",
   "name": "python3"
  },
  "language_info": {
   "codemirror_mode": {
    "name": "ipython",
    "version": 3
   },
   "file_extension": ".py",
   "mimetype": "text/x-python",
   "name": "python",
   "nbconvert_exporter": "python",
   "pygments_lexer": "ipython3",
   "version": "3.9.13"
  }
 },
 "nbformat": 4,
 "nbformat_minor": 2
}
