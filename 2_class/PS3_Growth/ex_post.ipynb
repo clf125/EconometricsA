{
 "cells": [
  {
   "cell_type": "code",
   "execution_count": 1,
   "metadata": {},
   "outputs": [],
   "source": [
    "import pandas as pd\n",
    "import numpy as np\n",
    "import statsmodels.api as sm"
   ]
  },
  {
   "cell_type": "markdown",
   "metadata": {},
   "source": [
    "# Problem Set 3"
   ]
  },
  {
   "cell_type": "markdown",
   "metadata": {},
   "source": [
    "## Øvelse 1: Implementer manuelt OLS-estimatoren"
   ]
  },
  {
   "cell_type": "markdown",
   "metadata": {},
   "source": [
    "### Del 1: OLS i SLR-tilfældet (en enkelt forklarende variabel)\n"
   ]
  },
  {
   "cell_type": "markdown",
   "metadata": {},
   "source": [
    "Når vi kun har 1 forklarende variabel og en konstant (SLR-tilfældet) arbejder vi med denne model:\n",
    "\n",
    "$$ y_i = \\beta_0 + \\beta_1 x_i + u_i $$\n",
    "\n",
    "Da ved vi fra den økonometriske teori at den sande værdi af $\\beta_1$ er givet ved:\n",
    "\n",
    "$$ \\beta_1 = \\frac{{\\text{Cov}}(x, y)} {\\text{Var}(x)}  $$\n",
    "\n",
    "Vi ved også fra forelæsningerne at vi kan estimere covariansen og variansen sådan her:\n",
    "\n",
    "\\begin{align*}\n",
    "\\widehat{\\text{Cov}}(x)  = \\frac{1}{n} \\sum (x_i - \\bar{x})(y_i - \\bar{y}) \\\\\n",
    "\\widehat{\\text{Var}}(x) = \\frac{1}{n} \\sum (x_i - \\bar{x})^2\n",
    "\\end{align*}\n",
    "\n",
    "hvor $\\bar{x}$ og $\\bar{y}$ er de empiriske gennemsnit af $x, y$ i vores datasæt.  Sætter vi alt dette sammen ved hjælp af Analogi-princippet betyder det at vi kan estimere $\\hat{\\beta}_1$ med formlen:\n",
    "$$\n",
    "\\hat{\\beta}_1 = \\frac{\\sum (x_i - \\bar{x})(y_i - \\bar{y}) }{ \\sum (x_i - \\bar{x})^2}\n",
    "$$\n",
    "\n",
    "Dette er OLS-estimatoren for $\\hat{\\beta}_1$ i SLR-tilfældet.\n",
    "\n"
   ]
  },
  {
   "cell_type": "markdown",
   "metadata": {},
   "source": [
    "#### Opgave 1 \n",
    "Skriv en funktion `OLS_SLR()`, hvor du manuelt implementerer OLS-estimatoren for $\\hat{\\beta}_1$ i SLR-tilfældet. Brug numpy i din implementering. Funktionen skal tage x og y som argumenter, hvor x er et $n \\times 1$ numpy array og y er et $n \\times 1$ numpy array. Funktionen skal returnere skalar-værdien $\\hat{\\beta_1}$.\n",
    "\n",
    "_Hints:_ \n",
    "- Du kan bruge numpy funktionen `np.mean()` til at beregne gennemsnittet af et numpy array og `np.sum()` til at beregne summen over et numpy array.\n",
    "\n"
   ]
  },
  {
   "cell_type": "code",
   "execution_count": 2,
   "metadata": {},
   "outputs": [],
   "source": [
    "def OLS_SLR(x,y):\n",
    "    x_bar = np.mean(x)\n",
    "    y_bar = np.mean(y)\n",
    "\n",
    "    cov_xy = np.sum((x - x_bar)*(y - y_bar)) \n",
    "    var_x  = np.sum((x - x_bar)**2)\n",
    "\n",
    "    beta_1_hat = cov_xy / var_x\n",
    "\n",
    "    return beta_1_hat"
   ]
  },
  {
   "cell_type": "markdown",
   "metadata": {},
   "source": [
    "#### Opgave 2\n",
    "Her er noget meget simpelt testdata du kan bruge til at tjekke om din implementering er korrekt. Når du kører din funktion bør du få estimatet $\\hat\\beta_1 = 2.0$\n"
   ]
  },
  {
   "cell_type": "code",
   "execution_count": 3,
   "metadata": {},
   "outputs": [
    {
     "data": {
      "text/plain": [
       "2.0"
      ]
     },
     "execution_count": 3,
     "metadata": {},
     "output_type": "execute_result"
    }
   ],
   "source": [
    "X = np.array([ 1, 2, 3, 4, 5,])\n",
    "Y = np.array([-4, 1, 3, 5, 4,])\n",
    "\n",
    "OLS_SLR(X,Y)"
   ]
  },
  {
   "cell_type": "markdown",
   "metadata": {},
   "source": [
    "#### Opgave 3 \n",
    "Fra den økonometriske teori ved vi også, at vi kan estimere $\\beta_0$ med formlen:\n",
    "$$ \\hat{\\beta}_0 = \\bar{y} - \\hat{\\beta}_1 \\bar{x} $$\n",
    "\n",
    "Reflekter et øjeblik over formlen: Det giver intuitivt ret god mening. Estimatet af interceptet er gennemsnittet af vores $y$ observationer minus den estimerede effekt af den gennemsnitlige x-observation. \n",
    "\n",
    "Tegn et tilfældigt scatter plot på et stykke papir, tegn den bedste lige linje (en OLS-linje) igennem observationerne og se selv hvor den skærer y-aksen."
   ]
  },
  {
   "cell_type": "markdown",
   "metadata": {},
   "source": [
    "#### Opgave 4\n",
    "Udvid din `OLS_SLR()` funktion så den returnerer ikke bare $\\hat{\\beta}_1$, men en tuple der indeholder ${(\\hat\\beta_0, \\hat\\beta_1)}$. Når du kører din udvidede funktion på samme testdata som før bør du få estimaterne ${(\\hat\\beta_0 = -4.2, \\hat\\beta_1 = 2.0)}$"
   ]
  },
  {
   "cell_type": "code",
   "execution_count": 4,
   "metadata": {},
   "outputs": [
    {
     "data": {
      "text/plain": [
       "(-4.2, 2.0)"
      ]
     },
     "execution_count": 4,
     "metadata": {},
     "output_type": "execute_result"
    }
   ],
   "source": [
    "def OLS_SLR(x,y):\n",
    "    x_bar = np.mean(x)\n",
    "    y_bar = np.mean(y)\n",
    "    n = len(x)\n",
    "\n",
    "    cov_xy = np.sum((x - x_bar)*(y - y_bar)) / n\n",
    "    var_x  = np.sum((x - x_bar)**2) / n\n",
    "\n",
    "    beta_1_hat = cov_xy / var_x\n",
    "    beta_0_hat = y_bar - beta_1_hat*x_bar\n",
    "\n",
    "    return (beta_0_hat.round(4), beta_1_hat.round(4))\n",
    "\n",
    "OLS_SLR(X,Y)"
   ]
  },
  {
   "cell_type": "markdown",
   "metadata": {},
   "source": [
    "Det sidste trin er at beregne standardfejlene for vores OLS-estimater.  For at gøre dette skal vi først beregne residualerne med formlen:\n",
    "$$ \\hat{u_i} = y - \\beta_0 - \\beta_1 x $$\n",
    "\n",
    "Vi bruger residualerne til at estimere residualvariansen:\n",
    "\n",
    "$$\n",
    "\\hat{\\sigma}^2 = \\frac{1}{n-2} \\sum_{i=1}^{n} \\hat{u}_i^2\n",
    "$$\n",
    "\n",
    "som vi kan bruge til at beregne variansen af OLS-estimatorerne:\n",
    "$$\n",
    "\\text{Var}(\\hat{\\beta}_1 \\mid X) = \\frac{\\hat{\\sigma}^2}{\\sum_{i=1}^{n} (x_i - \\bar{x})^2}\n",
    "$$\n",
    "$$\n",
    "\\text{Var}(\\hat{\\beta}_0 \\mid X) = \\frac{\\hat{\\sigma}^2 \\cdot \\frac{1}{n}\\sum_{i=1}^{n}x_{i}^{2}}{\\sum_{i=1}^{n}(x_i - \\bar{x})^2}\n",
    "$$\n",
    "\n",
    "Standardfejlene er ganske enkelt kvadratrødderne af varianserne:\n",
    "$$\n",
    "\\text{se}(\\hat{\\beta}_1) = \\sqrt{\\text{Var}(\\hat{\\beta}_1 \\mid X)}\n",
    "$$\n",
    "$$\n",
    "\\text{se}(\\hat{\\beta}_0) = \\sqrt{\\text{Var}(\\hat{\\beta}_0 \\mid X)}\n",
    "$$\n",
    "\n",
    "\n"
   ]
  },
  {
   "cell_type": "markdown",
   "metadata": {},
   "source": [
    "#### Opgave 5\n",
    "Udvid din `OLS_SLR()` funktion så den også returnerer standardfejlene af koefficienterne. Når du kører funktionen på samme testdata som før skulle du gerne få:\n",
    "\n",
    "$$ \\hat \\beta_0 = -4.2, \\quad \\hat \\beta_1 = 2.0, \\quad \\text{se}(\\hat \\beta_0) = 1.99, \\quad \\text{se}(\\hat \\beta_1) = 0.6  $$\n",
    "\n",
    "_Hint_: Brug funktionen `np.sqrt()` til at tage kvadratroden af et tal."
   ]
  },
  {
   "cell_type": "code",
   "execution_count": 5,
   "metadata": {},
   "outputs": [
    {
     "data": {
      "text/plain": [
       "(-4.2, 2.0, 1.99, 0.6)"
      ]
     },
     "execution_count": 5,
     "metadata": {},
     "output_type": "execute_result"
    }
   ],
   "source": [
    "def OLS_SLR(x,y):\n",
    "    x_bar = np.mean(x)\n",
    "    y_bar = np.mean(y)\n",
    "    n = len(x)\n",
    "\n",
    "    cov_xy = np.sum((x - x_bar)*(y - y_bar)) / n\n",
    "    var_x  = np.sum((x - x_bar)**2) / n\n",
    "\n",
    "    beta_1_hat = cov_xy / var_x\n",
    "    beta_0_hat = y_bar - beta_1_hat*x_bar\n",
    "\n",
    "    # Compute residual variance\n",
    "    residuals = y - (beta_0_hat + beta_1_hat * x)\n",
    "    sigma_squared_hat = np.sum(residuals**2) / (n-2)\n",
    "\n",
    "    # Compute variance and standard errors for the OLS-estimators\n",
    "    SST_x = np.sum((x - x_bar)**2)\n",
    "    var_beta1 = sigma_squared_hat / SST_x\n",
    "    var_beta0 = sigma_squared_hat * np.mean(x**2) / SST_x\n",
    "\n",
    "    se_beta1 = np.sqrt(var_beta1)\n",
    "    se_beta0 = np.sqrt(var_beta0)\n",
    "\n",
    "    return (beta_0_hat.round(4), \n",
    "            beta_1_hat.round(4),\n",
    "            se_beta0.round(4),\n",
    "            se_beta1.round(4))\n",
    "\n",
    "OLS_SLR(X,Y)"
   ]
  },
  {
   "cell_type": "markdown",
   "metadata": {},
   "source": [
    "#### Opgave 6 \n",
    "Brug `sm.OLS()` funktionen fra statsmodels-pakken til at estimere samme model på testdataen og bekræft at dine koefficienter og standardfejl er de samme som dem statsmodels returnerer."
   ]
  },
  {
   "cell_type": "code",
   "execution_count": 6,
   "metadata": {},
   "outputs": [
    {
     "name": "stdout",
     "output_type": "stream",
     "text": [
      "                            OLS Regression Results                            \n",
      "==============================================================================\n",
      "Dep. Variable:                      y   R-squared:                       0.787\n",
      "Model:                            OLS   Adj. R-squared:                  0.717\n",
      "Method:                 Least Squares   F-statistic:                     11.11\n",
      "Date:                Fri, 13 Sep 2024   Prob (F-statistic):             0.0446\n",
      "Time:                        09:37:26   Log-Likelihood:                -9.0200\n",
      "No. Observations:                   5   AIC:                             22.04\n",
      "Df Residuals:                       3   BIC:                             21.26\n",
      "Df Model:                           1                                         \n",
      "Covariance Type:            nonrobust                                         \n",
      "==============================================================================\n",
      "                 coef    std err          t      P>|t|      [0.025      0.975]\n",
      "------------------------------------------------------------------------------\n",
      "const         -4.2000      1.990     -2.111      0.125     -10.533       2.133\n",
      "x1             2.0000      0.600      3.333      0.045       0.091       3.909\n",
      "==============================================================================\n",
      "Omnibus:                          nan   Durbin-Watson:                   1.667\n",
      "Prob(Omnibus):                    nan   Jarque-Bera (JB):                0.839\n",
      "Skew:                          -0.408   Prob(JB):                        0.657\n",
      "Kurtosis:                       1.167   Cond. No.                         8.37\n",
      "==============================================================================\n",
      "\n",
      "Notes:\n",
      "[1] Standard Errors assume that the covariance matrix of the errors is correctly specified.\n"
     ]
    },
    {
     "name": "stderr",
     "output_type": "stream",
     "text": [
      "/Users/danielriegels/anaconda3/lib/python3.11/site-packages/statsmodels/stats/stattools.py:74: ValueWarning: omni_normtest is not valid with less than 8 observations; 5 samples were given.\n",
      "  warn(\"omni_normtest is not valid with less than 8 observations; %i \"\n"
     ]
    }
   ],
   "source": [
    "X = sm.add_constant(X)\n",
    "model = sm.OLS(Y,X)\n",
    "results = model.fit()\n",
    "print(results.summary())"
   ]
  },
  {
   "cell_type": "markdown",
   "metadata": {},
   "source": [
    "\n",
    "### Del 2: OLS i MLR-tilfældet (Når vi har flere forklarende variable)\n"
   ]
  },
  {
   "cell_type": "markdown",
   "metadata": {},
   "source": [
    "I det generelle tilfælde hvor vi har flere forklarende variable (MLR), ser modellen sådan her ud:\n",
    "\n",
    "$$y_i = \\beta_0 + \\beta_1 x_{1 i}+ \\beta_2 x_{2 i} +  \\dots + \\beta_k x_{k i} + u_i$$\n",
    "\n",
    "Da ved vi at OLS-estimatoren kan skrives på matrix-form på følgende måde:\n",
    "\n",
    "$$ \\boldsymbol{\\hat {\\beta}} = (\\mathbf {X'} \\mathbf X)^{-1} \\mathbf {X'} \\mathbf y $$\n",
    "\n",
    "hvor:\n",
    "- $\\boldsymbol{\\hat{\\beta}}$ er en $ (k+1) \\times 1 $ vektor af koefficient estimater.\n",
    "- $\\mathbf X$ er en $ n \\times (k+1) $ matrix indeholdende vores observationer af forklarende variable, hvor den første søjle er fyldt med 1-taller for at fange konstante effekter.\n",
    "- $\\mathbf y$ er en $ n \\times 1 $ vektor som indeholder vores observationer af de afhængige variable\n",
    "\n",
    "$n$ er antallet af observationer. $k$ er antallet af forklarende variable (vi plusser 1 for at gøre plads til konstantleddet).\n",
    "\n"
   ]
  },
  {
   "cell_type": "markdown",
   "metadata": {},
   "source": [
    "#### Opgave 1\n",
    "Skriv en funktion `OLS()`, hvor du manuelt implementerer OLS estimatoren i MLR-tilfældet ved hjælp af numpy. Funktionen skal tage X og Y som argumenter, hvor X er et $n \\times (k+1)$ numpy array og Y er et $n \\times 1$ numpy array. Funktionen skal returnere et $(k+1) \\times 1$ numpy array $\\hat{\\beta}$.\n",
    "\n",
    "_Hints:_ \n",
    "- Du kan gange matricer sammen i numpy ved hjælp af @ operatoren. Hvis du for eksempel har to kompatible matricer A og B, kan du bruge koden `A @ B` til at beregne matrix produktet. @ operatoren fungerer også til matrix-vector produkter.\n",
    "\n",
    "- Du kan transponere en matrix i numpy ved at tilføje `.T` til sidst. For eksempel returnerer `A.T` den transpose af matricen A.\n",
    "- Du kan invertere en matrix med `np.linalg.inv()` metoden. For eksempel returnerer `np.linalg.inv(A)` den inverse af matricen A."
   ]
  },
  {
   "cell_type": "markdown",
   "metadata": {},
   "source": [
    "**Din kode:** "
   ]
  },
  {
   "cell_type": "code",
   "execution_count": 7,
   "metadata": {},
   "outputs": [],
   "source": [
    "def OLS(X,Y):\n",
    "    beta_hat = np.linalg.inv(X.T @ X) @ X.T @ Y\n",
    "    return beta_hat"
   ]
  },
  {
   "cell_type": "markdown",
   "metadata": {},
   "source": [
    "#### Opgave 2 \n",
    "Tjek at `OLS()` funktionen returnerer de samme koefficienter som i SLR-tilfældet når du kører den på samme data. Kør bare cellen nedenfor."
   ]
  },
  {
   "cell_type": "code",
   "execution_count": 8,
   "metadata": {},
   "outputs": [
    {
     "data": {
      "text/plain": [
       "array([-4.2,  2. ])"
      ]
     },
     "execution_count": 8,
     "metadata": {},
     "output_type": "execute_result"
    }
   ],
   "source": [
    "OLS(X,Y)"
   ]
  },
  {
   "cell_type": "markdown",
   "metadata": {},
   "source": [
    "#### Opgave 3 \n",
    "Lad os nu tjekke om funktionen også virker når vi har flere forklarende variable (flere søjler i X). Hvis din implementering er rigtig bør du få  følgende koefficient vektor $\\hat{\\beta}$: `array([-3.58043168,  1.61631032,  0.30264712])` når du kører nedenstående celle."
   ]
  },
  {
   "cell_type": "code",
   "execution_count": 9,
   "metadata": {},
   "outputs": [
    {
     "data": {
      "text/plain": [
       "array([-3.58043168,  1.61631032,  0.30264712])"
      ]
     },
     "execution_count": 9,
     "metadata": {},
     "output_type": "execute_result"
    }
   ],
   "source": [
    "X = np.array([[ 1, 2, 3, 4, 5, 1, 0, 1],\n",
    "              [-2, 5, 2, 1, 5, 7, 5, 2]]).T\n",
    "X = sm.add_constant(X)\n",
    "Y = np.array([-4, 1, 3, 5, 4, 1, -2.6, -1])\n",
    "\n",
    "OLS(X,Y)"
   ]
  },
  {
   "cell_type": "markdown",
   "metadata": {},
   "source": [
    "## Øvelse 2: SLR, MLR og makrodata\n",
    "I denne opgave skal vi øve os i at formulere nul- og alternativhypoteser. Samtidig skal vi sammenligne en simpel regressionsmodel (SLR) med en multipel regressionsmodel (MLR).\n",
    "\n",
    "Specifikt vil vi kigge på de makroøkonomiske hypoteser om om _absolut_ og _betinget_ konvergens. Teorierne omhandler langsigtet økonomisk vækst, og om lande kan vokse ud af fattigdom uden indgreb. \n",
    "\n",
    "- Teorien om **absolut konvergens** siger, at på lang sigt vil BNP pr. arbejder konvergere mod samme vækstbane. Det betyder, at jo længere væk et lands initiale BNP pr. arbejder er fra den langsigtede vækstbane, desto hurtigere vil BNP pr. arbejder vokse for at nå samme niveau. \n",
    "\n",
    "- Teorien om **betinget konvergens** siger, at et lands BNP pr. arbejder konvergerer mod en lande-specifik vækstbane, som afhænger af landets strukturelle karakteristika (fx befolkningstilvæksten og inveresteringsraten i fysisk kapital, som kan variere fra land til land)\n",
    "\n",
    "Vi bruger datasættet PS3.dta, som indholder vækstdata for 93 lande fra 1960-2003. Dataen stammer fra Penn World Tables."
   ]
  },
  {
   "cell_type": "markdown",
   "metadata": {},
   "source": [
    "### Del 1: Simpel regressionsmodel (SLR)\n",
    "I første omgang vil vi arbejde med følgende simple regressionsmodel:\n",
    "\n",
    "$$ \\text{gy}_i = \\beta_0 + \\beta_1 \\ln(\\text{y60}_i) + u_i $$\n",
    "\n",
    "hvor:\n",
    "- $\\text{gy}_i $ er den gennemsnitlige årlige vækstrate i BNP pr. arbejder for land $i$ siden 1960\n",
    "- $\\text{y60}_i$ er landets BNP pr. arbejder i år 1960.\n",
    "\n",
    "Bemærk, at vi ligesom i sidste uge tager log-transformationen af BNP pr. arbejder i 1960 for at opnå bedre numeriske resultater, og for at få en procentuel fortolkning af koefficient-estimatet."
   ]
  },
  {
   "cell_type": "markdown",
   "metadata": {},
   "source": [
    "#### Opgave 1\n",
    "Hvad er nul- og alternativ hypotesen, når I gerne vil teste hypotesen om absolut konvergens? Vær præcis, når I formulerer nul- og alternativ hypotesen i ord."
   ]
  },
  {
   "cell_type": "markdown",
   "metadata": {},
   "source": [
    "> Nulhypotesen er, at der ikke er absolut konvergens, så $H_0: \\beta_1 = 0$. Det vil sige, at landets vækstrate ikke afhænger af landets oprindelige BNP-per-arbejder-niveau i 1960.\n",
    "> \n",
    "> Alternativ-hypotesen er, at der _er_ absolut konvergens, så $H_A : \\beta_1 < 0$. At der er absolut konvergens vil betyde, at alle lande konvergerer mod samme BNP pr. arbejder. Det betyder, at lande, der var rige i 1960, skal have en lavere vækstrate i BNP pr. arbejder end lande, som var fattige i 1960, sådan at de fattige lande \"automatisk\" vil indhente de rige over tid.\n",
    ">\n",
    "> Bonusinfo til de nysgerrige:\n",
    "> 1. Algebraisk kan vi omskrive $\\beta_1 = -b$ så ligningen bliver:\n",
    ">$$\\text{gy}_i = \\beta_0 - b \\ln(\\text{y60}_i) + u_i$$\n",
    ">2. Leddet $-b \\ln(\\text{y60}_i)$ kan omskrives med en logaritmeregneregel:\n",
    ">$$-b \\ln(\\text{y60}_i) = \\ln((\\text{y60}_i)^{-b}) = \\ln\\left(\\frac{1}{\\text{y60}_i^b}\\right)$$\n",
    ">3. Det viser at hvis $\\text{y60}_i$ er høj for et specifikt land (dvs. et land der starter med et higher initialniveau af BNP), da bliver det logaritmiske led lavere (siden $\\frac{1}{\\text{y60}_i^b}$ falder), hvilket fører til en lavere vækstrate $\\text{gy}_i$. Det fører til konvergens.\n"
   ]
  },
  {
   "cell_type": "markdown",
   "metadata": {},
   "source": [
    "#### Opgave 2\n",
    "Indlæs datasættet PS3.dta og drop de observationer som har datakvalitet D i kolonnen \"grade\". Hvilke lande bliver fravalgt? Hvilken betydning for analysen om absolut konvergens kan det have, at vi frasorterer lande med lav datakvalitet?"
   ]
  },
  {
   "cell_type": "code",
   "execution_count": 10,
   "metadata": {},
   "outputs": [
    {
     "data": {
      "text/html": [
       "<div>\n",
       "<style scoped>\n",
       "    .dataframe tbody tr th:only-of-type {\n",
       "        vertical-align: middle;\n",
       "    }\n",
       "\n",
       "    .dataframe tbody tr th {\n",
       "        vertical-align: top;\n",
       "    }\n",
       "\n",
       "    .dataframe thead th {\n",
       "        text-align: right;\n",
       "    }\n",
       "</style>\n",
       "<table border=\"1\" class=\"dataframe\">\n",
       "  <thead>\n",
       "    <tr style=\"text-align: right;\">\n",
       "      <th></th>\n",
       "      <th>country</th>\n",
       "      <th>iso3</th>\n",
       "      <th>y03</th>\n",
       "      <th>y60</th>\n",
       "      <th>gy</th>\n",
       "      <th>sk</th>\n",
       "      <th>sh</th>\n",
       "      <th>u</th>\n",
       "      <th>isi</th>\n",
       "      <th>n</th>\n",
       "      <th>grade</th>\n",
       "    </tr>\n",
       "  </thead>\n",
       "  <tbody>\n",
       "    <tr>\n",
       "      <th>23</th>\n",
       "      <td>Taiwan</td>\n",
       "      <td>TWN</td>\n",
       "      <td>0.627780</td>\n",
       "      <td>0.122368</td>\n",
       "      <td>0.055736</td>\n",
       "      <td>0.170054</td>\n",
       "      <td>NaN</td>\n",
       "      <td>8.764</td>\n",
       "      <td>0.76689</td>\n",
       "      <td>0.022051</td>\n",
       "      <td>D</td>\n",
       "    </tr>\n",
       "    <tr>\n",
       "      <th>40</th>\n",
       "      <td>Algeria</td>\n",
       "      <td>DZA</td>\n",
       "      <td>0.239503</td>\n",
       "      <td>0.394755</td>\n",
       "      <td>0.006088</td>\n",
       "      <td>0.156739</td>\n",
       "      <td>0.124225</td>\n",
       "      <td>NaN</td>\n",
       "      <td>0.26467</td>\n",
       "      <td>0.030309</td>\n",
       "      <td>D</td>\n",
       "    </tr>\n",
       "    <tr>\n",
       "      <th>48</th>\n",
       "      <td>Cape Verde</td>\n",
       "      <td>CPV</td>\n",
       "      <td>0.179736</td>\n",
       "      <td>0.134228</td>\n",
       "      <td>0.024498</td>\n",
       "      <td>0.148722</td>\n",
       "      <td>NaN</td>\n",
       "      <td>NaN</td>\n",
       "      <td>0.22907</td>\n",
       "      <td>0.022813</td>\n",
       "      <td>D</td>\n",
       "    </tr>\n",
       "    <tr>\n",
       "      <th>72</th>\n",
       "      <td>Lesotho</td>\n",
       "      <td>LSO</td>\n",
       "      <td>0.069507</td>\n",
       "      <td>0.039794</td>\n",
       "      <td>0.030679</td>\n",
       "      <td>0.174102</td>\n",
       "      <td>NaN</td>\n",
       "      <td>4.232</td>\n",
       "      <td>0.55154</td>\n",
       "      <td>0.016500</td>\n",
       "      <td>D</td>\n",
       "    </tr>\n",
       "    <tr>\n",
       "      <th>79</th>\n",
       "      <td>Mozambique</td>\n",
       "      <td>MOZ</td>\n",
       "      <td>0.040890</td>\n",
       "      <td>0.045656</td>\n",
       "      <td>0.015145</td>\n",
       "      <td>0.029996</td>\n",
       "      <td>0.009497</td>\n",
       "      <td>1.105</td>\n",
       "      <td>0.26800</td>\n",
       "      <td>0.018978</td>\n",
       "      <td>D</td>\n",
       "    </tr>\n",
       "    <tr>\n",
       "      <th>80</th>\n",
       "      <td>Comoros</td>\n",
       "      <td>COM</td>\n",
       "      <td>0.039927</td>\n",
       "      <td>0.089702</td>\n",
       "      <td>-0.001115</td>\n",
       "      <td>0.113735</td>\n",
       "      <td>NaN</td>\n",
       "      <td>NaN</td>\n",
       "      <td>0.50838</td>\n",
       "      <td>0.029056</td>\n",
       "      <td>D</td>\n",
       "    </tr>\n",
       "    <tr>\n",
       "      <th>84</th>\n",
       "      <td>Uganda</td>\n",
       "      <td>UGA</td>\n",
       "      <td>0.033853</td>\n",
       "      <td>0.050269</td>\n",
       "      <td>0.008515</td>\n",
       "      <td>0.026438</td>\n",
       "      <td>0.014670</td>\n",
       "      <td>3.514</td>\n",
       "      <td>0.26178</td>\n",
       "      <td>0.026821</td>\n",
       "      <td>D</td>\n",
       "    </tr>\n",
       "    <tr>\n",
       "      <th>87</th>\n",
       "      <td>Chad</td>\n",
       "      <td>TCD</td>\n",
       "      <td>0.028558</td>\n",
       "      <td>0.070628</td>\n",
       "      <td>-0.003349</td>\n",
       "      <td>0.085335</td>\n",
       "      <td>0.008054</td>\n",
       "      <td>NaN</td>\n",
       "      <td>0.27702</td>\n",
       "      <td>0.023534</td>\n",
       "      <td>D</td>\n",
       "    </tr>\n",
       "    <tr>\n",
       "      <th>88</th>\n",
       "      <td>Togo</td>\n",
       "      <td>TGO</td>\n",
       "      <td>0.027333</td>\n",
       "      <td>0.058020</td>\n",
       "      <td>0.000204</td>\n",
       "      <td>0.099361</td>\n",
       "      <td>0.033496</td>\n",
       "      <td>3.334</td>\n",
       "      <td>0.22283</td>\n",
       "      <td>0.029585</td>\n",
       "      <td>D</td>\n",
       "    </tr>\n",
       "    <tr>\n",
       "      <th>89</th>\n",
       "      <td>Niger</td>\n",
       "      <td>NER</td>\n",
       "      <td>0.026838</td>\n",
       "      <td>0.072005</td>\n",
       "      <td>-0.005243</td>\n",
       "      <td>0.059065</td>\n",
       "      <td>0.007126</td>\n",
       "      <td>1.018</td>\n",
       "      <td>0.25700</td>\n",
       "      <td>0.026862</td>\n",
       "      <td>D</td>\n",
       "    </tr>\n",
       "    <tr>\n",
       "      <th>96</th>\n",
       "      <td>Guinea-Bissau</td>\n",
       "      <td>GNB</td>\n",
       "      <td>0.018935</td>\n",
       "      <td>0.030327</td>\n",
       "      <td>0.006755</td>\n",
       "      <td>0.131924</td>\n",
       "      <td>NaN</td>\n",
       "      <td>0.839</td>\n",
       "      <td>0.25872</td>\n",
       "      <td>0.015722</td>\n",
       "      <td>D</td>\n",
       "    </tr>\n",
       "  </tbody>\n",
       "</table>\n",
       "</div>"
      ],
      "text/plain": [
       "          country iso3       y03       y60        gy        sk        sh  \\\n",
       "23         Taiwan  TWN  0.627780  0.122368  0.055736  0.170054       NaN   \n",
       "40        Algeria  DZA  0.239503  0.394755  0.006088  0.156739  0.124225   \n",
       "48     Cape Verde  CPV  0.179736  0.134228  0.024498  0.148722       NaN   \n",
       "72        Lesotho  LSO  0.069507  0.039794  0.030679  0.174102       NaN   \n",
       "79     Mozambique  MOZ  0.040890  0.045656  0.015145  0.029996  0.009497   \n",
       "80        Comoros  COM  0.039927  0.089702 -0.001115  0.113735       NaN   \n",
       "84         Uganda  UGA  0.033853  0.050269  0.008515  0.026438  0.014670   \n",
       "87           Chad  TCD  0.028558  0.070628 -0.003349  0.085335  0.008054   \n",
       "88           Togo  TGO  0.027333  0.058020  0.000204  0.099361  0.033496   \n",
       "89          Niger  NER  0.026838  0.072005 -0.005243  0.059065  0.007126   \n",
       "96  Guinea-Bissau  GNB  0.018935  0.030327  0.006755  0.131924       NaN   \n",
       "\n",
       "        u      isi         n grade  \n",
       "23  8.764  0.76689  0.022051     D  \n",
       "40    NaN  0.26467  0.030309     D  \n",
       "48    NaN  0.22907  0.022813     D  \n",
       "72  4.232  0.55154  0.016500     D  \n",
       "79  1.105  0.26800  0.018978     D  \n",
       "80    NaN  0.50838  0.029056     D  \n",
       "84  3.514  0.26178  0.026821     D  \n",
       "87    NaN  0.27702  0.023534     D  \n",
       "88  3.334  0.22283  0.029585     D  \n",
       "89  1.018  0.25700  0.026862     D  \n",
       "96  0.839  0.25872  0.015722     D  "
      ]
     },
     "execution_count": 10,
     "metadata": {},
     "output_type": "execute_result"
    }
   ],
   "source": [
    "df = pd.read_stata(\"PS3.dta\")\n",
    "\n",
    "# Lande med grade D\n",
    "df[df.grade == 'D']"
   ]
  },
  {
   "cell_type": "code",
   "execution_count": 11,
   "metadata": {},
   "outputs": [
    {
     "data": {
      "text/html": [
       "<div>\n",
       "<style scoped>\n",
       "    .dataframe tbody tr th:only-of-type {\n",
       "        vertical-align: middle;\n",
       "    }\n",
       "\n",
       "    .dataframe tbody tr th {\n",
       "        vertical-align: top;\n",
       "    }\n",
       "\n",
       "    .dataframe thead th {\n",
       "        text-align: right;\n",
       "    }\n",
       "</style>\n",
       "<table border=\"1\" class=\"dataframe\">\n",
       "  <thead>\n",
       "    <tr style=\"text-align: right;\">\n",
       "      <th></th>\n",
       "      <th>y03</th>\n",
       "      <th>y60</th>\n",
       "      <th>gy</th>\n",
       "      <th>sk</th>\n",
       "      <th>sh</th>\n",
       "      <th>u</th>\n",
       "      <th>isi</th>\n",
       "      <th>n</th>\n",
       "    </tr>\n",
       "  </thead>\n",
       "  <tbody>\n",
       "    <tr>\n",
       "      <th>count</th>\n",
       "      <td>97.000000</td>\n",
       "      <td>97.000000</td>\n",
       "      <td>97.000000</td>\n",
       "      <td>97.000000</td>\n",
       "      <td>83.000000</td>\n",
       "      <td>81.000000</td>\n",
       "      <td>96.000000</td>\n",
       "      <td>97.000000</td>\n",
       "    </tr>\n",
       "    <tr>\n",
       "      <th>mean</th>\n",
       "      <td>0.326837</td>\n",
       "      <td>0.306645</td>\n",
       "      <td>0.016238</td>\n",
       "      <td>0.157079</td>\n",
       "      <td>0.066243</td>\n",
       "      <td>6.478321</td>\n",
       "      <td>10.909232</td>\n",
       "      <td>0.021910</td>\n",
       "    </tr>\n",
       "    <tr>\n",
       "      <th>std</th>\n",
       "      <td>0.331110</td>\n",
       "      <td>0.277975</td>\n",
       "      <td>0.013516</td>\n",
       "      <td>0.081959</td>\n",
       "      <td>0.036105</td>\n",
       "      <td>2.831886</td>\n",
       "      <td>102.011581</td>\n",
       "      <td>0.008936</td>\n",
       "    </tr>\n",
       "    <tr>\n",
       "      <th>min</th>\n",
       "      <td>0.018935</td>\n",
       "      <td>0.026356</td>\n",
       "      <td>-0.010774</td>\n",
       "      <td>0.024205</td>\n",
       "      <td>0.005237</td>\n",
       "      <td>0.839000</td>\n",
       "      <td>0.193390</td>\n",
       "      <td>0.000795</td>\n",
       "    </tr>\n",
       "    <tr>\n",
       "      <th>25%</th>\n",
       "      <td>0.069507</td>\n",
       "      <td>0.072005</td>\n",
       "      <td>0.006755</td>\n",
       "      <td>0.088349</td>\n",
       "      <td>0.033082</td>\n",
       "      <td>4.796000</td>\n",
       "      <td>0.275627</td>\n",
       "      <td>0.016397</td>\n",
       "    </tr>\n",
       "    <tr>\n",
       "      <th>50%</th>\n",
       "      <td>0.179736</td>\n",
       "      <td>0.223580</td>\n",
       "      <td>0.014864</td>\n",
       "      <td>0.137713</td>\n",
       "      <td>0.073028</td>\n",
       "      <td>6.355000</td>\n",
       "      <td>0.396475</td>\n",
       "      <td>0.023534</td>\n",
       "    </tr>\n",
       "    <tr>\n",
       "      <th>75%</th>\n",
       "      <td>0.586415</td>\n",
       "      <td>0.464846</td>\n",
       "      <td>0.024969</td>\n",
       "      <td>0.224658</td>\n",
       "      <td>0.095137</td>\n",
       "      <td>8.732000</td>\n",
       "      <td>0.791185</td>\n",
       "      <td>0.028721</td>\n",
       "    </tr>\n",
       "    <tr>\n",
       "      <th>max</th>\n",
       "      <td>1.735000</td>\n",
       "      <td>1.030000</td>\n",
       "      <td>0.055736</td>\n",
       "      <td>0.435997</td>\n",
       "      <td>0.146492</td>\n",
       "      <td>12.049000</td>\n",
       "      <td>1000.000000</td>\n",
       "      <td>0.047924</td>\n",
       "    </tr>\n",
       "  </tbody>\n",
       "</table>\n",
       "</div>"
      ],
      "text/plain": [
       "             y03        y60         gy         sk         sh          u  \\\n",
       "count  97.000000  97.000000  97.000000  97.000000  83.000000  81.000000   \n",
       "mean    0.326837   0.306645   0.016238   0.157079   0.066243   6.478321   \n",
       "std     0.331110   0.277975   0.013516   0.081959   0.036105   2.831886   \n",
       "min     0.018935   0.026356  -0.010774   0.024205   0.005237   0.839000   \n",
       "25%     0.069507   0.072005   0.006755   0.088349   0.033082   4.796000   \n",
       "50%     0.179736   0.223580   0.014864   0.137713   0.073028   6.355000   \n",
       "75%     0.586415   0.464846   0.024969   0.224658   0.095137   8.732000   \n",
       "max     1.735000   1.030000   0.055736   0.435997   0.146492  12.049000   \n",
       "\n",
       "               isi          n  \n",
       "count    96.000000  97.000000  \n",
       "mean     10.909232   0.021910  \n",
       "std     102.011581   0.008936  \n",
       "min       0.193390   0.000795  \n",
       "25%       0.275627   0.016397  \n",
       "50%       0.396475   0.023534  \n",
       "75%       0.791185   0.028721  \n",
       "max    1000.000000   0.047924  "
      ]
     },
     "execution_count": 11,
     "metadata": {},
     "output_type": "execute_result"
    }
   ],
   "source": [
    "# Deskriptiv statistik for hele datasættet\n",
    "df.describe()"
   ]
  },
  {
   "cell_type": "code",
   "execution_count": 12,
   "metadata": {},
   "outputs": [
    {
     "data": {
      "text/html": [
       "<div>\n",
       "<style scoped>\n",
       "    .dataframe tbody tr th:only-of-type {\n",
       "        vertical-align: middle;\n",
       "    }\n",
       "\n",
       "    .dataframe tbody tr th {\n",
       "        vertical-align: top;\n",
       "    }\n",
       "\n",
       "    .dataframe thead th {\n",
       "        text-align: right;\n",
       "    }\n",
       "</style>\n",
       "<table border=\"1\" class=\"dataframe\">\n",
       "  <thead>\n",
       "    <tr style=\"text-align: right;\">\n",
       "      <th></th>\n",
       "      <th>y03</th>\n",
       "      <th>y60</th>\n",
       "      <th>gy</th>\n",
       "      <th>sk</th>\n",
       "      <th>sh</th>\n",
       "      <th>u</th>\n",
       "      <th>isi</th>\n",
       "      <th>n</th>\n",
       "    </tr>\n",
       "  </thead>\n",
       "  <tbody>\n",
       "    <tr>\n",
       "      <th>count</th>\n",
       "      <td>11.000000</td>\n",
       "      <td>11.000000</td>\n",
       "      <td>11.000000</td>\n",
       "      <td>11.000000</td>\n",
       "      <td>6.000000</td>\n",
       "      <td>7.000000</td>\n",
       "      <td>11.000000</td>\n",
       "      <td>11.000000</td>\n",
       "    </tr>\n",
       "    <tr>\n",
       "      <th>mean</th>\n",
       "      <td>0.121169</td>\n",
       "      <td>0.100705</td>\n",
       "      <td>0.012538</td>\n",
       "      <td>0.108679</td>\n",
       "      <td>0.032845</td>\n",
       "      <td>3.258000</td>\n",
       "      <td>0.351445</td>\n",
       "      <td>0.023839</td>\n",
       "    </tr>\n",
       "    <tr>\n",
       "      <th>std</th>\n",
       "      <td>0.182800</td>\n",
       "      <td>0.102940</td>\n",
       "      <td>0.018285</td>\n",
       "      <td>0.053455</td>\n",
       "      <td>0.045831</td>\n",
       "      <td>2.794059</td>\n",
       "      <td>0.177304</td>\n",
       "      <td>0.005175</td>\n",
       "    </tr>\n",
       "    <tr>\n",
       "      <th>min</th>\n",
       "      <td>0.018935</td>\n",
       "      <td>0.030327</td>\n",
       "      <td>-0.005243</td>\n",
       "      <td>0.026438</td>\n",
       "      <td>0.007126</td>\n",
       "      <td>0.839000</td>\n",
       "      <td>0.222830</td>\n",
       "      <td>0.015722</td>\n",
       "    </tr>\n",
       "    <tr>\n",
       "      <th>25%</th>\n",
       "      <td>0.027945</td>\n",
       "      <td>0.047962</td>\n",
       "      <td>-0.000455</td>\n",
       "      <td>0.072200</td>\n",
       "      <td>0.008415</td>\n",
       "      <td>1.061500</td>\n",
       "      <td>0.257860</td>\n",
       "      <td>0.020515</td>\n",
       "    </tr>\n",
       "    <tr>\n",
       "      <th>50%</th>\n",
       "      <td>0.039927</td>\n",
       "      <td>0.070628</td>\n",
       "      <td>0.006755</td>\n",
       "      <td>0.113735</td>\n",
       "      <td>0.012083</td>\n",
       "      <td>3.334000</td>\n",
       "      <td>0.264670</td>\n",
       "      <td>0.023534</td>\n",
       "    </tr>\n",
       "    <tr>\n",
       "      <th>75%</th>\n",
       "      <td>0.124621</td>\n",
       "      <td>0.106035</td>\n",
       "      <td>0.019822</td>\n",
       "      <td>0.152730</td>\n",
       "      <td>0.028789</td>\n",
       "      <td>3.873000</td>\n",
       "      <td>0.392700</td>\n",
       "      <td>0.027959</td>\n",
       "    </tr>\n",
       "    <tr>\n",
       "      <th>max</th>\n",
       "      <td>0.627780</td>\n",
       "      <td>0.394755</td>\n",
       "      <td>0.055736</td>\n",
       "      <td>0.174102</td>\n",
       "      <td>0.124225</td>\n",
       "      <td>8.764000</td>\n",
       "      <td>0.766890</td>\n",
       "      <td>0.030309</td>\n",
       "    </tr>\n",
       "  </tbody>\n",
       "</table>\n",
       "</div>"
      ],
      "text/plain": [
       "             y03        y60         gy         sk        sh         u  \\\n",
       "count  11.000000  11.000000  11.000000  11.000000  6.000000  7.000000   \n",
       "mean    0.121169   0.100705   0.012538   0.108679  0.032845  3.258000   \n",
       "std     0.182800   0.102940   0.018285   0.053455  0.045831  2.794059   \n",
       "min     0.018935   0.030327  -0.005243   0.026438  0.007126  0.839000   \n",
       "25%     0.027945   0.047962  -0.000455   0.072200  0.008415  1.061500   \n",
       "50%     0.039927   0.070628   0.006755   0.113735  0.012083  3.334000   \n",
       "75%     0.124621   0.106035   0.019822   0.152730  0.028789  3.873000   \n",
       "max     0.627780   0.394755   0.055736   0.174102  0.124225  8.764000   \n",
       "\n",
       "             isi          n  \n",
       "count  11.000000  11.000000  \n",
       "mean    0.351445   0.023839  \n",
       "std     0.177304   0.005175  \n",
       "min     0.222830   0.015722  \n",
       "25%     0.257860   0.020515  \n",
       "50%     0.264670   0.023534  \n",
       "75%     0.392700   0.027959  \n",
       "max     0.766890   0.030309  "
      ]
     },
     "execution_count": 12,
     "metadata": {},
     "output_type": "execute_result"
    }
   ],
   "source": [
    "# Deskriptiv statistik for grade == D lande\n",
    "df[df.grade == 'D'].describe()"
   ]
  },
  {
   "cell_type": "code",
   "execution_count": 13,
   "metadata": {},
   "outputs": [],
   "source": [
    "df = df[df.grade != \"D\"] # Fjern lande med grade D"
   ]
  },
  {
   "cell_type": "markdown",
   "metadata": {},
   "source": [
    "**Dit svar:**\n"
   ]
  },
  {
   "cell_type": "markdown",
   "metadata": {},
   "source": [
    "> Det er lande med lavt BNP pr. arbejder og lande, der har haft lavere vækst i perioden ift. resten af datasættet, som bliver fravalgt. Det kan have en betydning for analysen af absolut konvergens. Det vil ikke have en betydning, hvis de frasorterede lande lignende landene i resten af datasættet."
   ]
  },
  {
   "cell_type": "markdown",
   "metadata": {},
   "source": [
    "#### Opgave 3\n",
    "Konstruer variablen $\\ln (\\text{y60}_i)$ og estimer modellen med `sm.OLS()`.  Hvad er modellens forklaringsgrad, $R^2$? Hvad kan I konkludere om absolut konvergens?"
   ]
  },
  {
   "cell_type": "markdown",
   "metadata": {},
   "source": [
    "**Din kode:**"
   ]
  },
  {
   "cell_type": "code",
   "execution_count": 14,
   "metadata": {},
   "outputs": [
    {
     "name": "stdout",
     "output_type": "stream",
     "text": [
      "                            OLS Regression Results                            \n",
      "==============================================================================\n",
      "Dep. Variable:                     gy   R-squared:                       0.002\n",
      "Model:                            OLS   Adj. R-squared:                 -0.010\n",
      "Method:                 Least Squares   F-statistic:                    0.1867\n",
      "Date:                Fri, 13 Sep 2024   Prob (F-statistic):              0.667\n",
      "Time:                        09:37:26   Log-Likelihood:                 253.08\n",
      "No. Observations:                  86   AIC:                            -502.2\n",
      "Df Residuals:                      84   BIC:                            -497.3\n",
      "Df Model:                           1                                         \n",
      "Covariance Type:            nonrobust                                         \n",
      "==============================================================================\n",
      "                 coef    std err          t      P>|t|      [0.025      0.975]\n",
      "------------------------------------------------------------------------------\n",
      "const          0.0158      0.002      6.378      0.000       0.011       0.021\n",
      "y60           -0.0006      0.001     -0.432      0.667      -0.003       0.002\n",
      "==============================================================================\n",
      "Omnibus:                        1.701   Durbin-Watson:                   1.563\n",
      "Prob(Omnibus):                  0.427   Jarque-Bera (JB):                1.517\n",
      "Skew:                           0.324   Prob(JB):                        0.468\n",
      "Kurtosis:                       2.932   Cond. No.                         4.05\n",
      "==============================================================================\n",
      "\n",
      "Notes:\n",
      "[1] Standard Errors assume that the covariance matrix of the errors is correctly specified.\n"
     ]
    }
   ],
   "source": [
    "Y = df.gy\n",
    "X = np.log(df.y60)\n",
    "\n",
    "X = sm.add_constant(X)\n",
    "model = sm.OLS(Y,X)\n",
    "results = model.fit()\n",
    "print(results.summary())"
   ]
  },
  {
   "cell_type": "markdown",
   "metadata": {},
   "source": [
    "**Dit svar:**"
   ]
  },
  {
   "cell_type": "markdown",
   "metadata": {},
   "source": [
    "> Modellens forklaringsgrad er 0,2 pct. Det er ikke muligt at konkludere, at der er en sammenhæng mellem BNP pr. arbejder i 1960 og vækst i BNP pr. arbejder. Hypotesen om absolut konvergens bliver ikke understøttet empirisk."
   ]
  },
  {
   "cell_type": "markdown",
   "metadata": {},
   "source": [
    "### Del 2: Multipel regressionsmodel\n",
    "Vi udvider nu modellen til at inkludere en variabel, som tager højde for forskelle i strukturelle karakteristika på tværs af lande:\n",
    "\n",
    "$$ \\text{gy}_i = \\beta_0 + \\beta_1 \\ln(\\text{y60}_i) + \\beta_2 \\text{struc}_i + u_i $$\n",
    "hvor de strukturelle karakteristika er defineret på følgende måde:\n",
    "$$ \\text{struc}_i = \\ln(\\text{sk}_i) − \\ln(\\text{n}_i + 0, 075)$$ \n",
    "\n",
    "Da I endnu ikke har haft Makroøkonomi A behøver I ikke forstå modellen fuldt ud, men det kan nævnes at:\n",
    "- $\\text{sk}_i$ er investeringsraten i fysisk kapital for land $i$\n",
    "\n",
    "- $\\text{n}_i$ er den gennemsnitlige årlige befolkningsvækst i perioden 1960-2003\n",
    "- De 0,075 i det sidste led er et estimat for afskrivningsraten af fysisk kapital i den basale Solow model. Bemærk, at det er samme værdi for alle lande. I lærer mere om alt dette i Makro A."
   ]
  },
  {
   "cell_type": "markdown",
   "metadata": {},
   "source": [
    "#### Opgave 4\n",
    "Hvad er nul- og alternativhypotesen, når vi gerne vil teste hypotesen om _betinget_ konvergens?"
   ]
  },
  {
   "cell_type": "markdown",
   "metadata": {},
   "source": [
    "**Dit svar:** "
   ]
  },
  {
   "cell_type": "markdown",
   "metadata": {},
   "source": [
    "> Nulhypotesen er, at der ikke er betinget konvergens: $H_0: \\beta_2 = 0$. Det betyder, at vækstraten ikke afhænger af de strukturelle karakteristika. Alternativhypotesen er $H_A: \\beta_2 \\neq 0$. Det betyder, at strukturelle karakteristika har betydning for vækstraten."
   ]
  },
  {
   "cell_type": "markdown",
   "metadata": {},
   "source": [
    "#### Opgave 5\n",
    "Konstruer den nye variabel $\\text{struc}_i$. Estimer den multiple regressionsmodel. Hvor meget af variationen i den afhængige variable er forklaret af modellen? Fortolk koefficienten for det initiale niveau af BNP pr. capita. Hvad kan vi konkludere om betinget konvergens? Overvej om en anden afskrivningsrate vil have betydning for jeres estimater."
   ]
  },
  {
   "cell_type": "markdown",
   "metadata": {},
   "source": [
    "**Din kode:**"
   ]
  },
  {
   "cell_type": "code",
   "execution_count": 15,
   "metadata": {},
   "outputs": [
    {
     "name": "stdout",
     "output_type": "stream",
     "text": [
      "                            OLS Regression Results                            \n",
      "==============================================================================\n",
      "Dep. Variable:                     gy   R-squared:                       0.428\n",
      "Model:                            OLS   Adj. R-squared:                  0.415\n",
      "Method:                 Least Squares   F-statistic:                     31.10\n",
      "Date:                Fri, 13 Sep 2024   Prob (F-statistic):           8.32e-11\n",
      "Time:                        09:37:26   Log-Likelihood:                 277.04\n",
      "No. Observations:                  86   AIC:                            -548.1\n",
      "Df Residuals:                      83   BIC:                            -540.7\n",
      "Df Model:                           2                                         \n",
      "Covariance Type:            nonrobust                                         \n",
      "==============================================================================\n",
      "                 coef    std err          t      P>|t|      [0.025      0.975]\n",
      "------------------------------------------------------------------------------\n",
      "const          0.0022      0.003      0.854      0.395      -0.003       0.007\n",
      "ln_y60        -0.0055      0.001     -4.669      0.000      -0.008      -0.003\n",
      "struc          0.0157      0.002      7.866      0.000       0.012       0.020\n",
      "==============================================================================\n",
      "Omnibus:                        5.844   Durbin-Watson:                   1.736\n",
      "Prob(Omnibus):                  0.054   Jarque-Bera (JB):                5.121\n",
      "Skew:                          -0.534   Prob(JB):                       0.0773\n",
      "Kurtosis:                       3.538   Cond. No.                         6.19\n",
      "==============================================================================\n",
      "\n",
      "Notes:\n",
      "[1] Standard Errors assume that the covariance matrix of the errors is correctly specified.\n"
     ]
    }
   ],
   "source": [
    "df['struc'] = np.log(df.sk) - np.log(df.n + 0.075)\n",
    "df['ln_y60'] = np.log(df.y60)\n",
    "\n",
    "Y = df.gy\n",
    "X = df[['ln_y60', 'struc']]\n",
    "X = sm.add_constant(X)\n",
    "\n",
    "model = sm.OLS(Y,X)\n",
    "results = model.fit()\n",
    "print(results.summary())"
   ]
  },
  {
   "cell_type": "markdown",
   "metadata": {},
   "source": [
    "**Dit svar:**"
   ]
  },
  {
   "cell_type": "markdown",
   "metadata": {},
   "source": [
    "> Forklaringsgraden er 42,8 pct. Fortolkningen af $\\hat\\beta_1$ er, at hvis BNP pr. arbejder er 1 pct. større i 1960, vil den  årlige vækstrate i BNP pr. arbejder fra 1960 til 2003 være -0,0055 pct. point lavere. Hvis nulhypotesen kan forkastes, er der empirisk evidens for hypotesen om betinget konvergens, og lande med samme strukturelle karakteristika vil konvergere mod samme BNP pr. arbejder.\n",
    "> \n",
    "> [Bemærk, at modellen skal fortolkes som en level-log model, men at man i fortolkningen ikke dividerer med 100, så man fortolker ændringen i pct. point].\n"
   ]
  },
  {
   "cell_type": "markdown",
   "metadata": {},
   "source": [
    "#### Opgave 6\n",
    "I denne opgave vil du lære hvordan du let kan eksportere output fra statsmodels og fra pandas DataFrames til LaTeX, sådan at du kan bruge output fra Python i pæne tabeller, der er korrekt sat op i dine afleveringsopgaver.\n",
    "\n",
    "\n",
    "- Brug denne kommando i Python til at printe dit regression summary som LaTeX kode:\n",
    "```py\n",
    "print(results.summary().as_latex())\n",
    "```\n",
    "\n",
    "- Opret et LaTeX-dokument (fx i Overleaf).\n",
    "\n",
    "- Kopier koden ind i dit LaTeX dokument og se, hvordan tabellen ser ud.\n",
    "\n",
    "Tilsvarende kan du konvertere ethvert Pandas DataFrame (fx deskriptiv statistik) til LaTeX med metoden `.to_latex()`. Bemærk at navngivningen af de to metoder er lidt forskellig i statsmodels og i pandas.\n",
    "\n",
    "Prøv fx at køre koden:\n",
    "```py\n",
    "print(df.describe().to_latex())\n",
    "```\n",
    "\n",
    "*Tip:* Hvis du vil afrunde dit LaTeX output til fx to decimaler, kan du bruge argumentet `float_format=\"%.2f\"` i `.to_latex()` metoden\n",
    "\n",
    "*Tip:* Din tabel bliver automatisk flottere i LaTeX hvis du importerer LaTeX pakken booktabs:\n",
    "```\\usepackage{booktabs}```"
   ]
  },
  {
   "cell_type": "markdown",
   "metadata": {},
   "source": [
    "**Din kode:**"
   ]
  },
  {
   "cell_type": "code",
   "execution_count": 16,
   "metadata": {},
   "outputs": [
    {
     "name": "stdout",
     "output_type": "stream",
     "text": [
      "\\begin{tabular}{lrrrrrrrrrr}\n",
      "\\toprule\n",
      " & y03 & y60 & gy & sk & sh & u & isi & n & struc & ln_y60 \\\\\n",
      "\\midrule\n",
      "count & 86.00 & 86.00 & 86.00 & 86.00 & 77.00 & 74.00 & 85.00 & 86.00 & 86.00 & 86.00 \\\\\n",
      "mean & 0.35 & 0.33 & 0.02 & 0.16 & 0.07 & 6.78 & 12.28 & 0.02 & 0.38 & -1.56 \\\\\n",
      "std & 0.34 & 0.28 & 0.01 & 0.08 & 0.03 & 2.66 & 108.41 & 0.01 & 0.63 & 1.06 \\\\\n",
      "min & 0.02 & 0.03 & -0.01 & 0.02 & 0.01 & 0.88 & 0.19 & 0.00 & -1.38 & -3.64 \\\\\n",
      "25% & 0.09 & 0.08 & 0.01 & 0.09 & 0.04 & 5.08 & 0.31 & 0.02 & -0.04 & -2.53 \\\\\n",
      "50% & 0.19 & 0.26 & 0.02 & 0.15 & 0.07 & 6.57 & 0.41 & 0.02 & 0.44 & -1.36 \\\\\n",
      "75% & 0.66 & 0.52 & 0.02 & 0.23 & 0.10 & 8.80 & 0.81 & 0.03 & 0.93 & -0.65 \\\\\n",
      "max & 1.74 & 1.03 & 0.05 & 0.44 & 0.15 & 12.05 & 1000.00 & 0.05 & 1.39 & 0.03 \\\\\n",
      "\\bottomrule\n",
      "\\end{tabular}\n",
      "\n"
     ]
    }
   ],
   "source": [
    "print(df.describe().to_latex(float_format=\"%.2f\"))"
   ]
  },
  {
   "cell_type": "markdown",
   "metadata": {},
   "source": [
    "Du vil måske opleve, at det kræver lidt mere arbejde at få tabellen til at se godt ud i LaTeX. Blandt andet fordi statsmodels faktisk spytter flere tabeller af forskellig størrelse ud, når man printer et summary.\n",
    "\n",
    "Du kan bede statsmodels om kun at printe tabellen med koefficient-estimaterne sådan her:\n",
    "\n",
    "```py\n",
    "print(results.summary().tables[1])\n",
    "```\n",
    "\n",
    "**Sidste tip til de \"dovne\":** Hvis du har travlt og ikke har lyst til at rode med at sætte LaTeX-tabellerne pænt op, kan du også bare kopiere de rå tekstoutput fra Python og indsætte i et verbatim miljø i LaTeX – det ser OK ud. Du skriver følgende i LaTeX:\n",
    "\n",
    "```LaTeX\n",
    "\\begin{verbatim}\n",
    "<Dit rå textoutput her>\n",
    "\\end{verbatim}\n",
    "```"
   ]
  }
 ],
 "metadata": {
  "kernelspec": {
   "display_name": "base",
   "language": "python",
   "name": "python3"
  },
  "language_info": {
   "codemirror_mode": {
    "name": "ipython",
    "version": 3
   },
   "file_extension": ".py",
   "mimetype": "text/x-python",
   "name": "python",
   "nbconvert_exporter": "python",
   "pygments_lexer": "ipython3",
   "version": "3.11.7"
  }
 },
 "nbformat": 4,
 "nbformat_minor": 2
}
