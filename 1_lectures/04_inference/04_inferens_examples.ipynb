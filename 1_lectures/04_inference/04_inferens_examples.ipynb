{
 "cells": [
  {
   "cell_type": "markdown",
   "metadata": {
    "slideshow": {
     "slide_type": "slide"
    }
   },
   "source": [
    "#  Inferens \n",
    "\n",
    "### Econometrics A (ØkA)\n",
    "\n",
    "Wooldridge (Ch. 3)\n",
    "\n",
    "Bertel Schjerning\n",
    "\n",
    "Department of Economics, University of Copenhagen\n"
   ]
  },
  {
   "cell_type": "markdown",
   "metadata": {
    "slideshow": {
     "slide_type": "slide"
    }
   },
   "source": [
    "### Enable autoreload"
   ]
  },
  {
   "cell_type": "code",
   "execution_count": 1,
   "metadata": {
    "slideshow": {
     "slide_type": "-"
    }
   },
   "outputs": [],
   "source": [
    "# Sørger for at alle importerede python filer geninlæses ved import statements\n",
    "# Nødvedigt, hvis ændinger skal tage effekt uden at genstarte Python Kernel\n",
    "%load_ext autoreload\n",
    "%autoreload 2"
   ]
  },
  {
   "cell_type": "markdown",
   "metadata": {
    "slideshow": {
     "slide_type": "slide"
    }
   },
   "source": [
    "# Part 1: t-test, p-værdier og konfidensintervaller"
   ]
  },
  {
   "cell_type": "markdown",
   "metadata": {
    "slideshow": {
     "slide_type": "slide"
    }
   },
   "source": [
    "### Lønregression: Timeløn, uddannelse og erfaring\n",
    "- Vi estimerer en lineær model for timeløn, uddannelse og erfaring:\n",
    "$$\n",
    "\t\t\\log(\\text{wage}_i) = \\beta _{0}+\\beta _{1}\\text{educ}_i+\\beta_{2}\\text{experience}_i+\\beta _{3}\\text{experience}^2_i+\\beta _{4}\\text{experience}^3_i+u_i\n",
    "$$\n",
    "- Vi ønsker f.eks. at teste hypotesen $H_0$ mod det dobbelt sidede alternativ $H_1: \\beta_4 \\neq 0$\n",
    "\n",
    "$$H_0: \\beta_4=0 \\quad H_1: \\beta_4 \\neq 0$$\n",
    "\n",
    "Test størrelse\n",
    "$$t=\\frac{\\hat{\\beta}_4-0}{\\sqrt{Var(\\hat{\\beta}_4)}} \\sim t(n-k)$$"
   ]
  },
  {
   "cell_type": "markdown",
   "metadata": {
    "slideshow": {
     "slide_type": "slide"
    }
   },
   "source": [
    "### Indlæs data, estimer model og print resulater "
   ]
  },
  {
   "cell_type": "code",
   "execution_count": 2,
   "metadata": {
    "scrolled": true,
    "slideshow": {
     "slide_type": "-"
    }
   },
   "outputs": [
    {
     "name": "stdout",
     "output_type": "stream",
     "text": [
      "OLS Regression Results for Dependent Variable: lwage\n",
      "==================================================================================================\n",
      "Number of Observations: 1078\n",
      "Degrees of Freedom: 1073 (Residual), 5 (Model)\n",
      "R-squared: 0.2058\n",
      "TSS: 111.2507, RSS: 88.3507, ESS: 22.9000\n",
      "==================================================================================================\n",
      "Variable                Coefficient     Std. Error           t       P>|t|    95% Conf. Interval\n",
      "--------------------------------------------------------------------------------------------------\n",
      "const                        4.2699         0.0466     91.7066      0.0000   [  4.1786, 4.3613  ]\n",
      "educ                         0.0270         0.0027     10.1735      0.0000   [  0.0218, 0.0322  ]\n",
      "experience                   0.0428         0.0102      4.1983      0.0000   [  0.0228, 0.0628  ]\n",
      "experience2                 -0.0018         0.0007     -2.3782      0.0176   [ -0.0032, -0.0003 ]\n",
      "experience3                  0.0286         0.0154      1.8543      0.0640   [ -0.0017, 0.0588  ]\n",
      "==================================================================================================\n"
     ]
    }
   ],
   "source": [
    "import pandas as pd\n",
    "import numpy as np\n",
    "import mymlr as mlr # see mymlr.py\n",
    "\n",
    "# Load the data and create variables\n",
    "df = pd.read_stata(r\"../data/wage.dta\")   # Load data\n",
    "df['const'] = 1                           # Add constant term\n",
    "df['lwage'] = np.log(df['wage'])          # Log of wage\n",
    "df['experience2'] = df['experience'] ** 2 # Add experience²\n",
    "df['experience3'] = df['experience'] ** 3 /1000 # Add experience^3 (divided by 1000)\n",
    "\n",
    "# Estimate the model using the mlr.ols function\n",
    "rhs=['const', 'educ', 'experience', 'experience2','experience3'] # Variables in the model\n",
    "reg1 = mlr.ols(df[rhs], df['lwage']) # estimate model using mlr\n",
    "mlr.output(reg1) # Print the summary using the mlr.summary() function\n"
   ]
  },
  {
   "cell_type": "markdown",
   "metadata": {
    "slideshow": {
     "slide_type": "slide"
    }
   },
   "source": [
    "### Beregn test størrelser, p-værdier og konfidensintervaller\n",
    "**Er $t$ større end kritisk værdi for $\\beta_4$? Afvises $H_0$ til fordel for $H_1$?**"
   ]
  },
  {
   "cell_type": "code",
   "execution_count": 3,
   "metadata": {
    "slideshow": {
     "slide_type": "-"
    }
   },
   "outputs": [
    {
     "name": "stdout",
     "output_type": "stream",
     "text": [
      "   Variable  Coefficient  Std. Error  t-stat  P>|t|  CI_low  CI_high\n",
      "      const       4.2699      0.0466 91.7066 0.0000  4.1786   4.3613\n",
      "       educ       0.0270      0.0027 10.1735 0.0000  0.0218   0.0322\n",
      " experience       0.0428      0.0102  4.1983 0.0000  0.0228   0.0628\n",
      "experience2      -0.0018      0.0007 -2.3782 0.0176 -0.0032  -0.0003\n",
      "experience3       0.0286      0.0154  1.8543 0.0640 -0.0017   0.0588\n",
      "Critial t-value for 95% for to sidet test: 1.9622\n"
     ]
    }
   ],
   "source": [
    "from scipy import stats\n",
    "t_stat = reg1['beta_hat'] / reg1['standard_errors']  # t-statistics: β / se(β)\n",
    "n= reg1['n'] # Number of observations\n",
    "k= reg1['k'] # Number of regressors (including constant)\n",
    "alpha = 0.05 # Significance level\n",
    "t_crit = stats.t.ppf(1-alpha/2, df=n - k) # Critical t-value for two-tailed test\n",
    "p_values = 2 * (1 - stats.t.cdf(np.abs(t_stat), df=n - k)) # Two-tailed p-values for t-stats\n",
    "CI = np.array([reg1['beta_hat'] - t_crit * reg1['standard_errors'], \n",
    "               reg1['beta_hat'] + t_crit * reg1['standard_errors']]) # Confidence intervals\n",
    "\n",
    "# Create a DataFrame to store results nicely without confidence intervals\n",
    "output_df = pd.DataFrame({'Variable': reg1['lbl_X'],'Coefficient': reg1['beta_hat'].flatten(),'Std. Error': \n",
    "                          reg1['standard_errors'].flatten(),'t-stat': t_stat.flatten(),'P>|t|': p_values.flatten(), 'CI_low': CI[0].flatten(), 'CI_high': CI[1].flatten()\n",
    "                          })\n",
    "\n",
    "# Round values for better readability \n",
    "output_df=output_df.round(4)\n",
    "# Display the DataFrame without the row index\n",
    "print(output_df.to_string(index=False))\n",
    "print(f\"Critial t-value for 95% for to sidet test: {t_crit:.4f}\")"
   ]
  },
  {
   "cell_type": "markdown",
   "metadata": {
    "slideshow": {
     "slide_type": "slide"
    }
   },
   "source": [
    "# Part 2: Returns to scale in French manufacturing\n",
    "Hypotese test med lineære restriktioner på en eller flere parametre"
   ]
  },
  {
   "cell_type": "markdown",
   "metadata": {
    "slideshow": {
     "slide_type": "slide"
    }
   },
   "source": [
    "### Estimation af Cobb-Douglas produktionsfunktion\n",
    "- Vi estimerer en Cobb-Douglas produktionsfunktion for fransk fremstillingsindustri.\n",
    "- Datasættet dækker N = 441 virksomheder i perioden 1968–79.\n",
    "- Variable:\n",
    "    - ldsa (log af deflateret omsætning, $\\log(y_{it})$), \n",
    "    - lemp (log af beskæftigelse, $\\log(L_{it})$), \n",
    "    - lcap (log af justeret kapitalbeholdning, $\\log(K_{it})$)\n",
    "    \n",
    "    Vi vil behandle deflateret omsætning som produktionsoutput og estimere Cobb-Douglas formen for produktionen, hvilket fører til følgende sammenhæng:\n",
    "\n",
    "$$ \\log(Y_{it}) = a_0 + \\alpha \\log(L_{it}) + \\beta \\log(K_{it})  + u_{it} $$\n",
    "\n"
   ]
  },
  {
   "cell_type": "code",
   "execution_count": 4,
   "metadata": {
    "scrolled": true
   },
   "outputs": [
    {
     "data": {
      "text/html": [
       "<div>\n",
       "<style scoped>\n",
       "    .dataframe tbody tr th:only-of-type {\n",
       "        vertical-align: middle;\n",
       "    }\n",
       "\n",
       "    .dataframe tbody tr th {\n",
       "        vertical-align: top;\n",
       "    }\n",
       "\n",
       "    .dataframe thead th {\n",
       "        text-align: right;\n",
       "    }\n",
       "</style>\n",
       "<table border=\"1\" class=\"dataframe\">\n",
       "  <thead>\n",
       "    <tr style=\"text-align: right;\">\n",
       "      <th></th>\n",
       "      <th>firmid</th>\n",
       "      <th>year</th>\n",
       "      <th>lcap</th>\n",
       "      <th>lemp</th>\n",
       "      <th>ldsa</th>\n",
       "      <th>const</th>\n",
       "    </tr>\n",
       "  </thead>\n",
       "  <tbody>\n",
       "    <tr>\n",
       "      <th>count</th>\n",
       "      <td>5292.0000</td>\n",
       "      <td>5292.0000</td>\n",
       "      <td>5292.0000</td>\n",
       "      <td>5292.0000</td>\n",
       "      <td>5292.0000</td>\n",
       "      <td>5292.0000</td>\n",
       "    </tr>\n",
       "    <tr>\n",
       "      <th>mean</th>\n",
       "      <td>221.0000</td>\n",
       "      <td>1973.5000</td>\n",
       "      <td>-0.0000</td>\n",
       "      <td>-0.0000</td>\n",
       "      <td>0.0000</td>\n",
       "      <td>1.0000</td>\n",
       "    </tr>\n",
       "    <tr>\n",
       "      <th>std</th>\n",
       "      <td>127.3174</td>\n",
       "      <td>3.4524</td>\n",
       "      <td>1.3110</td>\n",
       "      <td>1.1801</td>\n",
       "      <td>1.2325</td>\n",
       "      <td>0.0000</td>\n",
       "    </tr>\n",
       "    <tr>\n",
       "      <th>min</th>\n",
       "      <td>1.0000</td>\n",
       "      <td>1968.0000</td>\n",
       "      <td>-3.8649</td>\n",
       "      <td>-3.3828</td>\n",
       "      <td>-3.5515</td>\n",
       "      <td>1.0000</td>\n",
       "    </tr>\n",
       "    <tr>\n",
       "      <th>25%</th>\n",
       "      <td>111.0000</td>\n",
       "      <td>1970.7500</td>\n",
       "      <td>-0.9083</td>\n",
       "      <td>-0.7855</td>\n",
       "      <td>-0.9280</td>\n",
       "      <td>1.0000</td>\n",
       "    </tr>\n",
       "    <tr>\n",
       "      <th>50%</th>\n",
       "      <td>221.0000</td>\n",
       "      <td>1973.5000</td>\n",
       "      <td>-0.1181</td>\n",
       "      <td>-0.1137</td>\n",
       "      <td>-0.1030</td>\n",
       "      <td>1.0000</td>\n",
       "    </tr>\n",
       "    <tr>\n",
       "      <th>75%</th>\n",
       "      <td>331.0000</td>\n",
       "      <td>1976.2500</td>\n",
       "      <td>0.9063</td>\n",
       "      <td>0.7930</td>\n",
       "      <td>0.8562</td>\n",
       "      <td>1.0000</td>\n",
       "    </tr>\n",
       "    <tr>\n",
       "      <th>max</th>\n",
       "      <td>441.0000</td>\n",
       "      <td>1979.0000</td>\n",
       "      <td>4.1037</td>\n",
       "      <td>3.3713</td>\n",
       "      <td>3.9134</td>\n",
       "      <td>1.0000</td>\n",
       "    </tr>\n",
       "  </tbody>\n",
       "</table>\n",
       "</div>"
      ],
      "text/plain": [
       "         firmid      year      lcap      lemp      ldsa     const\n",
       "count 5292.0000 5292.0000 5292.0000 5292.0000 5292.0000 5292.0000\n",
       "mean   221.0000 1973.5000   -0.0000   -0.0000    0.0000    1.0000\n",
       "std    127.3174    3.4524    1.3110    1.1801    1.2325    0.0000\n",
       "min      1.0000 1968.0000   -3.8649   -3.3828   -3.5515    1.0000\n",
       "25%    111.0000 1970.7500   -0.9083   -0.7855   -0.9280    1.0000\n",
       "50%    221.0000 1973.5000   -0.1181   -0.1137   -0.1030    1.0000\n",
       "75%    331.0000 1976.2500    0.9063    0.7930    0.8562    1.0000\n",
       "max    441.0000 1979.0000    4.1037    3.3713    3.9134    1.0000"
      ]
     },
     "execution_count": 4,
     "metadata": {},
     "output_type": "execute_result"
    }
   ],
   "source": [
    "dat=pd.read_csv('data/firms.csv') # Load data\n",
    "dat['const'] = 1 # Add constant term\n",
    "pd.options.display.float_format = '{:.4f}'.format # format output to 4 decimal points\n",
    "dat.describe()"
   ]
  },
  {
   "cell_type": "markdown",
   "metadata": {
    "slideshow": {
     "slide_type": "slide"
    }
   },
   "source": [
    "### Estimer model og print resulater"
   ]
  },
  {
   "cell_type": "code",
   "execution_count": 5,
   "metadata": {},
   "outputs": [
    {
     "name": "stdout",
     "output_type": "stream",
     "text": [
      "OLS Regression Results for Dependent Variable: ldsa\n",
      "==================================================================================================\n",
      "Number of Observations: 5292\n",
      "Degrees of Freedom: 5289 (Residual), 3 (Model)\n",
      "R-squared: 0.9139\n",
      "TSS: 8037.3115, RSS: 691.9438, ESS: 7345.3677\n",
      "==================================================================================================\n",
      "Variable                Coefficient     Std. Error           t       P>|t|    95% Conf. Interval\n",
      "--------------------------------------------------------------------------------------------------\n",
      "const                        0.0000         0.0050      0.0000      1.0000   [ -0.0097, 0.0097  ]\n",
      "lcap                         0.3100         0.0091     33.9237      0.0000   [  0.2921, 0.3280  ]\n",
      "lemp                         0.6748         0.0102     66.4625      0.0000   [  0.6549, 0.6947  ]\n",
      "==================================================================================================\n"
     ]
    }
   ],
   "source": [
    "import mymlr as mlr # see mymlr.py\n",
    "CobbDouglas1 = mlr.ols(dat[['const', 'lcap', 'lemp']], dat['ldsa']) # estimate model using mlr\n",
    "mlr.output(CobbDouglas1) # Print the summary using the mlr.summary() function"
   ]
  },
  {
   "cell_type": "markdown",
   "metadata": {
    "slideshow": {
     "slide_type": "slide"
    }
   },
   "source": [
    "### Test for constant returns to scale\n",
    "Model\n",
    "$$\n",
    "\\log(Y_{it}) = a_0 + \\alpha \\log(L_{it}) + \\beta \\log(K_{it})  + u_{it} \n",
    "$$\n",
    "\n",
    "Vi tester hypothesen (lineær restriktion på flere parametre)\n",
    "$$H_0: \\alpha + \\beta = 1 \\quad H_1: \\alpha + \\beta \\neq 1$$\n",
    "\n",
    "Test størrelse\n",
    "$$t=\\frac{\\hat{\\alpha}+\\hat{\\beta}-1}{se(\\hat{\\alpha}+\\hat{\\beta})}=\\frac{\\hat{\\alpha}+\\hat{\\beta}-1}{\\sqrt{Var(\\hat{\\alpha})+Var(\\hat{\\beta})+2Cov(\\hat{\\alpha},\\hat{\\beta})}} \\sim t(n-k)$$"
   ]
  },
  {
   "cell_type": "markdown",
   "metadata": {
    "slideshow": {
     "slide_type": "slide"
    }
   },
   "source": [
    "### Let's code"
   ]
  },
  {
   "cell_type": "code",
   "execution_count": 6,
   "metadata": {},
   "outputs": [
    {
     "name": "stdout",
     "output_type": "stream",
     "text": [
      "t-statistic for testing constant returns to scale : (α + β  -1)/ se(α + β) =-3.6028\n",
      "Critial t-value for 95% for to sidet test: 1.9604\n",
      "p-value for testing constant returns to scale : 0.0003\n"
     ]
    }
   ],
   "source": [
    "# t-test for constant returns to scale (test of H0: α + β  = 1)\n",
    "num=CobbDouglas1['beta_hat'][1]+CobbDouglas1['beta_hat'][2] - 1  # α + β -1\n",
    "var_beta_hat=CobbDouglas1['var_beta_hat'] # Variance-covariance matrix of beta_hat\n",
    "denum=np.sqrt(var_beta_hat[1,1]+var_beta_hat[2,2]+2*var_beta_hat[1,2]) # Standard error of α + β \n",
    "t_stat=num/denum # t-statistics: (α + β -1)/ se(α + β)\n",
    "print(f\"t-statistic for testing constant returns to scale : (α + β  -1)/ se(α + β) ={t_stat[0]:.4f}\")\n",
    "t_crit = stats.t.ppf(1-alpha/2, df=len(dat)-3) # Critical t-value for two-tailed test\n",
    "print(f\"Critial t-value for 95% for to sidet test: {t_crit:.4f}\")\n",
    "p_val = 2 * (1 - stats.t.cdf(np.abs(t_stat), df=len(dat)-3)) # Two-tailed p-values for t-stats\n",
    "print(f\"p-value for testing constant returns to scale : {p_val[0]:.4f}\")\n"
   ]
  },
  {
   "cell_type": "markdown",
   "metadata": {
    "slideshow": {
     "slide_type": "slide"
    }
   },
   "source": [
    "### Test for constant returns to scale (test på een parameter)\n",
    "Cobb-Douglas produktionsfunktion\n",
    "$$\n",
    "\\log(Y_{it}) = a_0 + \\alpha \\log(L_{it}) + \\beta \\log(K_{it})  + u_{it} \n",
    "$$\n",
    "Transformér modellen så vi kan lave hypotesetest med en parameter:\n",
    "$$\n",
    "\\log(Y_{it}) = a_0 + \\theta \\log(L_{it}) + \\beta (\\log(K_{it})-\\log(L_{it}))  + u_{it}$$\n",
    "hvor $\\theta = \\alpha + \\beta$\n",
    "\n",
    "Vi tester hypothesen:\n",
    "$$H_0: \\theta = 1 \\quad H_1: \\theta \\neq 1$$\n",
    "\n",
    "Test størrelse\n",
    "$$t=\\frac{\\hat{\\theta}-1}{\\sqrt{Var(\\hat{\\theta})}} \\sim t(n-k)$$"
   ]
  },
  {
   "cell_type": "markdown",
   "metadata": {
    "slideshow": {
     "slide_type": "slide"
    }
   },
   "source": [
    "### Let's code"
   ]
  },
  {
   "cell_type": "code",
   "execution_count": 7,
   "metadata": {},
   "outputs": [
    {
     "name": "stdout",
     "output_type": "stream",
     "text": [
      "OLS Regression Results for Dependent Variable: ldsa\n",
      "==================================================================================================\n",
      "Number of Observations: 5292\n",
      "Degrees of Freedom: 5289 (Residual), 3 (Model)\n",
      "R-squared: 0.9139\n",
      "TSS: 8037.3115, RSS: 691.9438, ESS: 7345.3677\n",
      "==================================================================================================\n",
      "Variable                Coefficient     Std. Error           t       P>|t|    95% Conf. Interval\n",
      "--------------------------------------------------------------------------------------------------\n",
      "const                        0.0000         0.0050      0.0000      1.0000   [ -0.0097, 0.0097  ]\n",
      "lemp                         0.9848         0.0042    233.6604      0.0000   [  0.9766, 0.9931  ]\n",
      "log(cap/emp)                 0.3100         0.0091     33.9237      0.0000   [  0.2921, 0.3280  ]\n",
      "==================================================================================================\n",
      "Coefficient for log(emp): [0.98481525]\n",
      "t-statistic for testing constant returns to scale : (θ  -1) / se(θ) =-3.6028\n",
      "Critial t-value for 95% for to sidet test: 1.9604\n",
      "p-value for testing constant returns to scale : 0.0003\n"
     ]
    }
   ],
   "source": [
    "\n",
    "# Estimer model med log(k/l) som eneste forklarende variabel\n",
    "dat['log(cap/emp)'] = dat['lcap'] - dat['lemp'] # Create new variable log(k/l)\n",
    "CobbDouglas2 = mlr.ols(dat[['const', 'lemp', 'log(cap/emp)']], dat['ldsa']) # estimate model using mlr\n",
    "mlr.output(CobbDouglas2) # Print the summary using the mlr.summary() function\n",
    "\n",
    "# t-statistics: \\theta  -1 / se(\\theta)\n",
    "print('Coefficient for log(emp):',CobbDouglas2['beta_hat'][1])\n",
    "t_stat2=(CobbDouglas2['beta_hat'][1] -1) / CobbDouglas2['standard_errors'][1] # t-statistics: θ -1 / se(θ)\n",
    "print(f\"t-statistic for testing constant returns to scale : (θ  -1) / se(θ) ={t_stat2[0]:.4f}\")\n",
    "t_crit2 = stats.t.ppf(1-alpha/2, df=len(dat)-3) # Critical t-value for two-tailed test\n",
    "print(f\"Critial t-value for 95% for to sidet test: {t_crit2:.4f}\")\n",
    "p_val2 = 2 * (1 - stats.t.cdf(np.abs(t_stat2), df=len(dat)-3)) # Two-tailed p-values for t-stats\n",
    "print(f\"p-value for testing constant returns to scale : {p_val2[0]:.4f}\")"
   ]
  },
  {
   "cell_type": "markdown",
   "metadata": {
    "slideshow": {
     "slide_type": "slide"
    }
   },
   "source": [
    "## Part 3: Test at multible lineære hypoteser (F-test)\n",
    "Tilbage til lønligningen"
   ]
  },
  {
   "cell_type": "code",
   "execution_count": 8,
   "metadata": {},
   "outputs": [
    {
     "name": "stdout",
     "output_type": "stream",
     "text": [
      "                    Model 1  Model 2\n",
      "Dependent variable    lwage    lwage\n",
      "             const   4.2699   4.5400\n",
      "                   (0.0466) (0.0400)\n",
      "        experience   0.0428   0.0536\n",
      "                   (0.0102) (0.0106)\n",
      "       experience2  -0.0018  -0.0025\n",
      "                   (0.0007) (0.0008)\n",
      "       experience3   0.0286   0.0413\n",
      "                   (0.0154) (0.0161)\n",
      "              educ   0.0270         \n",
      "                   (0.0027)         \n",
      "         R_squared   0.2058   0.1292\n",
      "               TSS 111.2507 111.2507\n",
      "               RSS  88.3507  96.8729\n",
      "               ESS  22.9000  14.3778\n",
      "                 n     1078     1078\n",
      "F-statistic: 103.4994\n",
      "P-value: 0.0000\n"
     ]
    }
   ],
   "source": [
    "y=df['lwage']\n",
    "X=df[['const', 'educ', 'experience', 'experience2','experience3']]\n",
    "X_r = X.drop(columns=['educ'])  # Restrict the model by removing 'educ'\n",
    "\n",
    "# Fit the unrestricted model (full model)\n",
    "m_ur = mlr.ols(X, y)  # X_full includes educ, experience, experience2, experience3\n",
    "\n",
    "# Fit the restricted model (for example, excluding 'educ')\n",
    "m_r = mlr.ols(X_r, y)\n",
    "\n",
    "mlr.summary([m_ur, m_r])\n",
    "\n",
    "# Number of observations (n) and parameters (k) in the unrestricted model\n",
    "n = m_ur['n']\n",
    "k_ur = X.shape[1]  # Number of columns in X_full (including intercept)\n",
    "k_r = X_r.shape[1]  # Number of columns in X_restricted (including intercept)\n",
    "\n",
    "# Residual sum of squares (RSS) for both models\n",
    "RSS_ur = m_ur['RSS']\n",
    "RSS_r = m_r['RSS']\n",
    "\n",
    "# Number of restrictions (q) - this is the difference in parameters between the models\n",
    "q = k_ur - k_r\n",
    "\n",
    "# Compute the F-statistic\n",
    "F_stat = ((RSS_r - RSS_ur) / q) / (RSS_ur / (n - k_ur))\n",
    "\n",
    "# Compute the p-value based on the F-distribution\n",
    "p_value = 1 - stats.f.cdf(F_stat, q, n - k_ur)\n",
    "\n",
    "# Display the results\n",
    "print(f\"F-statistic: {F_stat:.4f}\")\n",
    "print(f\"P-value: {p_value:.4f}\")\n"
   ]
  }
 ],
 "metadata": {
  "celltoolbar": "Slideshow",
  "date": 1602643870.398518,
  "filename": "38_optimization.rst",
  "kernelspec": {
   "display_name": "Python 3 (ipykernel)",
   "language": "python",
   "name": "python3"
  },
  "language_info": {
   "codemirror_mode": {
    "name": "ipython",
    "version": 3
   },
   "file_extension": ".py",
   "mimetype": "text/x-python",
   "name": "python",
   "nbconvert_exporter": "python",
   "pygments_lexer": "ipython3",
   "version": "3.9.12"
  },
  "title": "Foundations of Computational Economics #38"
 },
 "nbformat": 4,
 "nbformat_minor": 4
}
