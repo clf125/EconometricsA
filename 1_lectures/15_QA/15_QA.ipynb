{
 "cells": [
  {
   "cell_type": "markdown",
   "metadata": {
    "slideshow": {
     "slide_type": "slide"
    }
   },
   "source": [
    "#  Q & A Session\n",
    "\n",
    "### Econometrics A (ØkA)\n",
    "\n",
    "\n",
    "Bertel Schjerning\n",
    "\n",
    "Department of Economics, University of Copenhagen\n"
   ]
  },
  {
   "cell_type": "markdown",
   "metadata": {
    "slideshow": {
     "slide_type": "slide"
    }
   },
   "source": [
    "## Gode råd\n",
    "\n",
    "1. **Tidsstyring**: Fordel din tid omhyggeligt på hver del af eksamen. Læs alle spørgsmål igennem først og vurder deres sværhedsgrad. Planlæg at bruge mere tid på sektioner, der tæller mest i procent, og som kan indebære mere komplekse beregninger eller fortolkninger.\n",
    "\n",
    "2. **Forstå spørgsmålet**: Tag dig tid til fuldt ud at forstå, hvad der bliver spurgt om, før du begynder på beregninger eller kodning. Vær opmærksom på nøgleord som \"fortolk\", \"estimer\" eller \"sammenlign\", da disse angiver, hvad der er fokus i dit svar.\n",
    "\n",
    "3. **Prioritér klarhed i dine svar**: Fokuser på at præsentere din analyse klart, især når du skriver dine konklusioner eller diskuterer resultater. Brug figurer og tabeller effektivt, men sørg for, at de er korrekt mærkede og integreret i dine forklaringer.\n",
    "\n",
    "4. **Balancer detaljer og kortfattethed**: Vær præcis men kortfattet i dine forklaringer. Inkluder alle relevante detaljer, men undgå at gå unødvendigt i dybden, især for standardmetoder eller velkendte begreber.\n",
    "\n",
    "5. **Tjek din kode**: Sørg for, at al kode, du inkluderer, kører uden fejl og giver resultater, der er konsistente med dem, du rapporterer i dine svar. Dette er især vigtigt, hvis eksamen kræver, at du afleverer en script, der kan køres."
   ]
  },
  {
   "cell_type": "markdown",
   "metadata": {
    "slideshow": {
     "slide_type": "slide"
    }
   },
   "source": [
    "## Flere gode råd\n",
    "6. **Fortolk resultaterne omhyggeligt**: Når du diskuterer resultaterne af regressioner eller tests, fokuser på, hvad koefficienterne betyder i den økonomiske kontekst. For eksempel, forklar hvad koefficienten for prisen i en efterspørgselsligning fortæller om forbrugernes prisfølsomhed.\n",
    "\n",
    "7. **Vær opmærksom på økonometriske faldgruber**: Husk almindelige problemstillinger som heteroskedasticitet, endogenitet og multikollinearitet. Hvis et spørgsmål beder dig om at teste for eller rette for disse, skal du sørge for at tage hånd om det grundigt.\n",
    "\n",
    "8. **Henvis til nøglebegreber**: Hvor det er passende, nævn relevante økonometriske teorier eller metoder. Dette viser din forståelse af, hvorfor du anvender en bestemt metode eller model.\n",
    "\n",
    "9. **Brug visualiseringer**: Når du bliver bedt om at lave en beskrivende analyse, kan velvalgte grafer spare tid og formidle mange informationer hurtigt. Vær opmærksom på, hvilken type graf der bedst illustrerer de relationer, du analyserer.\n",
    "\n",
    "10. **Glem ikke antagelserne**: Beskriv tydeligt de antagelser, du gør, når du udfører tests eller fortolker modeller. Dette viser en god forståelse af begrænsningerne og omfanget af din analyse.\n",
    "\n",
    "11. **Brug relevante værktøjer**: Medmindre det specifikt nævnes, at du skal implementere en metode eller beregning ved kun at bruge fx pandas eller numpy, er det helt fint at anvende de funktioner, vi har udviklet i kurset, samt standardbiblioteker som `statsmodels` til regressioner. Det vigtigste er, at du forstår, hvad softwaren gør, og kan forklare det."
   ]
  }
 ],
 "metadata": {
  "celltoolbar": "Slideshow",
  "date": 1602643870.398518,
  "filename": "38_optimization.rst",
  "kernelspec": {
   "display_name": "Python 3 (ipykernel)",
   "language": "python",
   "name": "python3"
  },
  "language_info": {
   "codemirror_mode": {
    "name": "ipython",
    "version": 3
   },
   "file_extension": ".py",
   "mimetype": "text/x-python",
   "name": "python",
   "nbconvert_exporter": "python",
   "pygments_lexer": "ipython3",
   "version": "3.9.12"
  },
  "title": "Foundations of Computational Economics #38"
 },
 "nbformat": 4,
 "nbformat_minor": 4
}
